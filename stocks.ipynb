{
 "cells": [
  {
   "cell_type": "markdown",
   "metadata": {},
   "source": [
    "# Stock Trades by Members of the US House of Representatives\n",
    "\n",
    "This project uses public data about the stock trades made by members of the US House of Representatives. This data is collected and maintained by Timothy Carambat as part of the [House Stock Watcher](https://housestockwatcher.com/) project. The project describes itself as follows:\n",
    "\n",
    "> With recent and ongoing investigations of incumbent congressional members being investigated for potentially violating the STOCK act. This website compiles this publicly available information in a format that is easier to digest then the original PDF source.\n",
    ">\n",
    "> Members of Congress must report periodic reports of their asset transactions. This website is purely for an informative purpose and aid in transparency.\n",
    ">\n",
    "> This site does not manipluate or censor any of the information from the original source. All data is transcribed by our community of contributors, which you can join for free by going to our transcription tool. Our moderation team takes great care in ensuring the accuracy of the information.\n",
    ">\n",
    "> This site is built and maintained by Timothy Carambat and supported with our contributors."
   ]
  },
  {
   "cell_type": "markdown",
   "metadata": {},
   "source": [
    "### Getting the Data\n",
    "\n",
    "The full data set of stock trade disclosures is available as a CSV or as JSON at https://housestockwatcher.com/api.\n",
    "\n",
    "This data set does not, however, contain the political affiliation of the congresspeople. If you wish to investigate a question that relies on having this information, you'll need to find another dataset that contains it and perform a merge. *Hint*: Kaggle is a useful source of data sets."
   ]
  },
  {
   "cell_type": "markdown",
   "metadata": {},
   "source": [
    "\n",
    "### Cleaning and EDA\n",
    "\n",
    "- Clean the data.\n",
    "    - Certain fields have \"missing\" data that isn't labeled as missing. For example, there are fields with the value \"--.\" Do some exploration to find those values and convert them to null values.\n",
    "    - You may also want to clean up the date columns to enable time-series exploration.\n",
    "- Understand the data in ways relevant to your question using univariate and bivariate analysis of the data as well as aggregations.\n",
    "\n",
    "\n",
    "### Assessment of Missingness\n",
    "\n",
    "- Assess the missingness per the requirements in `project03.ipynb`\n",
    "\n",
    "### Hypothesis Test / Permutation Test\n",
    "Find a hypothesis test or permutation test to perform. You can use the questions at the top of the notebook for inspiration."
   ]
  },
  {
   "cell_type": "markdown",
   "metadata": {},
   "source": [
    "# Summary of Findings\n",
    "\n",
    "### Introduction\n",
    "We want to explore whether the political affiliation of the congresspeople will influence their stock trade amount. Therefore, we mainly utilize two datasets to answer this question. The first dataset includes the congresspeople's names, the ticker of their trade, the transaction date and so on. We mainly focus on each year's congresspeople's name and their trade amount each day. The second dataset comes from the Kaggle, which includes political affiliations corresponding to each of the congresspeople. We merge these two datasets and then find their underlying relationship.\n",
    "\n",
    "### Cleaning and EDA\n",
    "#### Cleaning\n",
    "Because our question relies on the political affiliation of the congress people, we start by finding dataset that contains it. The dataset we used was `\"house_member_116.csv\"` from https://www.kaggle.com/datasets/aavigan/house-of-representatives-congress-116/versions/4/code. After reading in the house_member dataset, we kept only the `\"name\"` and the `\"current_party\"` columns as a new dataframe named 'affiliate'. \n",
    "\n",
    "The next step is to reformat the `\"representative\"` column in the stock dataset and the `\"name\"` column in the affiliate dataset so that we can perform a merge. The `\"representative\"` column contains the title and the Full, initial capitalized name of each house member; whereas the `\"name\"` column contains lower case names(most of them are only first and last names, a few contains middle names) connected with a hyphen. We changed both columns into the format of lower case first and last name and convert some short form names (jim & james) in th `\"name\"` column, and then perform the merge.\n",
    "\n",
    "After merging, we found 26 names in the `\"representative\"` columns that is not in the `\"name\"` dataset. We mannually find the affiliation for these representatives. The affiliation data is stored in a new column named `\"current_party\"`. After checking through the column, we found that there are only three representatives from the Independent party and since our goal is to investigate between Democratic and Republican, we exclude these three representatives from our data which cause the losing of three rows.\n",
    "\n",
    "We then fill up the missingness in the stock dataset. By checking, there are missing value as \"None\" in \"asset_description\" and \"owner\", and as \"--\" in \"owner\" and \"ticker\". We replace those with `np.nan`.  \n",
    "\n",
    "Then We want to convert the data type of certain columns to format that is easy to calculate, especially convert the amount column to numerical value. For the amount column, we decided to take the midpoint of the amount if there is an interval (ie. for \"1,001 - 15,000\" we take (1001+15000)//2)=8000). We use floor divison because there are categories like \"1,000 - 15,000\" and \"1,001 - 15,000\". We consider them as the same. If there is only single value such as \"1,001+\", we take the value itself. Samples from the results are checked with the Summary by Rep section in the House Stock Watcher website. The resulting average amount is stored in a new column named `\"avg_amount\"`.\n",
    "\n",
    "In the last step, we convert the \"disclosure_date\" and \"transaction_date\" into datetime object.\n",
    "\n",
    "#### EDA\n",
    "- We plot a bar chart for the `\"avg_amount\"` column alone to see what amount does most the trades happen within. The result of this is around $8000.\n",
    "- We then create a pivot table with index being the avg_amount and columns being the current_party, with aggregate function being \"size\". By this we can see the percentage of each party participates in each stratification of dollar amount. A bar chart is plotted to see the difference between Democratics and Republicans. We can tell that the Democrats tend to trade with lower values whereas the Republicans trade more in the higher values.\n",
    "- We also plot a bar chart to see the most popular tickers being trade. The one with the highest trading value is MSFT(Microsoft Corporation).\n",
    "- A pivot table is created to see the comparison between the amount of trades happens in each year from 2020 to 2022. We can see a decline in transaction amount from 2020 to 2021 generally for both parties. \n",
    "\n",
    "### Assessment of Missingness\n",
    "We first determined which values were missing. There are two types of missing in the dataframe: \"None\" and \"--\". We turn all of the missing values into NaN. These missing values are from Ticker, owner, and asset_description columns. Since asset_description only missing five rows, so we should have paid more attention to it. We mainly focus on examining the reason for Ticker's missing. We did the permutation test for tickers with all of the columns in the dataframe. We find that all of the p-values are more than the significance level of 5%. We fail to reject the null hypothesis of the missingness of Ticker depending on other columns. Then we calculate the average amount of trade and generate new columns. We used the average amount and missingness of the Ticker to do the permutation test. The p-value is 0, which is less than the significance level of 5%. Therefore, we can infer that the missingness of Ticker is related to the trade amount, and this is MAR missingness.\n",
    "\n",
    "### Hypothesis Test\n",
    "Our null hypothesis is party and trade amount are not related – the high average trade amount of the democratic party is due to chance alone. Our alternative hypothesis is party and trade amount is related  – the high average trade amount of the democratic party is not due to chance alone. We choose the mean average of democratic trade amount as the test statistic. Since if the party and trade amount are not related, we randomly pick the same amount of democratic party people from the population and calculate their average, we will get a similar average amount as we calculate the mean of the democratic trade amount. We repeated the experiment and found the final p-value was 0.771. we choose the significance level of 5% because this is the strict level of significance, and we want to avoid a false positive rate. Since the p-value is 0.771, which is bigger than 0.05, we fail to reject the null hypothesis. Therefore, the party and the trade amount are not related."
   ]
  },
  {
   "cell_type": "markdown",
   "metadata": {},
   "source": [
    "# Code"
   ]
  },
  {
   "cell_type": "code",
   "execution_count": 283,
   "metadata": {
    "ExecuteTime": {
     "end_time": "2019-10-31T23:36:28.652554Z",
     "start_time": "2019-10-31T23:36:27.180520Z"
    }
   },
   "outputs": [],
   "source": [
    "import matplotlib.pyplot as plt\n",
    "import numpy as np\n",
    "import os\n",
    "import pandas as pd\n",
    "import seaborn as sns\n",
    "%matplotlib inline\n",
    "%config InlineBackend.figure_format = 'retina'  # Higher resolution figures"
   ]
  },
  {
   "cell_type": "code",
   "execution_count": 284,
   "metadata": {},
   "outputs": [],
   "source": [
    "import glob\n",
    "import time\n",
    "import requests\n",
    "import bs4\n",
    "\\\n",
    "import lxml"
   ]
  },
  {
   "cell_type": "markdown",
   "metadata": {},
   "source": [
    "### Cleaning and EDA"
   ]
  },
  {
   "cell_type": "code",
   "execution_count": 285,
   "metadata": {
    "ExecuteTime": {
     "end_time": "2019-10-31T23:36:28.657068Z",
     "start_time": "2019-10-31T23:36:28.654650Z"
    }
   },
   "outputs": [
    {
     "data": {
      "text/html": [
       "<div>\n",
       "<style scoped>\n",
       "    .dataframe tbody tr th:only-of-type {\n",
       "        vertical-align: middle;\n",
       "    }\n",
       "\n",
       "    .dataframe tbody tr th {\n",
       "        vertical-align: top;\n",
       "    }\n",
       "\n",
       "    .dataframe thead th {\n",
       "        text-align: right;\n",
       "    }\n",
       "</style>\n",
       "<table border=\"1\" class=\"dataframe\">\n",
       "  <thead>\n",
       "    <tr style=\"text-align: right;\">\n",
       "      <th></th>\n",
       "      <th>disclosure_year</th>\n",
       "      <th>disclosure_date</th>\n",
       "      <th>transaction_date</th>\n",
       "      <th>owner</th>\n",
       "      <th>ticker</th>\n",
       "      <th>asset_description</th>\n",
       "      <th>type</th>\n",
       "      <th>amount</th>\n",
       "      <th>representative</th>\n",
       "      <th>district</th>\n",
       "      <th>ptr_link</th>\n",
       "      <th>cap_gains_over_200_usd</th>\n",
       "    </tr>\n",
       "  </thead>\n",
       "  <tbody>\n",
       "    <tr>\n",
       "      <th>0</th>\n",
       "      <td>2021</td>\n",
       "      <td>10/04/2021</td>\n",
       "      <td>2021-09-27</td>\n",
       "      <td>joint</td>\n",
       "      <td>BP</td>\n",
       "      <td>BP plc</td>\n",
       "      <td>purchase</td>\n",
       "      <td>$1,001 - $15,000</td>\n",
       "      <td>Hon. Virginia Foxx</td>\n",
       "      <td>NC05</td>\n",
       "      <td>https://disclosures-clerk.house.gov/public_dis...</td>\n",
       "      <td>False</td>\n",
       "    </tr>\n",
       "    <tr>\n",
       "      <th>1</th>\n",
       "      <td>2021</td>\n",
       "      <td>10/04/2021</td>\n",
       "      <td>2021-09-13</td>\n",
       "      <td>joint</td>\n",
       "      <td>XOM</td>\n",
       "      <td>Exxon Mobil Corporation</td>\n",
       "      <td>purchase</td>\n",
       "      <td>$1,001 - $15,000</td>\n",
       "      <td>Hon. Virginia Foxx</td>\n",
       "      <td>NC05</td>\n",
       "      <td>https://disclosures-clerk.house.gov/public_dis...</td>\n",
       "      <td>False</td>\n",
       "    </tr>\n",
       "    <tr>\n",
       "      <th>2</th>\n",
       "      <td>2021</td>\n",
       "      <td>10/04/2021</td>\n",
       "      <td>2021-09-10</td>\n",
       "      <td>joint</td>\n",
       "      <td>ILPT</td>\n",
       "      <td>Industrial Logistics Properties Trust - Common...</td>\n",
       "      <td>purchase</td>\n",
       "      <td>$15,001 - $50,000</td>\n",
       "      <td>Hon. Virginia Foxx</td>\n",
       "      <td>NC05</td>\n",
       "      <td>https://disclosures-clerk.house.gov/public_dis...</td>\n",
       "      <td>False</td>\n",
       "    </tr>\n",
       "    <tr>\n",
       "      <th>3</th>\n",
       "      <td>2021</td>\n",
       "      <td>10/04/2021</td>\n",
       "      <td>2021-09-28</td>\n",
       "      <td>joint</td>\n",
       "      <td>PM</td>\n",
       "      <td>Phillip Morris International Inc</td>\n",
       "      <td>purchase</td>\n",
       "      <td>$15,001 - $50,000</td>\n",
       "      <td>Hon. Virginia Foxx</td>\n",
       "      <td>NC05</td>\n",
       "      <td>https://disclosures-clerk.house.gov/public_dis...</td>\n",
       "      <td>False</td>\n",
       "    </tr>\n",
       "    <tr>\n",
       "      <th>4</th>\n",
       "      <td>2021</td>\n",
       "      <td>10/04/2021</td>\n",
       "      <td>2021-09-17</td>\n",
       "      <td>self</td>\n",
       "      <td>BLK</td>\n",
       "      <td>BlackRock Inc</td>\n",
       "      <td>sale_partial</td>\n",
       "      <td>$1,001 - $15,000</td>\n",
       "      <td>Hon. Alan S. Lowenthal</td>\n",
       "      <td>CA47</td>\n",
       "      <td>https://disclosures-clerk.house.gov/public_dis...</td>\n",
       "      <td>False</td>\n",
       "    </tr>\n",
       "  </tbody>\n",
       "</table>\n",
       "</div>"
      ],
      "text/plain": [
       "   disclosure_year disclosure_date transaction_date  owner ticker  \\\n",
       "0             2021      10/04/2021       2021-09-27  joint     BP   \n",
       "1             2021      10/04/2021       2021-09-13  joint    XOM   \n",
       "2             2021      10/04/2021       2021-09-10  joint   ILPT   \n",
       "3             2021      10/04/2021       2021-09-28  joint     PM   \n",
       "4             2021      10/04/2021       2021-09-17   self    BLK   \n",
       "\n",
       "                                   asset_description          type  \\\n",
       "0                                             BP plc      purchase   \n",
       "1                            Exxon Mobil Corporation      purchase   \n",
       "2  Industrial Logistics Properties Trust - Common...      purchase   \n",
       "3                   Phillip Morris International Inc      purchase   \n",
       "4                                      BlackRock Inc  sale_partial   \n",
       "\n",
       "              amount          representative district  \\\n",
       "0   $1,001 - $15,000      Hon. Virginia Foxx     NC05   \n",
       "1   $1,001 - $15,000      Hon. Virginia Foxx     NC05   \n",
       "2  $15,001 - $50,000      Hon. Virginia Foxx     NC05   \n",
       "3  $15,001 - $50,000      Hon. Virginia Foxx     NC05   \n",
       "4   $1,001 - $15,000  Hon. Alan S. Lowenthal     CA47   \n",
       "\n",
       "                                            ptr_link  cap_gains_over_200_usd  \n",
       "0  https://disclosures-clerk.house.gov/public_dis...                   False  \n",
       "1  https://disclosures-clerk.house.gov/public_dis...                   False  \n",
       "2  https://disclosures-clerk.house.gov/public_dis...                   False  \n",
       "3  https://disclosures-clerk.house.gov/public_dis...                   False  \n",
       "4  https://disclosures-clerk.house.gov/public_dis...                   False  "
      ]
     },
     "execution_count": 285,
     "metadata": {},
     "output_type": "execute_result"
    }
   ],
   "source": [
    "# We obtain the data from the website and use requests to get the API. use json to read in the data and convert it into the dataframe\n",
    "r = requests.get('https://house-stock-watcher-data.s3-us-west-2.amazonaws.com/data/all_transactions.json')\n",
    "stock = pd.DataFrame(r.json())\n",
    "stock.head()"
   ]
  },
  {
   "cell_type": "markdown",
   "metadata": {},
   "source": [
    "- Because we want to investigate stock trading behavior between political parties, we try to find another dataframe that contains the political affiliation data for the house of representatives. The dataframe we used is from: \n",
    "https://www.kaggle.com/datasets/aavigan/house-of-representatives-congress-116/versions/4/code"
   ]
  },
  {
   "cell_type": "code",
   "execution_count": 304,
   "metadata": {},
   "outputs": [
    {
     "data": {
      "text/html": [
       "<div>\n",
       "<style scoped>\n",
       "    .dataframe tbody tr th:only-of-type {\n",
       "        vertical-align: middle;\n",
       "    }\n",
       "\n",
       "    .dataframe tbody tr th {\n",
       "        vertical-align: top;\n",
       "    }\n",
       "\n",
       "    .dataframe thead th {\n",
       "        text-align: right;\n",
       "    }\n",
       "</style>\n",
       "<table border=\"1\" class=\"dataframe\">\n",
       "  <thead>\n",
       "    <tr style=\"text-align: right;\">\n",
       "      <th></th>\n",
       "      <th>name</th>\n",
       "      <th>current_party</th>\n",
       "    </tr>\n",
       "  </thead>\n",
       "  <tbody>\n",
       "    <tr>\n",
       "      <th>0</th>\n",
       "      <td>ralph-abraham</td>\n",
       "      <td>Republican</td>\n",
       "    </tr>\n",
       "    <tr>\n",
       "      <th>1</th>\n",
       "      <td>alma-adams</td>\n",
       "      <td>Democratic</td>\n",
       "    </tr>\n",
       "    <tr>\n",
       "      <th>2</th>\n",
       "      <td>robert-aderholt</td>\n",
       "      <td>Republican</td>\n",
       "    </tr>\n",
       "    <tr>\n",
       "      <th>3</th>\n",
       "      <td>pete-aguilar</td>\n",
       "      <td>Democratic</td>\n",
       "    </tr>\n",
       "    <tr>\n",
       "      <th>4</th>\n",
       "      <td>rick-allen</td>\n",
       "      <td>Republican</td>\n",
       "    </tr>\n",
       "  </tbody>\n",
       "</table>\n",
       "</div>"
      ],
      "text/plain": [
       "              name current_party\n",
       "0    ralph-abraham    Republican\n",
       "1       alma-adams    Democratic\n",
       "2  robert-aderholt    Republican\n",
       "3     pete-aguilar    Democratic\n",
       "4       rick-allen    Republican"
      ]
     },
     "execution_count": 304,
     "metadata": {},
     "output_type": "execute_result"
    }
   ],
   "source": [
    "# import the data, and takes in the two columns that we need (the name of the representatives and their current party)\n",
    "affiliation = pd.read_csv(\"house_members_116.csv\")\n",
    "affiliate = affiliation[['name', 'current_party']]\n",
    "affiliate.head()"
   ]
  },
  {
   "cell_type": "markdown",
   "metadata": {},
   "source": [
    "The names column in the affiliate dataframe has different format to the representatives column in the stock-watcher dataframe. Therefore we start the cleaning process. "
   ]
  },
  {
   "cell_type": "code",
   "execution_count": 237,
   "metadata": {},
   "outputs": [],
   "source": [
    "# Start by replacing the hyphen in name column into space\n",
    "affiliate = affiliate.assign(name = affiliate['name'].str.replace('-', ' '))"
   ]
  },
  {
   "cell_type": "code",
   "execution_count": 305,
   "metadata": {},
   "outputs": [
    {
     "data": {
      "text/html": [
       "<div>\n",
       "<style scoped>\n",
       "    .dataframe tbody tr th:only-of-type {\n",
       "        vertical-align: middle;\n",
       "    }\n",
       "\n",
       "    .dataframe tbody tr th {\n",
       "        vertical-align: top;\n",
       "    }\n",
       "\n",
       "    .dataframe thead th {\n",
       "        text-align: right;\n",
       "    }\n",
       "</style>\n",
       "<table border=\"1\" class=\"dataframe\">\n",
       "  <thead>\n",
       "    <tr style=\"text-align: right;\">\n",
       "      <th></th>\n",
       "      <th>name</th>\n",
       "      <th>current_party</th>\n",
       "    </tr>\n",
       "  </thead>\n",
       "  <tbody>\n",
       "    <tr>\n",
       "      <th>0</th>\n",
       "      <td>ralph-abraham</td>\n",
       "      <td>Republican</td>\n",
       "    </tr>\n",
       "    <tr>\n",
       "      <th>1</th>\n",
       "      <td>alma-adams</td>\n",
       "      <td>Democratic</td>\n",
       "    </tr>\n",
       "    <tr>\n",
       "      <th>2</th>\n",
       "      <td>robert-aderholt</td>\n",
       "      <td>Republican</td>\n",
       "    </tr>\n",
       "    <tr>\n",
       "      <th>3</th>\n",
       "      <td>pete-aguilar</td>\n",
       "      <td>Democratic</td>\n",
       "    </tr>\n",
       "    <tr>\n",
       "      <th>4</th>\n",
       "      <td>rick-allen</td>\n",
       "      <td>Republican</td>\n",
       "    </tr>\n",
       "  </tbody>\n",
       "</table>\n",
       "</div>"
      ],
      "text/plain": [
       "              name current_party\n",
       "0    ralph-abraham    Republican\n",
       "1       alma-adams    Democratic\n",
       "2  robert-aderholt    Republican\n",
       "3     pete-aguilar    Democratic\n",
       "4       rick-allen    Republican"
      ]
     },
     "execution_count": 305,
     "metadata": {},
     "output_type": "execute_result"
    }
   ],
   "source": [
    "affiliate.head()"
   ]
  },
  {
   "cell_type": "code",
   "execution_count": 239,
   "metadata": {},
   "outputs": [],
   "source": [
    "# The representatives column in stock dataframe contains different titles before the name, and include middle names; where as\n",
    "# the name in the affiliate dataframe mostly have only first and last name in all lower cases. Therefore we create a function to \n",
    "# convert them both to same format: lower case with only first and last name.\n",
    "def clean_name(name):\n",
    "    name = name.replace('Hon. ', '')\n",
    "    name = name.replace('None ', '')\n",
    "    name = name.replace('Mr. ', '')\n",
    "    name = name.replace('Mrs. ', '')\n",
    "    name = name.replace('W. ', '')\n",
    "    no_middle = name.split(' ')[0] +' ' + name.split(' ')[-1]\n",
    "    return no_middle.lower()\n"
   ]
  },
  {
   "cell_type": "code",
   "execution_count": 240,
   "metadata": {},
   "outputs": [],
   "source": [
    "# apply the clean_name method on both columns\n",
    "affiliate['name'] = affiliate['name'].transform(clean_name)\n",
    "stock['cleaned_name'] = stock['representative'].transform(clean_name)"
   ]
  },
  {
   "cell_type": "code",
   "execution_count": 241,
   "metadata": {},
   "outputs": [],
   "source": [
    "# Also, by examine the data, we found names written in different formats in the two dataframes. Convert the name column in affiliate\n",
    "# dataframe to match the representatives. \n",
    "replace_values = {\n",
    "           'rick allen': 'richard allen',\n",
    "           'cynthia axne': 'cindy axne',\n",
    "           'dan crenshaw': 'daniel crenshaw',\n",
    "           'gregory murphy': 'greg murphy',\n",
    "            'w steube': 'greg steube',\n",
    "           'jim costa': 'james costa',\n",
    "           'ro khanna': 'rohit khanna',\n",
    "           'mike gallagher': 'michael gallagher',\n",
    "           'k conaway': 'k. conaway',\n",
    "           'a mceachin': 'aston mceachin',\n",
    "           'ken buck': 'kenneth buck',\n",
    "           'jim banks': 'james banks',\n",
    "           'j hill':'james hill',\n",
    "           'raul grijalva': 'raúl grijalva',\n",
    "           'mario balart': 'mario diaz-balart',\n",
    "           'jim hagedorn':'james hagedorn',\n",
    "           'raja krishnamoorthi': 's. krishnamoorthi',\n",
    "           'wm clay': 'wm. clay',\n",
    "           'tom halleran': \"tom o'halleran\",\n",
    "          }\n",
    "\n",
    "affiliate['name'].replace(replace_values, inplace=True)"
   ]
  },
  {
   "cell_type": "markdown",
   "metadata": {},
   "source": [
    "**We are now done with the first step of cleaning the names. Now try to merge the two dataframes on representatives and name. Since we want to keep all the rows on the stock data, we choose left join.**"
   ]
  },
  {
   "cell_type": "code",
   "execution_count": 242,
   "metadata": {},
   "outputs": [
    {
     "data": {
      "text/html": [
       "<div>\n",
       "<style scoped>\n",
       "    .dataframe tbody tr th:only-of-type {\n",
       "        vertical-align: middle;\n",
       "    }\n",
       "\n",
       "    .dataframe tbody tr th {\n",
       "        vertical-align: top;\n",
       "    }\n",
       "\n",
       "    .dataframe thead th {\n",
       "        text-align: right;\n",
       "    }\n",
       "</style>\n",
       "<table border=\"1\" class=\"dataframe\">\n",
       "  <thead>\n",
       "    <tr style=\"text-align: right;\">\n",
       "      <th></th>\n",
       "      <th>disclosure_year</th>\n",
       "      <th>disclosure_date</th>\n",
       "      <th>transaction_date</th>\n",
       "      <th>owner</th>\n",
       "      <th>ticker</th>\n",
       "      <th>asset_description</th>\n",
       "      <th>type</th>\n",
       "      <th>amount</th>\n",
       "      <th>representative</th>\n",
       "      <th>district</th>\n",
       "      <th>ptr_link</th>\n",
       "      <th>cap_gains_over_200_usd</th>\n",
       "      <th>cleaned_name</th>\n",
       "      <th>name</th>\n",
       "      <th>current_party</th>\n",
       "    </tr>\n",
       "  </thead>\n",
       "  <tbody>\n",
       "    <tr>\n",
       "      <th>0</th>\n",
       "      <td>2021</td>\n",
       "      <td>10/04/2021</td>\n",
       "      <td>2021-09-27</td>\n",
       "      <td>joint</td>\n",
       "      <td>BP</td>\n",
       "      <td>BP plc</td>\n",
       "      <td>purchase</td>\n",
       "      <td>$1,001 - $15,000</td>\n",
       "      <td>Hon. Virginia Foxx</td>\n",
       "      <td>NC05</td>\n",
       "      <td>https://disclosures-clerk.house.gov/public_dis...</td>\n",
       "      <td>False</td>\n",
       "      <td>virginia foxx</td>\n",
       "      <td>virginia foxx</td>\n",
       "      <td>Republican</td>\n",
       "    </tr>\n",
       "    <tr>\n",
       "      <th>1</th>\n",
       "      <td>2021</td>\n",
       "      <td>10/04/2021</td>\n",
       "      <td>2021-09-13</td>\n",
       "      <td>joint</td>\n",
       "      <td>XOM</td>\n",
       "      <td>Exxon Mobil Corporation</td>\n",
       "      <td>purchase</td>\n",
       "      <td>$1,001 - $15,000</td>\n",
       "      <td>Hon. Virginia Foxx</td>\n",
       "      <td>NC05</td>\n",
       "      <td>https://disclosures-clerk.house.gov/public_dis...</td>\n",
       "      <td>False</td>\n",
       "      <td>virginia foxx</td>\n",
       "      <td>virginia foxx</td>\n",
       "      <td>Republican</td>\n",
       "    </tr>\n",
       "    <tr>\n",
       "      <th>2</th>\n",
       "      <td>2021</td>\n",
       "      <td>10/04/2021</td>\n",
       "      <td>2021-09-10</td>\n",
       "      <td>joint</td>\n",
       "      <td>ILPT</td>\n",
       "      <td>Industrial Logistics Properties Trust - Common...</td>\n",
       "      <td>purchase</td>\n",
       "      <td>$15,001 - $50,000</td>\n",
       "      <td>Hon. Virginia Foxx</td>\n",
       "      <td>NC05</td>\n",
       "      <td>https://disclosures-clerk.house.gov/public_dis...</td>\n",
       "      <td>False</td>\n",
       "      <td>virginia foxx</td>\n",
       "      <td>virginia foxx</td>\n",
       "      <td>Republican</td>\n",
       "    </tr>\n",
       "    <tr>\n",
       "      <th>3</th>\n",
       "      <td>2021</td>\n",
       "      <td>10/04/2021</td>\n",
       "      <td>2021-09-28</td>\n",
       "      <td>joint</td>\n",
       "      <td>PM</td>\n",
       "      <td>Phillip Morris International Inc</td>\n",
       "      <td>purchase</td>\n",
       "      <td>$15,001 - $50,000</td>\n",
       "      <td>Hon. Virginia Foxx</td>\n",
       "      <td>NC05</td>\n",
       "      <td>https://disclosures-clerk.house.gov/public_dis...</td>\n",
       "      <td>False</td>\n",
       "      <td>virginia foxx</td>\n",
       "      <td>virginia foxx</td>\n",
       "      <td>Republican</td>\n",
       "    </tr>\n",
       "    <tr>\n",
       "      <th>4</th>\n",
       "      <td>2021</td>\n",
       "      <td>10/04/2021</td>\n",
       "      <td>2021-09-17</td>\n",
       "      <td>self</td>\n",
       "      <td>BLK</td>\n",
       "      <td>BlackRock Inc</td>\n",
       "      <td>sale_partial</td>\n",
       "      <td>$1,001 - $15,000</td>\n",
       "      <td>Hon. Alan S. Lowenthal</td>\n",
       "      <td>CA47</td>\n",
       "      <td>https://disclosures-clerk.house.gov/public_dis...</td>\n",
       "      <td>False</td>\n",
       "      <td>alan lowenthal</td>\n",
       "      <td>alan lowenthal</td>\n",
       "      <td>Democratic</td>\n",
       "    </tr>\n",
       "  </tbody>\n",
       "</table>\n",
       "</div>"
      ],
      "text/plain": [
       "   disclosure_year disclosure_date transaction_date  owner ticker  \\\n",
       "0             2021      10/04/2021       2021-09-27  joint     BP   \n",
       "1             2021      10/04/2021       2021-09-13  joint    XOM   \n",
       "2             2021      10/04/2021       2021-09-10  joint   ILPT   \n",
       "3             2021      10/04/2021       2021-09-28  joint     PM   \n",
       "4             2021      10/04/2021       2021-09-17   self    BLK   \n",
       "\n",
       "                                   asset_description          type  \\\n",
       "0                                             BP plc      purchase   \n",
       "1                            Exxon Mobil Corporation      purchase   \n",
       "2  Industrial Logistics Properties Trust - Common...      purchase   \n",
       "3                   Phillip Morris International Inc      purchase   \n",
       "4                                      BlackRock Inc  sale_partial   \n",
       "\n",
       "              amount          representative district  \\\n",
       "0   $1,001 - $15,000      Hon. Virginia Foxx     NC05   \n",
       "1   $1,001 - $15,000      Hon. Virginia Foxx     NC05   \n",
       "2  $15,001 - $50,000      Hon. Virginia Foxx     NC05   \n",
       "3  $15,001 - $50,000      Hon. Virginia Foxx     NC05   \n",
       "4   $1,001 - $15,000  Hon. Alan S. Lowenthal     CA47   \n",
       "\n",
       "                                            ptr_link  cap_gains_over_200_usd  \\\n",
       "0  https://disclosures-clerk.house.gov/public_dis...                   False   \n",
       "1  https://disclosures-clerk.house.gov/public_dis...                   False   \n",
       "2  https://disclosures-clerk.house.gov/public_dis...                   False   \n",
       "3  https://disclosures-clerk.house.gov/public_dis...                   False   \n",
       "4  https://disclosures-clerk.house.gov/public_dis...                   False   \n",
       "\n",
       "     cleaned_name            name current_party  \n",
       "0   virginia foxx   virginia foxx    Republican  \n",
       "1   virginia foxx   virginia foxx    Republican  \n",
       "2   virginia foxx   virginia foxx    Republican  \n",
       "3   virginia foxx   virginia foxx    Republican  \n",
       "4  alan lowenthal  alan lowenthal    Democratic  "
      ]
     },
     "execution_count": 242,
     "metadata": {},
     "output_type": "execute_result"
    }
   ],
   "source": [
    "with_party = stock.merge(affiliate, left_on = 'cleaned_name', right_on = 'name', how='left')\n",
    "with_party.head()"
   ]
  },
  {
   "cell_type": "code",
   "execution_count": 243,
   "metadata": {},
   "outputs": [],
   "source": [
    "# There are 26 names that do not appear in the data we found online. We use the \"summary by rep\" page on the stock-watcher website\n",
    "# to mannually fill out these names. Also, there is one case that two people with same first and last name belongs to different\n",
    "# parties, create a special case for that.\n",
    "d = 'Democratic'\n",
    "r = 'Republican'\n",
    "mannul_fill_party = {\n",
    "                    'kathy manning': d, 'scott franklin': r,\n",
    "                    'maria salazar': r, 'christopher jacobs': r,\n",
    "                    'marjorie greene': r, 'bill pascrell': d,\n",
    "                     'august pfluger': r, 'patrick fallon': r,\n",
    "                     'pete sessions': r, 'victoria spartz': r,\n",
    "                     'andrew garbarino': r,'david cawthorn': r,\n",
    "                     'jake auchincloss': d, 'deborah ross': d,\n",
    "                     'marie newman': d, 'blake moore': r,\n",
    "                     'michael garcia': r, 'diana harshbarger': r,\n",
    "                     'sara jacobs': d, 'peter meijer': r,\n",
    "                     'ashley arenholz':r,'felix moore': r,\n",
    "                     'stephanie bice': r, 'neal facs': r\n",
    "                    }\n",
    "nicholas_taylors = {\"Hon. Nicholas Van Taylor\": r,\n",
    "                   \"Hon. Nicholas V. Taylor\": d}\n"
   ]
  },
  {
   "cell_type": "code",
   "execution_count": 244,
   "metadata": {},
   "outputs": [],
   "source": [
    "# This function loops through the rows of the with_party df to check if the 'cleaned_name' or 'representative' is what we want\n",
    "# to mannully fill. When found, fill in the current_party with corresponding data. \n",
    "def mannul_fill(row):\n",
    "    if row['cleaned_name'] in mannul_fill_party.keys():\n",
    "        return mannul_fill_party[row['cleaned_name']]\n",
    "    elif row['representative'] in nicholas_taylors.keys():\n",
    "        return nicholas_taylors[row['representative']]\n",
    "    else:\n",
    "        return row['current_party']"
   ]
  },
  {
   "cell_type": "code",
   "execution_count": 245,
   "metadata": {},
   "outputs": [
    {
     "data": {
      "text/plain": [
       "0    Republican\n",
       "1    Republican\n",
       "2    Republican\n",
       "3    Republican\n",
       "4    Democratic\n",
       "dtype: object"
      ]
     },
     "execution_count": 245,
     "metadata": {},
     "output_type": "execute_result"
    }
   ],
   "source": [
    "full_party = with_party.apply(mannul_fill, axis=1)\n",
    "full_party.head()"
   ]
  },
  {
   "cell_type": "code",
   "execution_count": 246,
   "metadata": {},
   "outputs": [
    {
     "data": {
      "text/plain": [
       "0"
      ]
     },
     "execution_count": 246,
     "metadata": {},
     "output_type": "execute_result"
    }
   ],
   "source": [
    "# now the current_party column has no missing values.\n",
    "full_party.isna().sum()"
   ]
  },
  {
   "cell_type": "code",
   "execution_count": 247,
   "metadata": {},
   "outputs": [],
   "source": [
    "with_party['current_party'] = full_party"
   ]
  },
  {
   "cell_type": "code",
   "execution_count": 248,
   "metadata": {},
   "outputs": [],
   "source": [
    "with_party = with_party.drop(columns = ['cleaned_name','name'])"
   ]
  },
  {
   "cell_type": "code",
   "execution_count": 306,
   "metadata": {},
   "outputs": [],
   "source": [
    "# Because we only want to investigate De\n",
    "with_party = with_party[with_party[\"current_party\"] != \"Independent\"]"
   ]
  },
  {
   "cell_type": "code",
   "execution_count": 249,
   "metadata": {},
   "outputs": [
    {
     "data": {
      "text/html": [
       "<div>\n",
       "<style scoped>\n",
       "    .dataframe tbody tr th:only-of-type {\n",
       "        vertical-align: middle;\n",
       "    }\n",
       "\n",
       "    .dataframe tbody tr th {\n",
       "        vertical-align: top;\n",
       "    }\n",
       "\n",
       "    .dataframe thead th {\n",
       "        text-align: right;\n",
       "    }\n",
       "</style>\n",
       "<table border=\"1\" class=\"dataframe\">\n",
       "  <thead>\n",
       "    <tr style=\"text-align: right;\">\n",
       "      <th></th>\n",
       "      <th>disclosure_year</th>\n",
       "      <th>disclosure_date</th>\n",
       "      <th>transaction_date</th>\n",
       "      <th>owner</th>\n",
       "      <th>ticker</th>\n",
       "      <th>asset_description</th>\n",
       "      <th>type</th>\n",
       "      <th>amount</th>\n",
       "      <th>representative</th>\n",
       "      <th>district</th>\n",
       "      <th>ptr_link</th>\n",
       "      <th>cap_gains_over_200_usd</th>\n",
       "      <th>current_party</th>\n",
       "    </tr>\n",
       "  </thead>\n",
       "  <tbody>\n",
       "    <tr>\n",
       "      <th>0</th>\n",
       "      <td>2021</td>\n",
       "      <td>10/04/2021</td>\n",
       "      <td>2021-09-27</td>\n",
       "      <td>joint</td>\n",
       "      <td>BP</td>\n",
       "      <td>BP plc</td>\n",
       "      <td>purchase</td>\n",
       "      <td>$1,001 - $15,000</td>\n",
       "      <td>Hon. Virginia Foxx</td>\n",
       "      <td>NC05</td>\n",
       "      <td>https://disclosures-clerk.house.gov/public_dis...</td>\n",
       "      <td>False</td>\n",
       "      <td>Republican</td>\n",
       "    </tr>\n",
       "    <tr>\n",
       "      <th>1</th>\n",
       "      <td>2021</td>\n",
       "      <td>10/04/2021</td>\n",
       "      <td>2021-09-13</td>\n",
       "      <td>joint</td>\n",
       "      <td>XOM</td>\n",
       "      <td>Exxon Mobil Corporation</td>\n",
       "      <td>purchase</td>\n",
       "      <td>$1,001 - $15,000</td>\n",
       "      <td>Hon. Virginia Foxx</td>\n",
       "      <td>NC05</td>\n",
       "      <td>https://disclosures-clerk.house.gov/public_dis...</td>\n",
       "      <td>False</td>\n",
       "      <td>Republican</td>\n",
       "    </tr>\n",
       "    <tr>\n",
       "      <th>2</th>\n",
       "      <td>2021</td>\n",
       "      <td>10/04/2021</td>\n",
       "      <td>2021-09-10</td>\n",
       "      <td>joint</td>\n",
       "      <td>ILPT</td>\n",
       "      <td>Industrial Logistics Properties Trust - Common...</td>\n",
       "      <td>purchase</td>\n",
       "      <td>$15,001 - $50,000</td>\n",
       "      <td>Hon. Virginia Foxx</td>\n",
       "      <td>NC05</td>\n",
       "      <td>https://disclosures-clerk.house.gov/public_dis...</td>\n",
       "      <td>False</td>\n",
       "      <td>Republican</td>\n",
       "    </tr>\n",
       "    <tr>\n",
       "      <th>3</th>\n",
       "      <td>2021</td>\n",
       "      <td>10/04/2021</td>\n",
       "      <td>2021-09-28</td>\n",
       "      <td>joint</td>\n",
       "      <td>PM</td>\n",
       "      <td>Phillip Morris International Inc</td>\n",
       "      <td>purchase</td>\n",
       "      <td>$15,001 - $50,000</td>\n",
       "      <td>Hon. Virginia Foxx</td>\n",
       "      <td>NC05</td>\n",
       "      <td>https://disclosures-clerk.house.gov/public_dis...</td>\n",
       "      <td>False</td>\n",
       "      <td>Republican</td>\n",
       "    </tr>\n",
       "    <tr>\n",
       "      <th>4</th>\n",
       "      <td>2021</td>\n",
       "      <td>10/04/2021</td>\n",
       "      <td>2021-09-17</td>\n",
       "      <td>self</td>\n",
       "      <td>BLK</td>\n",
       "      <td>BlackRock Inc</td>\n",
       "      <td>sale_partial</td>\n",
       "      <td>$1,001 - $15,000</td>\n",
       "      <td>Hon. Alan S. Lowenthal</td>\n",
       "      <td>CA47</td>\n",
       "      <td>https://disclosures-clerk.house.gov/public_dis...</td>\n",
       "      <td>False</td>\n",
       "      <td>Democratic</td>\n",
       "    </tr>\n",
       "  </tbody>\n",
       "</table>\n",
       "</div>"
      ],
      "text/plain": [
       "   disclosure_year disclosure_date transaction_date  owner ticker  \\\n",
       "0             2021      10/04/2021       2021-09-27  joint     BP   \n",
       "1             2021      10/04/2021       2021-09-13  joint    XOM   \n",
       "2             2021      10/04/2021       2021-09-10  joint   ILPT   \n",
       "3             2021      10/04/2021       2021-09-28  joint     PM   \n",
       "4             2021      10/04/2021       2021-09-17   self    BLK   \n",
       "\n",
       "                                   asset_description          type  \\\n",
       "0                                             BP plc      purchase   \n",
       "1                            Exxon Mobil Corporation      purchase   \n",
       "2  Industrial Logistics Properties Trust - Common...      purchase   \n",
       "3                   Phillip Morris International Inc      purchase   \n",
       "4                                      BlackRock Inc  sale_partial   \n",
       "\n",
       "              amount          representative district  \\\n",
       "0   $1,001 - $15,000      Hon. Virginia Foxx     NC05   \n",
       "1   $1,001 - $15,000      Hon. Virginia Foxx     NC05   \n",
       "2  $15,001 - $50,000      Hon. Virginia Foxx     NC05   \n",
       "3  $15,001 - $50,000      Hon. Virginia Foxx     NC05   \n",
       "4   $1,001 - $15,000  Hon. Alan S. Lowenthal     CA47   \n",
       "\n",
       "                                            ptr_link  cap_gains_over_200_usd  \\\n",
       "0  https://disclosures-clerk.house.gov/public_dis...                   False   \n",
       "1  https://disclosures-clerk.house.gov/public_dis...                   False   \n",
       "2  https://disclosures-clerk.house.gov/public_dis...                   False   \n",
       "3  https://disclosures-clerk.house.gov/public_dis...                   False   \n",
       "4  https://disclosures-clerk.house.gov/public_dis...                   False   \n",
       "\n",
       "  current_party  \n",
       "0    Republican  \n",
       "1    Republican  \n",
       "2    Republican  \n",
       "3    Republican  \n",
       "4    Democratic  "
      ]
     },
     "execution_count": 249,
     "metadata": {},
     "output_type": "execute_result"
    }
   ],
   "source": [
    "with_party.head()"
   ]
  },
  {
   "cell_type": "markdown",
   "metadata": {},
   "source": [
    "### We are done with the process of entering the political affiliation for each representatives. Now lets clean the missing values in the data."
   ]
  },
  {
   "cell_type": "code",
   "execution_count": 250,
   "metadata": {},
   "outputs": [
    {
     "name": "stdout",
     "output_type": "stream",
     "text": [
      "<class 'pandas.core.frame.DataFrame'>\n",
      "Int64Index: 15710 entries, 0 to 15709\n",
      "Data columns (total 13 columns):\n",
      " #   Column                  Non-Null Count  Dtype \n",
      "---  ------                  --------------  ----- \n",
      " 0   disclosure_year         15710 non-null  int64 \n",
      " 1   disclosure_date         15710 non-null  object\n",
      " 2   transaction_date        15710 non-null  object\n",
      " 3   owner                   9667 non-null   object\n",
      " 4   ticker                  15710 non-null  object\n",
      " 5   asset_description       15706 non-null  object\n",
      " 6   type                    15710 non-null  object\n",
      " 7   amount                  15710 non-null  object\n",
      " 8   representative          15710 non-null  object\n",
      " 9   district                15710 non-null  object\n",
      " 10  ptr_link                15710 non-null  object\n",
      " 11  cap_gains_over_200_usd  15710 non-null  bool  \n",
      " 12  current_party           15710 non-null  object\n",
      "dtypes: bool(1), int64(1), object(11)\n",
      "memory usage: 1.6+ MB\n"
     ]
    }
   ],
   "source": [
    "with_party.info()"
   ]
  },
  {
   "cell_type": "code",
   "execution_count": 251,
   "metadata": {},
   "outputs": [],
   "source": [
    "#replace the asset_description None\n",
    "with_party[\"asset_description\"] =with_party[\"asset_description\"].fillna(value=np.nan)"
   ]
  },
  {
   "cell_type": "code",
   "execution_count": 252,
   "metadata": {},
   "outputs": [],
   "source": [
    "#replace the None owner with NaN\n",
    "with_party[\"owner\"] = with_party[\"owner\"].fillna(value=np.nan)"
   ]
  },
  {
   "cell_type": "code",
   "execution_count": 253,
   "metadata": {},
   "outputs": [
    {
     "name": "stdout",
     "output_type": "stream",
     "text": [
      "owner\n",
      "ticker\n"
     ]
    }
   ],
   "source": [
    "#check missing value of dataframe and determine which columns contain \"--\"\n",
    "for i in with_party.columns:\n",
    "    if \"--\" in with_party[i].value_counts().index:\n",
    "        print(i) "
   ]
  },
  {
   "cell_type": "code",
   "execution_count": 254,
   "metadata": {},
   "outputs": [],
   "source": [
    "#replace all of -- value in the owner and ticker\n",
    "with_party[\"owner\"] = with_party[\"owner\"].replace(\"--\",np.nan)\n",
    "with_party[\"ticker\"] = with_party[\"ticker\"].replace(\"--\",np.nan)"
   ]
  },
  {
   "cell_type": "markdown",
   "metadata": {},
   "source": [
    "#### We want to convert the data type of certain columns to format that is easy to calculate.\n",
    "- amount to float, date to datetime"
   ]
  },
  {
   "cell_type": "markdown",
   "metadata": {},
   "source": [
    "- For the amount column, we decided to take the midpoint of the amount if there is an interval(ie. for \"1,001 - 15,000\" we take (1001+15000)/2)=8000.5). \n",
    "- If there is only single value such as \"1,001+\", we take the value itself. "
   ]
  },
  {
   "cell_type": "code",
   "execution_count": 255,
   "metadata": {},
   "outputs": [],
   "source": [
    "amount = with_party['amount'].str.replace('[^0-9 ]', '', regex=True)\n",
    "amount = amount.str.split('  ')\n",
    "\n",
    "def to_float(amount):\n",
    "    if len(amount) == 1:\n",
    "        return float(amount[0])\n",
    "    else:\n",
    "        return (float(amount[0])+ float(amount[1]))//2\n",
    "\n",
    "with_party['avg_amount'] = amount.transform(to_float)"
   ]
  },
  {
   "cell_type": "code",
   "execution_count": 148,
   "metadata": {},
   "outputs": [],
   "source": [
    "# convert the type of disclosure_date and transaction_date to datetime.\n",
    "with_party['disclosure_date'] = pd.to_datetime(with_party['disclosure_date'])"
   ]
  },
  {
   "cell_type": "code",
   "execution_count": 149,
   "metadata": {},
   "outputs": [],
   "source": [
    "# There are some mistyped date in the transaction_date data. Replace them with the true values and then convert to datetime.\n",
    "replace_false_dates = {'0009-06-09': '2020-06-09',\n",
    "                     '20222-08-09': '2022-08-09',\n",
    "                      '0021-08-02': '2021-08-02',\n",
    "                      '20222-07-18': '2022-07-18',\n",
    "                      '20221-11-18': '2021-11-18',\n",
    "                      '0021-06-22': '2021-06-22',\n",
    "                      '0201-06-22': '2021-06-22'\n",
    "                     }\n",
    "with_party['transaction_date'].replace(replace_false_dates, inplace=True)\n",
    "with_party['transaction_date'] = pd.to_datetime(with_party['transaction_date'])"
   ]
  },
  {
   "cell_type": "code",
   "execution_count": 150,
   "metadata": {
    "scrolled": true
   },
   "outputs": [
    {
     "name": "stdout",
     "output_type": "stream",
     "text": [
      "<class 'pandas.core.frame.DataFrame'>\n",
      "Int64Index: 15710 entries, 0 to 15709\n",
      "Data columns (total 14 columns):\n",
      " #   Column                  Non-Null Count  Dtype         \n",
      "---  ------                  --------------  -----         \n",
      " 0   disclosure_year         15710 non-null  int64         \n",
      " 1   disclosure_date         15710 non-null  datetime64[ns]\n",
      " 2   transaction_date        15710 non-null  datetime64[ns]\n",
      " 3   owner                   8352 non-null   object        \n",
      " 4   ticker                  14414 non-null  object        \n",
      " 5   asset_description       15706 non-null  object        \n",
      " 6   type                    15710 non-null  object        \n",
      " 7   amount                  15710 non-null  object        \n",
      " 8   representative          15710 non-null  object        \n",
      " 9   district                15710 non-null  object        \n",
      " 10  ptr_link                15710 non-null  object        \n",
      " 11  cap_gains_over_200_usd  15710 non-null  bool          \n",
      " 12  current_party           15710 non-null  object        \n",
      " 13  avg_amount              15710 non-null  float64       \n",
      "dtypes: bool(1), datetime64[ns](2), float64(1), int64(1), object(9)\n",
      "memory usage: 1.7+ MB\n"
     ]
    }
   ],
   "source": [
    "with_party.info()"
   ]
  },
  {
   "cell_type": "markdown",
   "metadata": {},
   "source": [
    "The data is now ready for invesitage."
   ]
  },
  {
   "cell_type": "markdown",
   "metadata": {},
   "source": [
    "### EDA (Exploratory Data Analysis)"
   ]
  },
  {
   "cell_type": "code",
   "execution_count": 261,
   "metadata": {
    "scrolled": true
   },
   "outputs": [
    {
     "data": {
      "image/png": "[encoded data removed]",
      "text/plain": [
       "<Figure size 640x480 with 1 Axes>"
      ]
     },
     "metadata": {
      "image/png": {
       "height": 524,
       "width": 570
      }
     },
     "output_type": "display_data"
    }
   ],
   "source": [
    "amount_freq = with_party.groupby('avg_amount')['current_party'].count()\n",
    "amount_freq.plot(kind='bar', title = \"Frequency for Each Trade's Dollar Amount Value\");"
   ]
  },
  {
   "cell_type": "markdown",
   "metadata": {},
   "source": [
    "The trades that happens the most in the $8000 level."
   ]
  },
  {
   "cell_type": "code",
   "execution_count": 265,
   "metadata": {},
   "outputs": [
    {
     "data": {
      "text/html": [
       "<div>\n",
       "<style scoped>\n",
       "    .dataframe tbody tr th:only-of-type {\n",
       "        vertical-align: middle;\n",
       "    }\n",
       "\n",
       "    .dataframe tbody tr th {\n",
       "        vertical-align: top;\n",
       "    }\n",
       "\n",
       "    .dataframe thead th {\n",
       "        text-align: right;\n",
       "    }\n",
       "</style>\n",
       "<table border=\"1\" class=\"dataframe\">\n",
       "  <thead>\n",
       "    <tr style=\"text-align: right;\">\n",
       "      <th>current_party</th>\n",
       "      <th>Democratic</th>\n",
       "      <th>Republican</th>\n",
       "    </tr>\n",
       "    <tr>\n",
       "      <th>avg_amount</th>\n",
       "      <th></th>\n",
       "      <th></th>\n",
       "    </tr>\n",
       "  </thead>\n",
       "  <tbody>\n",
       "    <tr>\n",
       "      <th>1001.0</th>\n",
       "      <td>0.024103</td>\n",
       "      <td>0.001021</td>\n",
       "    </tr>\n",
       "    <tr>\n",
       "      <th>8000.0</th>\n",
       "      <td>0.798536</td>\n",
       "      <td>0.538475</td>\n",
       "    </tr>\n",
       "    <tr>\n",
       "      <th>32500.0</th>\n",
       "      <td>0.104546</td>\n",
       "      <td>0.257746</td>\n",
       "    </tr>\n",
       "    <tr>\n",
       "      <th>75000.0</th>\n",
       "      <td>0.024103</td>\n",
       "      <td>0.093973</td>\n",
       "    </tr>\n",
       "    <tr>\n",
       "      <th>175000.0</th>\n",
       "      <td>0.015560</td>\n",
       "      <td>0.075417</td>\n",
       "    </tr>\n",
       "    <tr>\n",
       "      <th>375000.0</th>\n",
       "      <td>0.013424</td>\n",
       "      <td>0.023153</td>\n",
       "    </tr>\n",
       "    <tr>\n",
       "      <th>750000.0</th>\n",
       "      <td>0.011594</td>\n",
       "      <td>0.008172</td>\n",
       "    </tr>\n",
       "    <tr>\n",
       "      <th>1000000.0</th>\n",
       "      <td>0.002949</td>\n",
       "      <td>0.000170</td>\n",
       "    </tr>\n",
       "    <tr>\n",
       "      <th>3000000.0</th>\n",
       "      <td>0.004373</td>\n",
       "      <td>0.001532</td>\n",
       "    </tr>\n",
       "    <tr>\n",
       "      <th>15000000.0</th>\n",
       "      <td>0.000814</td>\n",
       "      <td>0.000170</td>\n",
       "    </tr>\n",
       "    <tr>\n",
       "      <th>50000000.0</th>\n",
       "      <td>NaN</td>\n",
       "      <td>0.000170</td>\n",
       "    </tr>\n",
       "  </tbody>\n",
       "</table>\n",
       "</div>"
      ],
      "text/plain": [
       "current_party  Democratic  Republican\n",
       "avg_amount                           \n",
       "1001.0           0.024103    0.001021\n",
       "8000.0           0.798536    0.538475\n",
       "32500.0          0.104546    0.257746\n",
       "75000.0          0.024103    0.093973\n",
       "175000.0         0.015560    0.075417\n",
       "375000.0         0.013424    0.023153\n",
       "750000.0         0.011594    0.008172\n",
       "1000000.0        0.002949    0.000170\n",
       "3000000.0        0.004373    0.001532\n",
       "15000000.0       0.000814    0.000170\n",
       "50000000.0            NaN    0.000170"
      ]
     },
     "execution_count": 265,
     "metadata": {},
     "output_type": "execute_result"
    }
   ],
   "source": [
    "party_dist = with_party.pivot_table(index='avg_amount', columns='current_party', aggfunc = 'size')\n",
    "party_dist = party_dist / party_dist.sum()\n",
    "party_dist"
   ]
  },
  {
   "cell_type": "code",
   "execution_count": 270,
   "metadata": {},
   "outputs": [
    {
     "data": {
      "image/png": "[encoded data removed]",
      "text/plain": [
       "<Figure size 640x480 with 1 Axes>"
      ]
     },
     "metadata": {
      "image/png": {
       "height": 434,
       "width": 639
      }
     },
     "output_type": "display_data"
    }
   ],
   "source": [
    "party_dist.plot(kind='barh', title='Dollar Value of Trade by Different Political Party', stacked=True);"
   ]
  },
  {
   "cell_type": "markdown",
   "metadata": {},
   "source": [
    "By this graph we can see that the Democrats tend to trade with lower values whereas the Republicans participates more in trade with higher dollar amount. "
   ]
  },
  {
   "cell_type": "code",
   "execution_count": 276,
   "metadata": {},
   "outputs": [
    {
     "data": {
      "text/html": [
       "<div>\n",
       "<style scoped>\n",
       "    .dataframe tbody tr th:only-of-type {\n",
       "        vertical-align: middle;\n",
       "    }\n",
       "\n",
       "    .dataframe tbody tr th {\n",
       "        vertical-align: top;\n",
       "    }\n",
       "\n",
       "    .dataframe thead th {\n",
       "        text-align: right;\n",
       "    }\n",
       "</style>\n",
       "<table border=\"1\" class=\"dataframe\">\n",
       "  <thead>\n",
       "    <tr style=\"text-align: right;\">\n",
       "      <th></th>\n",
       "      <th>avg_amount</th>\n",
       "    </tr>\n",
       "    <tr>\n",
       "      <th>ticker</th>\n",
       "      <th></th>\n",
       "    </tr>\n",
       "  </thead>\n",
       "  <tbody>\n",
       "    <tr>\n",
       "      <th>MSFT</th>\n",
       "      <td>213556500.0</td>\n",
       "    </tr>\n",
       "    <tr>\n",
       "      <th>AAPL</th>\n",
       "      <td>28381002.0</td>\n",
       "    </tr>\n",
       "    <tr>\n",
       "      <th>NVDA</th>\n",
       "      <td>11548500.0</td>\n",
       "    </tr>\n",
       "    <tr>\n",
       "      <th>AM</th>\n",
       "      <td>10565500.0</td>\n",
       "    </tr>\n",
       "    <tr>\n",
       "      <th>TDDXX</th>\n",
       "      <td>10210000.0</td>\n",
       "    </tr>\n",
       "  </tbody>\n",
       "</table>\n",
       "</div>"
      ],
      "text/plain": [
       "         avg_amount\n",
       "ticker             \n",
       "MSFT    213556500.0\n",
       "AAPL     28381002.0\n",
       "NVDA     11548500.0\n",
       "AM       10565500.0\n",
       "TDDXX    10210000.0"
      ]
     },
     "execution_count": 276,
     "metadata": {},
     "output_type": "execute_result"
    }
   ],
   "source": [
    "top_20 = with_party.groupby('ticker')[['avg_amount']].sum().sort_values(by='avg_amount', ascending = False)[:20]\n",
    "top_20.head()"
   ]
  },
  {
   "cell_type": "code",
   "execution_count": 280,
   "metadata": {
    "scrolled": true
   },
   "outputs": [
    {
     "data": {
      "image/png": "[encoded data removed]",
      "text/plain": [
       "<Figure size 640x480 with 1 Axes>"
      ]
     },
     "metadata": {
      "image/png": {
       "height": 452,
       "width": 596
      }
     },
     "output_type": "display_data"
    }
   ],
   "source": [
    "top_20.plot(kind='barh', title = \"The 20 Tickers with the Highest Total Trade Amount\");"
   ]
  },
  {
   "cell_type": "markdown",
   "metadata": {},
   "source": [
    "Through this graph, we can see that the ticker with the highest amount of total trade value is MSFT(Microsoft Corporation)."
   ]
  },
  {
   "cell_type": "code",
   "execution_count": 281,
   "metadata": {
    "scrolled": true
   },
   "outputs": [
    {
     "data": {
      "text/html": [
       "<div>\n",
       "<style scoped>\n",
       "    .dataframe tbody tr th:only-of-type {\n",
       "        vertical-align: middle;\n",
       "    }\n",
       "\n",
       "    .dataframe tbody tr th {\n",
       "        vertical-align: top;\n",
       "    }\n",
       "\n",
       "    .dataframe thead th {\n",
       "        text-align: right;\n",
       "    }\n",
       "</style>\n",
       "<table border=\"1\" class=\"dataframe\">\n",
       "  <thead>\n",
       "    <tr style=\"text-align: right;\">\n",
       "      <th>current_party</th>\n",
       "      <th>Democratic</th>\n",
       "      <th>Republican</th>\n",
       "    </tr>\n",
       "    <tr>\n",
       "      <th>disclosure_year</th>\n",
       "      <th></th>\n",
       "      <th></th>\n",
       "    </tr>\n",
       "  </thead>\n",
       "  <tbody>\n",
       "    <tr>\n",
       "      <th>2020</th>\n",
       "      <td>0.505034</td>\n",
       "      <td>0.410283</td>\n",
       "    </tr>\n",
       "    <tr>\n",
       "      <th>2021</th>\n",
       "      <td>0.337333</td>\n",
       "      <td>0.375043</td>\n",
       "    </tr>\n",
       "    <tr>\n",
       "      <th>2022</th>\n",
       "      <td>0.157632</td>\n",
       "      <td>0.214675</td>\n",
       "    </tr>\n",
       "  </tbody>\n",
       "</table>\n",
       "</div>"
      ],
      "text/plain": [
       "current_party    Democratic  Republican\n",
       "disclosure_year                        \n",
       "2020               0.505034    0.410283\n",
       "2021               0.337333    0.375043\n",
       "2022               0.157632    0.214675"
      ]
     },
     "execution_count": 281,
     "metadata": {},
     "output_type": "execute_result"
    }
   ],
   "source": [
    "year_vs_party = with_party.pivot_table(index = 'disclosure_year', columns = ['current_party'],values = 'type', aggfunc='size')\n",
    "year_vs_party/ year_vs_party.sum()"
   ]
  },
  {
   "cell_type": "markdown",
   "metadata": {},
   "source": [
    "The overall frequency of trade reduced from 2020 to 2021. "
   ]
  },
  {
   "cell_type": "markdown",
   "metadata": {},
   "source": [
    "### Assessment of Missingness"
   ]
  },
  {
   "cell_type": "markdown",
   "metadata": {},
   "source": [
    "- ### We investigate the missingness of ticker.\n",
    "Firstly, we assume the missingness of ticker is NMAR, becuase it may related to its actual value. Since a lot of  Stock delisting in recent years, their ticker will be delete from the stock database. AS a result, it will causing the missingness of the stock ticker. We can collect the data of recent year. Stocks that have been delisted in recent years\n"
   ]
  },
  {
   "cell_type": "markdown",
   "metadata": {},
   "source": [
    "### Now we need to test if the the missingness of ticker is MCAR"
   ]
  },
  {
   "cell_type": "code",
   "execution_count": 294,
   "metadata": {
    "ExecuteTime": {
     "end_time": "2019-10-31T23:36:28.662099Z",
     "start_time": "2019-10-31T23:36:28.660016Z"
    }
   },
   "outputs": [],
   "source": [
    "with_party = with_party.assign(ticker_missing = with_party[\"ticker\"].isna())"
   ]
  },
  {
   "cell_type": "code",
   "execution_count": 295,
   "metadata": {},
   "outputs": [
    {
     "data": {
      "text/html": [
       "<div>\n",
       "<style scoped>\n",
       "    .dataframe tbody tr th:only-of-type {\n",
       "        vertical-align: middle;\n",
       "    }\n",
       "\n",
       "    .dataframe tbody tr th {\n",
       "        vertical-align: top;\n",
       "    }\n",
       "\n",
       "    .dataframe thead th {\n",
       "        text-align: right;\n",
       "    }\n",
       "</style>\n",
       "<table border=\"1\" class=\"dataframe\">\n",
       "  <thead>\n",
       "    <tr style=\"text-align: right;\">\n",
       "      <th></th>\n",
       "      <th>disclosure_year</th>\n",
       "      <th>disclosure_date</th>\n",
       "      <th>transaction_date</th>\n",
       "      <th>owner</th>\n",
       "      <th>ticker</th>\n",
       "      <th>asset_description</th>\n",
       "      <th>type</th>\n",
       "      <th>amount</th>\n",
       "      <th>representative</th>\n",
       "      <th>district</th>\n",
       "      <th>ptr_link</th>\n",
       "      <th>cap_gains_over_200_usd</th>\n",
       "      <th>current_party</th>\n",
       "      <th>avg_amount</th>\n",
       "      <th>ticker_missing</th>\n",
       "    </tr>\n",
       "  </thead>\n",
       "  <tbody>\n",
       "    <tr>\n",
       "      <th>0</th>\n",
       "      <td>2021</td>\n",
       "      <td>10/04/2021</td>\n",
       "      <td>2021-09-27</td>\n",
       "      <td>joint</td>\n",
       "      <td>BP</td>\n",
       "      <td>BP plc</td>\n",
       "      <td>purchase</td>\n",
       "      <td>$1,001 - $15,000</td>\n",
       "      <td>Hon. Virginia Foxx</td>\n",
       "      <td>NC05</td>\n",
       "      <td>https://disclosures-clerk.house.gov/public_dis...</td>\n",
       "      <td>False</td>\n",
       "      <td>Republican</td>\n",
       "      <td>8000.0</td>\n",
       "      <td>False</td>\n",
       "    </tr>\n",
       "    <tr>\n",
       "      <th>1</th>\n",
       "      <td>2021</td>\n",
       "      <td>10/04/2021</td>\n",
       "      <td>2021-09-13</td>\n",
       "      <td>joint</td>\n",
       "      <td>XOM</td>\n",
       "      <td>Exxon Mobil Corporation</td>\n",
       "      <td>purchase</td>\n",
       "      <td>$1,001 - $15,000</td>\n",
       "      <td>Hon. Virginia Foxx</td>\n",
       "      <td>NC05</td>\n",
       "      <td>https://disclosures-clerk.house.gov/public_dis...</td>\n",
       "      <td>False</td>\n",
       "      <td>Republican</td>\n",
       "      <td>8000.0</td>\n",
       "      <td>False</td>\n",
       "    </tr>\n",
       "    <tr>\n",
       "      <th>2</th>\n",
       "      <td>2021</td>\n",
       "      <td>10/04/2021</td>\n",
       "      <td>2021-09-10</td>\n",
       "      <td>joint</td>\n",
       "      <td>ILPT</td>\n",
       "      <td>Industrial Logistics Properties Trust - Common...</td>\n",
       "      <td>purchase</td>\n",
       "      <td>$15,001 - $50,000</td>\n",
       "      <td>Hon. Virginia Foxx</td>\n",
       "      <td>NC05</td>\n",
       "      <td>https://disclosures-clerk.house.gov/public_dis...</td>\n",
       "      <td>False</td>\n",
       "      <td>Republican</td>\n",
       "      <td>32500.0</td>\n",
       "      <td>False</td>\n",
       "    </tr>\n",
       "    <tr>\n",
       "      <th>3</th>\n",
       "      <td>2021</td>\n",
       "      <td>10/04/2021</td>\n",
       "      <td>2021-09-28</td>\n",
       "      <td>joint</td>\n",
       "      <td>PM</td>\n",
       "      <td>Phillip Morris International Inc</td>\n",
       "      <td>purchase</td>\n",
       "      <td>$15,001 - $50,000</td>\n",
       "      <td>Hon. Virginia Foxx</td>\n",
       "      <td>NC05</td>\n",
       "      <td>https://disclosures-clerk.house.gov/public_dis...</td>\n",
       "      <td>False</td>\n",
       "      <td>Republican</td>\n",
       "      <td>32500.0</td>\n",
       "      <td>False</td>\n",
       "    </tr>\n",
       "    <tr>\n",
       "      <th>4</th>\n",
       "      <td>2021</td>\n",
       "      <td>10/04/2021</td>\n",
       "      <td>2021-09-17</td>\n",
       "      <td>self</td>\n",
       "      <td>BLK</td>\n",
       "      <td>BlackRock Inc</td>\n",
       "      <td>sale_partial</td>\n",
       "      <td>$1,001 - $15,000</td>\n",
       "      <td>Hon. Alan S. Lowenthal</td>\n",
       "      <td>CA47</td>\n",
       "      <td>https://disclosures-clerk.house.gov/public_dis...</td>\n",
       "      <td>False</td>\n",
       "      <td>Democratic</td>\n",
       "      <td>8000.0</td>\n",
       "      <td>False</td>\n",
       "    </tr>\n",
       "  </tbody>\n",
       "</table>\n",
       "</div>"
      ],
      "text/plain": [
       "   disclosure_year disclosure_date transaction_date  owner ticker  \\\n",
       "0             2021      10/04/2021       2021-09-27  joint     BP   \n",
       "1             2021      10/04/2021       2021-09-13  joint    XOM   \n",
       "2             2021      10/04/2021       2021-09-10  joint   ILPT   \n",
       "3             2021      10/04/2021       2021-09-28  joint     PM   \n",
       "4             2021      10/04/2021       2021-09-17   self    BLK   \n",
       "\n",
       "                                   asset_description          type  \\\n",
       "0                                             BP plc      purchase   \n",
       "1                            Exxon Mobil Corporation      purchase   \n",
       "2  Industrial Logistics Properties Trust - Common...      purchase   \n",
       "3                   Phillip Morris International Inc      purchase   \n",
       "4                                      BlackRock Inc  sale_partial   \n",
       "\n",
       "              amount          representative district  \\\n",
       "0   $1,001 - $15,000      Hon. Virginia Foxx     NC05   \n",
       "1   $1,001 - $15,000      Hon. Virginia Foxx     NC05   \n",
       "2  $15,001 - $50,000      Hon. Virginia Foxx     NC05   \n",
       "3  $15,001 - $50,000      Hon. Virginia Foxx     NC05   \n",
       "4   $1,001 - $15,000  Hon. Alan S. Lowenthal     CA47   \n",
       "\n",
       "                                            ptr_link  cap_gains_over_200_usd  \\\n",
       "0  https://disclosures-clerk.house.gov/public_dis...                   False   \n",
       "1  https://disclosures-clerk.house.gov/public_dis...                   False   \n",
       "2  https://disclosures-clerk.house.gov/public_dis...                   False   \n",
       "3  https://disclosures-clerk.house.gov/public_dis...                   False   \n",
       "4  https://disclosures-clerk.house.gov/public_dis...                   False   \n",
       "\n",
       "  current_party  avg_amount  ticker_missing  \n",
       "0    Republican      8000.0           False  \n",
       "1    Republican      8000.0           False  \n",
       "2    Republican     32500.0           False  \n",
       "3    Republican     32500.0           False  \n",
       "4    Democratic      8000.0           False  "
      ]
     },
     "execution_count": 295,
     "metadata": {},
     "output_type": "execute_result"
    }
   ],
   "source": [
    "with_party.head()"
   ]
  },
  {
   "cell_type": "code",
   "execution_count": 296,
   "metadata": {},
   "outputs": [],
   "source": [
    "dic={}"
   ]
  },
  {
   "cell_type": "code",
   "execution_count": 297,
   "metadata": {
    "scrolled": true
   },
   "outputs": [
    {
     "data": {
      "text/plain": [
       "['disclosure_year',\n",
       " 'disclosure_date',\n",
       " 'transaction_date',\n",
       " 'owner',\n",
       " 'ticker',\n",
       " 'asset_description',\n",
       " 'type',\n",
       " 'representative',\n",
       " 'district',\n",
       " 'current_party']"
      ]
     },
     "execution_count": 297,
     "metadata": {},
     "output_type": "execute_result"
    }
   ],
   "source": [
    "#filter the columns we need to do the tvd permutaiton test \n",
    "tvd_tester = with_party.columns.to_list()[0:-5]\n",
    "tvd_tester.pop(7)\n",
    "tvd_tester.append('current_party')\n",
    "tvd_tester"
   ]
  },
  {
   "cell_type": "code",
   "execution_count": 298,
   "metadata": {},
   "outputs": [],
   "source": [
    "# the function which used to calculate the TVD of ticker missing and other columns and calculate the p-value\n",
    "def tvd_permutation_test(df,x):\n",
    "    with_party = df.copy()\n",
    "    presentative_dis =with_party.pivot_table(index=x, columns='ticker_missing', aggfunc='size').fillna(0)\n",
    "    presentative_dis = presentative_dis / presentative_dis.sum()\n",
    "    obs_pre = presentative_dis.diff(axis=1).iloc[:, -1].abs().sum()/2\n",
    "    \n",
    "    \n",
    "    n_repetitions = 500\n",
    "    tvds = []\n",
    "    for _ in range(n_repetitions):\n",
    "        # Shuffling ticker missing and assigning back to the DataFrame\n",
    "        with_party['ticker_missing'] = np.random.permutation(with_party['ticker_missing'])\n",
    "\n",
    "        # Computing and storing TVD\n",
    "        presentative_dis =with_party.pivot_table(index=x, columns='ticker_missing', aggfunc='size').fillna(0)\n",
    "\n",
    "        tvd = presentative_dis.diff(axis=1).iloc[:, -1].abs().sum()/2\n",
    "        tvds.append(tvd)\n",
    "    pval_r = np.mean(np.array(tvds) >= obs_pre)\n",
    "    dic[x]=pval_r"
   ]
  },
  {
   "cell_type": "code",
   "execution_count": 299,
   "metadata": {},
   "outputs": [],
   "source": [
    "#test the p-value\n",
    "for i in tvd_tester:\n",
    "    tvd_permutation_test(with_party,i)"
   ]
  },
  {
   "cell_type": "code",
   "execution_count": 300,
   "metadata": {
    "scrolled": true
   },
   "outputs": [
    {
     "data": {
      "text/plain": [
       "{'disclosure_year': 1.0,\n",
       " 'disclosure_date': 1.0,\n",
       " 'transaction_date': 1.0,\n",
       " 'owner': 1.0,\n",
       " 'ticker': 1.0,\n",
       " 'asset_description': 1.0,\n",
       " 'type': 1.0,\n",
       " 'representative': 1.0,\n",
       " 'district': 1.0,\n",
       " 'current_party': 1.0}"
      ]
     },
     "execution_count": 300,
     "metadata": {},
     "output_type": "execute_result"
    }
   ],
   "source": [
    "dic"
   ]
  },
  {
   "cell_type": "markdown",
   "metadata": {},
   "source": [
    "The reuslt shows that all of the category columns are independent with the ticker ,because all of the p-value are more than 0.05"
   ]
  },
  {
   "cell_type": "code",
   "execution_count": 301,
   "metadata": {},
   "outputs": [
    {
     "data": {
      "text/plain": [
       "159127.80192407034"
      ]
     },
     "execution_count": 301,
     "metadata": {},
     "output_type": "execute_result"
    }
   ],
   "source": [
    "#calculate the amount difference of missingness \n",
    "obs_avg_amount = abs(with_party.groupby(\"ticker_missing\")[\"avg_amount\"].mean().diff().loc[True])\n",
    "obs_avg_amount"
   ]
  },
  {
   "cell_type": "code",
   "execution_count": 302,
   "metadata": {},
   "outputs": [],
   "source": [
    "# p-value for amount \n",
    "n_repetitions = 500\n",
    "mean_diff = []\n",
    "for _ in range(n_repetitions):\n",
    "    \n",
    "    # Shuffling ticket_missing and assigning back to the DataFrame\n",
    "    with_party['ticker_missing'] = np.random.permutation(with_party['ticker_missing'])\n",
    "    \n",
    "    # Computing and storing TVD\n",
    "    stat = abs(with_party.groupby(\"ticker_missing\")[\"avg_amount\"].mean().diff().loc[True])\n",
    "    \n",
    "    \n",
    "    mean_diff.append(stat)"
   ]
  },
  {
   "cell_type": "markdown",
   "metadata": {},
   "source": [
    "Since the p-value of the amount is less than 0.05 we reject the null hypothesis, we find that the ticker related to the amount"
   ]
  },
  {
   "cell_type": "code",
   "execution_count": 303,
   "metadata": {},
   "outputs": [
    {
     "data": {
      "text/plain": [
       "0.0"
      ]
     },
     "execution_count": 303,
     "metadata": {},
     "output_type": "execute_result"
    }
   ],
   "source": [
    "#p-value to test if the amount and ticker related \n",
    "pval = np.mean(np.array(mean_diff) >= obs_avg_amount)\n",
    "pval"
   ]
  },
  {
   "cell_type": "markdown",
   "metadata": {},
   "source": [
    "### Hypothesis Test / Permutation Test"
   ]
  },
  {
   "cell_type": "markdown",
   "metadata": {},
   "source": [
    "## Null hypothesis: \n",
    "party and trade amount are not related – the high average trade amount of democratic party is due to chance alone.\n",
    "\n",
    "## Alternative hypothesis: \n",
    "party and trade amount are related  – the high average trade amount of democratic party is not due to chance alone.\n",
    "\n",
    "## test statistic:\n",
    "the mean of democratic amount \n",
    "## Significance level:\n",
    "we choose the siginificance level of 5% because this is the strict level of siginicicance level and we want to avoid false positive rate.\n",
    "## Result: \n",
    "Since the p-value is 0 which smaller than 0.05, we reject the null hypothesis"
   ]
  },
  {
   "cell_type": "code",
   "execution_count": 102,
   "metadata": {
    "ExecuteTime": {
     "end_time": "2019-10-31T23:36:28.666489Z",
     "start_time": "2019-10-31T23:36:28.664381Z"
    }
   },
   "outputs": [],
   "source": [
    "#calculate the count and average trade amount of different party group \n",
    "party_table = with_party.groupby(\"current_party\")[\"avg_amount\"].agg(['mean', 'count'])"
   ]
  },
  {
   "cell_type": "code",
   "execution_count": 103,
   "metadata": {},
   "outputs": [
    {
     "data": {
      "text/html": [
       "<div>\n",
       "<style scoped>\n",
       "    .dataframe tbody tr th:only-of-type {\n",
       "        vertical-align: middle;\n",
       "    }\n",
       "\n",
       "    .dataframe tbody tr th {\n",
       "        vertical-align: top;\n",
       "    }\n",
       "\n",
       "    .dataframe thead th {\n",
       "        text-align: right;\n",
       "    }\n",
       "</style>\n",
       "<table border=\"1\" class=\"dataframe\">\n",
       "  <thead>\n",
       "    <tr style=\"text-align: right;\">\n",
       "      <th></th>\n",
       "      <th>mean</th>\n",
       "      <th>count</th>\n",
       "    </tr>\n",
       "    <tr>\n",
       "      <th>current_party</th>\n",
       "      <th></th>\n",
       "      <th></th>\n",
       "    </tr>\n",
       "  </thead>\n",
       "  <tbody>\n",
       "    <tr>\n",
       "      <th>Democratic</th>\n",
       "      <td>56342.725567</td>\n",
       "      <td>9833</td>\n",
       "    </tr>\n",
       "    <tr>\n",
       "      <th>Independent</th>\n",
       "      <td>16167.166667</td>\n",
       "      <td>3</td>\n",
       "    </tr>\n",
       "    <tr>\n",
       "      <th>Republican</th>\n",
       "      <td>63575.576268</td>\n",
       "      <td>5874</td>\n",
       "    </tr>\n",
       "  </tbody>\n",
       "</table>\n",
       "</div>"
      ],
      "text/plain": [
       "                       mean  count\n",
       "current_party                     \n",
       "Democratic     56342.725567   9833\n",
       "Independent    16167.166667      3\n",
       "Republican     63575.576268   5874"
      ]
     },
     "execution_count": 103,
     "metadata": {},
     "output_type": "execute_result"
    }
   ],
   "source": [
    "party_table"
   ]
  },
  {
   "cell_type": "code",
   "execution_count": 104,
   "metadata": {},
   "outputs": [],
   "source": [
    "#get the total number of the democratic people \n",
    "democra_count =party_table.loc[\"Democratic\"][\"count\"]"
   ]
  },
  {
   "cell_type": "markdown",
   "metadata": {},
   "source": [
    "The table of the party for understanding the count and average trade amount of different party group "
   ]
  },
  {
   "cell_type": "code",
   "execution_count": 105,
   "metadata": {},
   "outputs": [
    {
     "data": {
      "text/html": [
       "<div>\n",
       "<style scoped>\n",
       "    .dataframe tbody tr th:only-of-type {\n",
       "        vertical-align: middle;\n",
       "    }\n",
       "\n",
       "    .dataframe tbody tr th {\n",
       "        vertical-align: top;\n",
       "    }\n",
       "\n",
       "    .dataframe thead th {\n",
       "        text-align: right;\n",
       "    }\n",
       "</style>\n",
       "<table border=\"1\" class=\"dataframe\">\n",
       "  <thead>\n",
       "    <tr style=\"text-align: right;\">\n",
       "      <th></th>\n",
       "      <th>mean</th>\n",
       "      <th>count</th>\n",
       "    </tr>\n",
       "    <tr>\n",
       "      <th>current_party</th>\n",
       "      <th></th>\n",
       "      <th></th>\n",
       "    </tr>\n",
       "  </thead>\n",
       "  <tbody>\n",
       "    <tr>\n",
       "      <th>Democratic</th>\n",
       "      <td>56342.725567</td>\n",
       "      <td>9833</td>\n",
       "    </tr>\n",
       "    <tr>\n",
       "      <th>Independent</th>\n",
       "      <td>16167.166667</td>\n",
       "      <td>3</td>\n",
       "    </tr>\n",
       "    <tr>\n",
       "      <th>Republican</th>\n",
       "      <td>63575.576268</td>\n",
       "      <td>5874</td>\n",
       "    </tr>\n",
       "  </tbody>\n",
       "</table>\n",
       "</div>"
      ],
      "text/plain": [
       "                       mean  count\n",
       "current_party                     \n",
       "Democratic     56342.725567   9833\n",
       "Independent    16167.166667      3\n",
       "Republican     63575.576268   5874"
      ]
     },
     "execution_count": 105,
     "metadata": {},
     "output_type": "execute_result"
    }
   ],
   "source": [
    "party_table"
   ]
  },
  {
   "cell_type": "code",
   "execution_count": 106,
   "metadata": {},
   "outputs": [
    {
     "data": {
      "text/plain": [
       "56342.72556696837"
      ]
     },
     "execution_count": 106,
     "metadata": {},
     "output_type": "execute_result"
    }
   ],
   "source": [
    "#observe value of mean of the trader amount of the democratic party\n",
    "obs_de_amount = party_table.loc[\"Democratic\"][\"mean\"]\n",
    "obs_de_amount"
   ]
  },
  {
   "cell_type": "code",
   "execution_count": 107,
   "metadata": {},
   "outputs": [],
   "source": [
    "# doing the hypothesis test to get the test statistic\n",
    "num_reps = 10000\n",
    "averages = []\n",
    "for i in np.arange(num_reps):\n",
    "    random_sample = with_party.sample(int(democra_count))\n",
    "    new_average = random_sample['avg_amount'].mean()\n",
    "    averages.append(new_average)"
   ]
  },
  {
   "cell_type": "code",
   "execution_count": 118,
   "metadata": {},
   "outputs": [
    {
     "data": {
      "text/plain": [
       "0.7628"
      ]
     },
     "execution_count": 118,
     "metadata": {},
     "output_type": "execute_result"
    }
   ],
   "source": [
    "#calculate the p-value \n",
    "np.mean(np.array(averages)>=obs_de_amount)"
   ]
  },
  {
   "cell_type": "markdown",
   "metadata": {},
   "source": [
    "The histogram graph which shows how far the obeserve value and hypothesis test distribution "
   ]
  },
  {
   "cell_type": "code",
   "execution_count": 119,
   "metadata": {},
   "outputs": [
    {
     "data": {
      "image/png": "[encoded data removed]",
      "text/plain": [
       "<Figure size 640x480 with 1 Axes>"
      ]
     },
     "metadata": {
      "image/png": {
       "height": 434,
       "width": 607
      }
     },
     "output_type": "display_data"
    }
   ],
   "source": [
    "pd.Series(averages).plot(kind='hist', \n",
    "                         density=True,\n",
    "                         bins=30,\n",
    "                         ec='w',\n",
    "                         title='Average trade amount in Sample of Size 9833');\n",
    "plt.axvline(x=obs_de_amount, color='red', linewidth=2);"
   ]
  },
  {
   "cell_type": "code",
   "execution_count": null,
   "metadata": {},
   "outputs": [],
   "source": []
  }
 ],
 "metadata": {
  "kernelspec": {
   "display_name": "Python 3 (ipykernel)",
   "language": "python",
   "name": "python3"
  },
  "language_info": {
   "codemirror_mode": {
    "name": "ipython",
    "version": 3
   },
   "file_extension": ".py",
   "mimetype": "text/x-python",
   "name": "python",
   "nbconvert_exporter": "python",
   "pygments_lexer": "ipython3",
   "version": "3.8.13"
  }
 },
 "nbformat": 4,
 "nbformat_minor": 2
}
