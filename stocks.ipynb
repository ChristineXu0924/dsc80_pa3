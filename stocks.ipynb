{
 "cells": [
  {
   "cell_type": "markdown",
   "metadata": {},
   "source": [
    "# Stock Trades by Members of the US House of Representatives\n",
    "\n",
    "This project uses public data about the stock trades made by members of the US House of Representatives. This data is collected and maintained by Timothy Carambat as part of the [House Stock Watcher](https://housestockwatcher.com/) project. The project describes itself as follows:\n",
    "\n",
    "> With recent and ongoing investigations of incumbent congressional members being investigated for potentially violating the STOCK act. This website compiles this publicly available information in a format that is easier to digest then the original PDF source.\n",
    ">\n",
    "> Members of Congress must report periodic reports of their asset transactions. This website is purely for an informative purpose and aid in transparency.\n",
    ">\n",
    "> This site does not manipluate or censor any of the information from the original source. All data is transcribed by our community of contributors, which you can join for free by going to our transcription tool. Our moderation team takes great care in ensuring the accuracy of the information.\n",
    ">\n",
    "> This site is built and maintained by Timothy Carambat and supported with our contributors."
   ]
  },
  {
   "cell_type": "code",
   "execution_count": 399,
   "metadata": {},
   "outputs": [],
   "source": [
    "# Initialize Otter\n",
    "import otter\n",
    "grader = otter.Notebook(\"lab.ipynb\")"
   ]
  },
  {
   "cell_type": "code",
   "execution_count": 400,
   "metadata": {},
   "outputs": [],
   "source": [
    "import os\n",
    "import pandas as pd\n",
    "import numpy as np\n",
    "import matplotlib.pyplot as plt\n",
    "import glob\n",
    "import time\n",
    "import requests\n",
    "import bs4\n",
    "\\\n",
    "import lxml"
   ]
  },
  {
   "cell_type": "markdown",
   "metadata": {},
   "source": [
    "Some interesting questions to consider for this data set include:\n",
    "\n",
    "- Is there a difference in stock trading behavior between political parties? For example:\n",
    "    - does one party trade more often?\n",
    "    - does one party make larger trades?\n",
    "    - do the two parties invest in different stocks or sectors? For instance, do Democrats invest in Tesla more than Republicans?\n",
    "- What congresspeople have made the most trades?\n",
    "- What companies are most traded by congresspeople?\n",
    "- Is there evidence of insider trading? For example, Boeing stock dropped sharply in February 2020. Were there a suspiciously-high number of sales of Boeing before the drop?\n",
    "- When are stocks bought and sold? Is there a day of the week that is most common? Or a month of the year?"
   ]
  },
  {
   "cell_type": "markdown",
   "metadata": {},
   "source": [
    "### Getting the Data\n",
    "\n",
    "The full data set of stock trade disclosures is available as a CSV or as JSON at https://housestockwatcher.com/api.\n",
    "\n",
    "This data set does not, however, contain the political affiliation of the congresspeople. If you wish to investigate a question that relies on having this information, you'll need to find another dataset that contains it and perform a merge. *Hint*: Kaggle is a useful source of data sets."
   ]
  },
  {
   "cell_type": "code",
   "execution_count": 401,
   "metadata": {
    "scrolled": true
   },
   "outputs": [],
   "source": [
    "r = requests.get('https://house-stock-watcher-data.s3-us-west-2.amazonaws.com/data/all_transactions.json')\n",
    "df = pd.DataFrame(r.json())"
   ]
  },
  {
   "cell_type": "code",
   "execution_count": 402,
   "metadata": {},
   "outputs": [
    {
     "name": "stdout",
     "output_type": "stream",
     "text": [
      "<class 'pandas.core.frame.DataFrame'>\n",
      "Int64Index: 15710 entries, 10717 to 15709\n",
      "Data columns (total 12 columns):\n",
      " #   Column                  Non-Null Count  Dtype \n",
      "---  ------                  --------------  ----- \n",
      " 0   disclosure_year         15710 non-null  int64 \n",
      " 1   disclosure_date         15710 non-null  object\n",
      " 2   transaction_date        15710 non-null  object\n",
      " 3   owner                   9667 non-null   object\n",
      " 4   ticker                  15710 non-null  object\n",
      " 5   asset_description       15706 non-null  object\n",
      " 6   type                    15710 non-null  object\n",
      " 7   amount                  15710 non-null  object\n",
      " 8   representative          15710 non-null  object\n",
      " 9   district                15710 non-null  object\n",
      " 10  ptr_link                15710 non-null  object\n",
      " 11  cap_gains_over_200_usd  15710 non-null  bool  \n",
      "dtypes: bool(1), int64(1), object(10)\n",
      "memory usage: 1.5+ MB\n"
     ]
    }
   ],
   "source": [
    "sort_date = df.sort_values(by='disclosure_year', ascending = False)\n",
    "sort_date.info()"
   ]
  },
  {
   "cell_type": "code",
   "execution_count": 403,
   "metadata": {},
   "outputs": [
    {
     "data": {
      "text/html": [
       "<div>\n",
       "<style scoped>\n",
       "    .dataframe tbody tr th:only-of-type {\n",
       "        vertical-align: middle;\n",
       "    }\n",
       "\n",
       "    .dataframe tbody tr th {\n",
       "        vertical-align: top;\n",
       "    }\n",
       "\n",
       "    .dataframe thead th {\n",
       "        text-align: right;\n",
       "    }\n",
       "</style>\n",
       "<table border=\"1\" class=\"dataframe\">\n",
       "  <thead>\n",
       "    <tr style=\"text-align: right;\">\n",
       "      <th></th>\n",
       "      <th>disclosure_year</th>\n",
       "      <th>disclosure_date</th>\n",
       "      <th>transaction_date</th>\n",
       "      <th>owner</th>\n",
       "      <th>ticker</th>\n",
       "      <th>asset_description</th>\n",
       "      <th>type</th>\n",
       "      <th>amount</th>\n",
       "      <th>representative</th>\n",
       "      <th>district</th>\n",
       "      <th>ptr_link</th>\n",
       "      <th>cap_gains_over_200_usd</th>\n",
       "    </tr>\n",
       "  </thead>\n",
       "  <tbody>\n",
       "    <tr>\n",
       "      <th>10717</th>\n",
       "      <td>2022</td>\n",
       "      <td>10/11/2022</td>\n",
       "      <td>2022-09-12</td>\n",
       "      <td>self</td>\n",
       "      <td>TSLA</td>\n",
       "      <td>Tesla Inc</td>\n",
       "      <td>sale_partial</td>\n",
       "      <td>$1,001 - $15,000</td>\n",
       "      <td>Hon. Kathy Manning</td>\n",
       "      <td>NC06</td>\n",
       "      <td>https://disclosures-clerk.house.gov/public_dis...</td>\n",
       "      <td>False</td>\n",
       "    </tr>\n",
       "    <tr>\n",
       "      <th>7530</th>\n",
       "      <td>2022</td>\n",
       "      <td>06/19/2022</td>\n",
       "      <td>2022-05-18</td>\n",
       "      <td>self</td>\n",
       "      <td>--</td>\n",
       "      <td>Orange CTY CA REV UTX</td>\n",
       "      <td>purchase</td>\n",
       "      <td>$100,001 - $250,000</td>\n",
       "      <td>Hon. Scott H. Peters</td>\n",
       "      <td>CA52</td>\n",
       "      <td>https://disclosures-clerk.house.gov/public_dis...</td>\n",
       "      <td>False</td>\n",
       "    </tr>\n",
       "    <tr>\n",
       "      <th>7576</th>\n",
       "      <td>2022</td>\n",
       "      <td>09/02/2022</td>\n",
       "      <td>2021-03-04</td>\n",
       "      <td>self</td>\n",
       "      <td>WM</td>\n",
       "      <td>Waste Management Inc</td>\n",
       "      <td>purchase</td>\n",
       "      <td>$1,001 - $15,000</td>\n",
       "      <td>Hon. Carol Devine Miller</td>\n",
       "      <td>WV03</td>\n",
       "      <td>https://disclosures-clerk.house.gov/public_dis...</td>\n",
       "      <td>False</td>\n",
       "    </tr>\n",
       "    <tr>\n",
       "      <th>7575</th>\n",
       "      <td>2022</td>\n",
       "      <td>09/02/2022</td>\n",
       "      <td>2021-03-04</td>\n",
       "      <td>self</td>\n",
       "      <td>VTRA</td>\n",
       "      <td>Viatris Inc</td>\n",
       "      <td>sale_full</td>\n",
       "      <td>$1,001 - $15,000</td>\n",
       "      <td>Hon. Carol Devine Miller</td>\n",
       "      <td>WV03</td>\n",
       "      <td>https://disclosures-clerk.house.gov/public_dis...</td>\n",
       "      <td>False</td>\n",
       "    </tr>\n",
       "    <tr>\n",
       "      <th>7574</th>\n",
       "      <td>2022</td>\n",
       "      <td>09/02/2022</td>\n",
       "      <td>2021-07-28</td>\n",
       "      <td>self</td>\n",
       "      <td>VIAC</td>\n",
       "      <td>ViacomCBS Inc - Class B</td>\n",
       "      <td>purchase</td>\n",
       "      <td>$15,001 - $50,000</td>\n",
       "      <td>Hon. Carol Devine Miller</td>\n",
       "      <td>WV03</td>\n",
       "      <td>https://disclosures-clerk.house.gov/public_dis...</td>\n",
       "      <td>False</td>\n",
       "    </tr>\n",
       "    <tr>\n",
       "      <th>...</th>\n",
       "      <td>...</td>\n",
       "      <td>...</td>\n",
       "      <td>...</td>\n",
       "      <td>...</td>\n",
       "      <td>...</td>\n",
       "      <td>...</td>\n",
       "      <td>...</td>\n",
       "      <td>...</td>\n",
       "      <td>...</td>\n",
       "      <td>...</td>\n",
       "      <td>...</td>\n",
       "      <td>...</td>\n",
       "    </tr>\n",
       "    <tr>\n",
       "      <th>7377</th>\n",
       "      <td>2020</td>\n",
       "      <td>08/07/2020</td>\n",
       "      <td>2020-05-28</td>\n",
       "      <td>self</td>\n",
       "      <td>CRM</td>\n",
       "      <td>Salesforce.com Inc</td>\n",
       "      <td>purchase</td>\n",
       "      <td>$1,001 - $15,000</td>\n",
       "      <td>Hon. William R. Timmons</td>\n",
       "      <td>SC04</td>\n",
       "      <td>https://disclosures-clerk.house.gov/public_dis...</td>\n",
       "      <td>False</td>\n",
       "    </tr>\n",
       "    <tr>\n",
       "      <th>7378</th>\n",
       "      <td>2020</td>\n",
       "      <td>08/07/2020</td>\n",
       "      <td>2020-06-29</td>\n",
       "      <td>self</td>\n",
       "      <td>SFST</td>\n",
       "      <td>Southern First Bancshares, Inc.</td>\n",
       "      <td>sale_full</td>\n",
       "      <td>$1,001 - $15,000</td>\n",
       "      <td>Hon. William R. Timmons</td>\n",
       "      <td>SC04</td>\n",
       "      <td>https://disclosures-clerk.house.gov/public_dis...</td>\n",
       "      <td>False</td>\n",
       "    </tr>\n",
       "    <tr>\n",
       "      <th>7379</th>\n",
       "      <td>2020</td>\n",
       "      <td>08/07/2020</td>\n",
       "      <td>2020-05-28</td>\n",
       "      <td>self</td>\n",
       "      <td>SBUX</td>\n",
       "      <td>Starbucks Corporation</td>\n",
       "      <td>sale_full</td>\n",
       "      <td>$1,001 - $15,000</td>\n",
       "      <td>Hon. William R. Timmons</td>\n",
       "      <td>SC04</td>\n",
       "      <td>https://disclosures-clerk.house.gov/public_dis...</td>\n",
       "      <td>True</td>\n",
       "    </tr>\n",
       "    <tr>\n",
       "      <th>7380</th>\n",
       "      <td>2020</td>\n",
       "      <td>08/07/2020</td>\n",
       "      <td>2020-05-28</td>\n",
       "      <td>self</td>\n",
       "      <td>WMT</td>\n",
       "      <td>Walmart Inc.</td>\n",
       "      <td>purchase</td>\n",
       "      <td>$1,001 - $15,000</td>\n",
       "      <td>Hon. William R. Timmons</td>\n",
       "      <td>SC04</td>\n",
       "      <td>https://disclosures-clerk.house.gov/public_dis...</td>\n",
       "      <td>False</td>\n",
       "    </tr>\n",
       "    <tr>\n",
       "      <th>15709</th>\n",
       "      <td>2020</td>\n",
       "      <td>06/10/2020</td>\n",
       "      <td>2020-03-13</td>\n",
       "      <td>None</td>\n",
       "      <td>DIS</td>\n",
       "      <td>Walt Disney Company</td>\n",
       "      <td>sale_full</td>\n",
       "      <td>$250,001 - $500,000</td>\n",
       "      <td>Hon. Nicholas Van Taylor</td>\n",
       "      <td>TX03</td>\n",
       "      <td>https://disclosures-clerk.house.gov/public_dis...</td>\n",
       "      <td>False</td>\n",
       "    </tr>\n",
       "  </tbody>\n",
       "</table>\n",
       "<p>15710 rows × 12 columns</p>\n",
       "</div>"
      ],
      "text/plain": [
       "       disclosure_year disclosure_date transaction_date owner ticker  \\\n",
       "10717             2022      10/11/2022       2022-09-12  self   TSLA   \n",
       "7530              2022      06/19/2022       2022-05-18  self     --   \n",
       "7576              2022      09/02/2022       2021-03-04  self     WM   \n",
       "7575              2022      09/02/2022       2021-03-04  self   VTRA   \n",
       "7574              2022      09/02/2022       2021-07-28  self   VIAC   \n",
       "...                ...             ...              ...   ...    ...   \n",
       "7377              2020      08/07/2020       2020-05-28  self    CRM   \n",
       "7378              2020      08/07/2020       2020-06-29  self   SFST   \n",
       "7379              2020      08/07/2020       2020-05-28  self   SBUX   \n",
       "7380              2020      08/07/2020       2020-05-28  self    WMT   \n",
       "15709             2020      06/10/2020       2020-03-13  None    DIS   \n",
       "\n",
       "                     asset_description          type               amount  \\\n",
       "10717                        Tesla Inc  sale_partial     $1,001 - $15,000   \n",
       "7530             Orange CTY CA REV UTX      purchase  $100,001 - $250,000   \n",
       "7576              Waste Management Inc      purchase     $1,001 - $15,000   \n",
       "7575                       Viatris Inc     sale_full     $1,001 - $15,000   \n",
       "7574           ViacomCBS Inc - Class B      purchase    $15,001 - $50,000   \n",
       "...                                ...           ...                  ...   \n",
       "7377                Salesforce.com Inc      purchase     $1,001 - $15,000   \n",
       "7378   Southern First Bancshares, Inc.     sale_full     $1,001 - $15,000   \n",
       "7379             Starbucks Corporation     sale_full     $1,001 - $15,000   \n",
       "7380                      Walmart Inc.      purchase     $1,001 - $15,000   \n",
       "15709              Walt Disney Company     sale_full  $250,001 - $500,000   \n",
       "\n",
       "                 representative district  \\\n",
       "10717        Hon. Kathy Manning     NC06   \n",
       "7530       Hon. Scott H. Peters     CA52   \n",
       "7576   Hon. Carol Devine Miller     WV03   \n",
       "7575   Hon. Carol Devine Miller     WV03   \n",
       "7574   Hon. Carol Devine Miller     WV03   \n",
       "...                         ...      ...   \n",
       "7377    Hon. William R. Timmons     SC04   \n",
       "7378    Hon. William R. Timmons     SC04   \n",
       "7379    Hon. William R. Timmons     SC04   \n",
       "7380    Hon. William R. Timmons     SC04   \n",
       "15709  Hon. Nicholas Van Taylor     TX03   \n",
       "\n",
       "                                                ptr_link  \\\n",
       "10717  https://disclosures-clerk.house.gov/public_dis...   \n",
       "7530   https://disclosures-clerk.house.gov/public_dis...   \n",
       "7576   https://disclosures-clerk.house.gov/public_dis...   \n",
       "7575   https://disclosures-clerk.house.gov/public_dis...   \n",
       "7574   https://disclosures-clerk.house.gov/public_dis...   \n",
       "...                                                  ...   \n",
       "7377   https://disclosures-clerk.house.gov/public_dis...   \n",
       "7378   https://disclosures-clerk.house.gov/public_dis...   \n",
       "7379   https://disclosures-clerk.house.gov/public_dis...   \n",
       "7380   https://disclosures-clerk.house.gov/public_dis...   \n",
       "15709  https://disclosures-clerk.house.gov/public_dis...   \n",
       "\n",
       "       cap_gains_over_200_usd  \n",
       "10717                   False  \n",
       "7530                    False  \n",
       "7576                    False  \n",
       "7575                    False  \n",
       "7574                    False  \n",
       "...                       ...  \n",
       "7377                    False  \n",
       "7378                    False  \n",
       "7379                     True  \n",
       "7380                    False  \n",
       "15709                   False  \n",
       "\n",
       "[15710 rows x 12 columns]"
      ]
     },
     "execution_count": 403,
     "metadata": {},
     "output_type": "execute_result"
    }
   ],
   "source": [
    "sort_date"
   ]
  },
  {
   "cell_type": "code",
   "execution_count": 404,
   "metadata": {},
   "outputs": [
    {
     "data": {
      "text/plain": [
       "array(['self', None, 'joint', 'dependent', '--'], dtype=object)"
      ]
     },
     "execution_count": 404,
     "metadata": {},
     "output_type": "execute_result"
    }
   ],
   "source": [
    "sort_date['owner'].unique()"
   ]
  },
  {
   "cell_type": "code",
   "execution_count": 405,
   "metadata": {
    "scrolled": true
   },
   "outputs": [
    {
     "data": {
      "text/html": [
       "<div>\n",
       "<style scoped>\n",
       "    .dataframe tbody tr th:only-of-type {\n",
       "        vertical-align: middle;\n",
       "    }\n",
       "\n",
       "    .dataframe tbody tr th {\n",
       "        vertical-align: top;\n",
       "    }\n",
       "\n",
       "    .dataframe thead th {\n",
       "        text-align: right;\n",
       "    }\n",
       "</style>\n",
       "<table border=\"1\" class=\"dataframe\">\n",
       "  <thead>\n",
       "    <tr style=\"text-align: right;\">\n",
       "      <th></th>\n",
       "      <th>name</th>\n",
       "      <th>current_party</th>\n",
       "    </tr>\n",
       "  </thead>\n",
       "  <tbody>\n",
       "    <tr>\n",
       "      <th>0</th>\n",
       "      <td>ralph-abraham</td>\n",
       "      <td>Republican</td>\n",
       "    </tr>\n",
       "    <tr>\n",
       "      <th>1</th>\n",
       "      <td>alma-adams</td>\n",
       "      <td>Democratic</td>\n",
       "    </tr>\n",
       "    <tr>\n",
       "      <th>2</th>\n",
       "      <td>robert-aderholt</td>\n",
       "      <td>Republican</td>\n",
       "    </tr>\n",
       "    <tr>\n",
       "      <th>3</th>\n",
       "      <td>pete-aguilar</td>\n",
       "      <td>Democratic</td>\n",
       "    </tr>\n",
       "    <tr>\n",
       "      <th>4</th>\n",
       "      <td>rick-allen</td>\n",
       "      <td>Republican</td>\n",
       "    </tr>\n",
       "    <tr>\n",
       "      <th>...</th>\n",
       "      <td>...</td>\n",
       "      <td>...</td>\n",
       "    </tr>\n",
       "    <tr>\n",
       "      <th>438</th>\n",
       "      <td>ron-wright</td>\n",
       "      <td>Republican</td>\n",
       "    </tr>\n",
       "    <tr>\n",
       "      <th>439</th>\n",
       "      <td>john-yarmuth</td>\n",
       "      <td>Democratic</td>\n",
       "    </tr>\n",
       "    <tr>\n",
       "      <th>440</th>\n",
       "      <td>ted-yoho</td>\n",
       "      <td>Republican</td>\n",
       "    </tr>\n",
       "    <tr>\n",
       "      <th>441</th>\n",
       "      <td>don-young</td>\n",
       "      <td>Republican</td>\n",
       "    </tr>\n",
       "    <tr>\n",
       "      <th>442</th>\n",
       "      <td>lee-zeldin</td>\n",
       "      <td>Republican</td>\n",
       "    </tr>\n",
       "  </tbody>\n",
       "</table>\n",
       "<p>443 rows × 2 columns</p>\n",
       "</div>"
      ],
      "text/plain": [
       "                name current_party\n",
       "0      ralph-abraham    Republican\n",
       "1         alma-adams    Democratic\n",
       "2    robert-aderholt    Republican\n",
       "3       pete-aguilar    Democratic\n",
       "4         rick-allen    Republican\n",
       "..               ...           ...\n",
       "438       ron-wright    Republican\n",
       "439     john-yarmuth    Democratic\n",
       "440         ted-yoho    Republican\n",
       "441        don-young    Republican\n",
       "442       lee-zeldin    Republican\n",
       "\n",
       "[443 rows x 2 columns]"
      ]
     },
     "execution_count": 405,
     "metadata": {},
     "output_type": "execute_result"
    }
   ],
   "source": [
    "affiliation = pd.read_csv(\"house_members_116.csv\")\n",
    "affiliate = affiliation[['name', 'current_party']]\n",
    "affiliate"
   ]
  },
  {
   "cell_type": "code",
   "execution_count": 406,
   "metadata": {},
   "outputs": [
    {
     "name": "stderr",
     "output_type": "stream",
     "text": [
      "C:\\Users\\ChristineXu\\AppData\\Local\\Temp\\ipykernel_4524\\2999190261.py:1: SettingWithCopyWarning: \n",
      "A value is trying to be set on a copy of a slice from a DataFrame.\n",
      "Try using .loc[row_indexer,col_indexer] = value instead\n",
      "\n",
      "See the caveats in the documentation: https://pandas.pydata.org/pandas-docs/stable/user_guide/indexing.html#returning-a-view-versus-a-copy\n",
      "  affiliate['name'] = affiliate['name'].str.replace('-', ' ')\n"
     ]
    },
    {
     "data": {
      "text/plain": [
       "True"
      ]
     },
     "execution_count": 406,
     "metadata": {},
     "output_type": "execute_result"
    }
   ],
   "source": [
    "affiliate['name'] = affiliate['name'].str.replace('-', ' ')"
   ]
  },
  {
   "cell_type": "markdown",
   "metadata": {},
   "source": []
  },
  {
   "cell_type": "code",
   "execution_count": 407,
   "metadata": {},
   "outputs": [
    {
     "name": "stderr",
     "output_type": "stream",
     "text": [
      "C:\\Users\\ChristineXu\\AppData\\Local\\Temp\\ipykernel_4524\\6193341.py:9: SettingWithCopyWarning: \n",
      "A value is trying to be set on a copy of a slice from a DataFrame.\n",
      "Try using .loc[row_indexer,col_indexer] = value instead\n",
      "\n",
      "See the caveats in the documentation: https://pandas.pydata.org/pandas-docs/stable/user_guide/indexing.html#returning-a-view-versus-a-copy\n",
      "  affiliate['name'] = affiliate['name'].transform(clean_name)\n"
     ]
    },
    {
     "data": {
      "text/html": [
       "<div>\n",
       "<style scoped>\n",
       "    .dataframe tbody tr th:only-of-type {\n",
       "        vertical-align: middle;\n",
       "    }\n",
       "\n",
       "    .dataframe tbody tr th {\n",
       "        vertical-align: top;\n",
       "    }\n",
       "\n",
       "    .dataframe thead th {\n",
       "        text-align: right;\n",
       "    }\n",
       "</style>\n",
       "<table border=\"1\" class=\"dataframe\">\n",
       "  <thead>\n",
       "    <tr style=\"text-align: right;\">\n",
       "      <th></th>\n",
       "      <th>name</th>\n",
       "      <th>current_party</th>\n",
       "    </tr>\n",
       "  </thead>\n",
       "  <tbody>\n",
       "    <tr>\n",
       "      <th>0</th>\n",
       "      <td>ralph abraham</td>\n",
       "      <td>Republican</td>\n",
       "    </tr>\n",
       "    <tr>\n",
       "      <th>1</th>\n",
       "      <td>alma adams</td>\n",
       "      <td>Democratic</td>\n",
       "    </tr>\n",
       "    <tr>\n",
       "      <th>2</th>\n",
       "      <td>robert aderholt</td>\n",
       "      <td>Republican</td>\n",
       "    </tr>\n",
       "    <tr>\n",
       "      <th>3</th>\n",
       "      <td>pete aguilar</td>\n",
       "      <td>Democratic</td>\n",
       "    </tr>\n",
       "    <tr>\n",
       "      <th>4</th>\n",
       "      <td>rick allen</td>\n",
       "      <td>Republican</td>\n",
       "    </tr>\n",
       "    <tr>\n",
       "      <th>...</th>\n",
       "      <td>...</td>\n",
       "      <td>...</td>\n",
       "    </tr>\n",
       "    <tr>\n",
       "      <th>438</th>\n",
       "      <td>ron wright</td>\n",
       "      <td>Republican</td>\n",
       "    </tr>\n",
       "    <tr>\n",
       "      <th>439</th>\n",
       "      <td>john yarmuth</td>\n",
       "      <td>Democratic</td>\n",
       "    </tr>\n",
       "    <tr>\n",
       "      <th>440</th>\n",
       "      <td>ted yoho</td>\n",
       "      <td>Republican</td>\n",
       "    </tr>\n",
       "    <tr>\n",
       "      <th>441</th>\n",
       "      <td>don young</td>\n",
       "      <td>Republican</td>\n",
       "    </tr>\n",
       "    <tr>\n",
       "      <th>442</th>\n",
       "      <td>lee zeldin</td>\n",
       "      <td>Republican</td>\n",
       "    </tr>\n",
       "  </tbody>\n",
       "</table>\n",
       "<p>443 rows × 2 columns</p>\n",
       "</div>"
      ],
      "text/plain": [
       "                name current_party\n",
       "0      ralph abraham    Republican\n",
       "1         alma adams    Democratic\n",
       "2    robert aderholt    Republican\n",
       "3       pete aguilar    Democratic\n",
       "4         rick allen    Republican\n",
       "..               ...           ...\n",
       "438       ron wright    Republican\n",
       "439     john yarmuth    Democratic\n",
       "440         ted yoho    Republican\n",
       "441        don young    Republican\n",
       "442       lee zeldin    Republican\n",
       "\n",
       "[443 rows x 2 columns]"
      ]
     },
     "execution_count": 407,
     "metadata": {},
     "output_type": "execute_result"
    }
   ],
   "source": [
    "def clean_name(name):\n",
    "    name = name.replace('Hon. ', '')\n",
    "    name = name.replace('None ', '')\n",
    "    name = name.replace('Mr. ', '')\n",
    "    name = name.replace('Mrs. ', '')\n",
    "    name = name.replace('W. ', '')\n",
    "    no_middle = name.split(' ')[0] +' ' + name.split(' ')[-1]\n",
    "    return no_middle.lower()\n",
    "affiliate['name'] = affiliate['name'].transform(clean_name)\n",
    "affiliate"
   ]
  },
  {
   "cell_type": "code",
   "execution_count": 408,
   "metadata": {},
   "outputs": [
    {
     "data": {
      "text/plain": [
       "True"
      ]
     },
     "execution_count": 408,
     "metadata": {},
     "output_type": "execute_result"
    }
   ],
   "source": [
    "'nancy pelosi' in affiliate['name'].values"
   ]
  },
  {
   "cell_type": "code",
   "execution_count": 409,
   "metadata": {},
   "outputs": [
    {
     "data": {
      "text/plain": [
       "'nancy pelosi'"
      ]
     },
     "execution_count": 409,
     "metadata": {},
     "output_type": "execute_result"
    }
   ],
   "source": [
    "'nancy pelosi'.replace('Hon. ', '')"
   ]
  },
  {
   "cell_type": "code",
   "execution_count": 410,
   "metadata": {},
   "outputs": [
    {
     "data": {
      "text/plain": [
       "False"
      ]
     },
     "execution_count": 410,
     "metadata": {},
     "output_type": "execute_result"
    }
   ],
   "source": [
    "'daniel crenshaw' in affiliate['name'].values"
   ]
  },
  {
   "cell_type": "code",
   "execution_count": null,
   "metadata": {},
   "outputs": [],
   "source": []
  },
  {
   "cell_type": "code",
   "execution_count": 411,
   "metadata": {},
   "outputs": [],
   "source": [
    "replace_values = {\n",
    "           'rick allen': 'richard allen',\n",
    "           'cynthia axne': 'cindy axne',\n",
    "           'dan crenshaw': 'daniel crenshaw',\n",
    "           'gregory murphy': 'greg murphy',\n",
    "            'w steube': 'greg steube',\n",
    "           'jim costa': 'james costa',\n",
    "           'ro khanna': 'rohit khanna',\n",
    "           'mike gallagher': 'michael gallagher',\n",
    "           'k conaway': 'k. conaway',\n",
    "           'a mceachin': 'aston mceachin',\n",
    "           'ken buck': 'kenneth buck',\n",
    "           'jim banks': 'james banks',\n",
    "           'j hill':'james hill',\n",
    "           'raul grijalva': 'raúl grijalva',\n",
    "           'mario balart': 'mario diaz-balart',\n",
    "           'jim hagedorn':'james hagedorn',\n",
    "           'raja krishnamoorthi': 's. krishnamoorthi',\n",
    "           'wm clay': 'wm. clay',\n",
    "           'tom halleran': \"tom o'halleran\",\n",
    "          }"
   ]
  },
  {
   "cell_type": "code",
   "execution_count": null,
   "metadata": {},
   "outputs": [],
   "source": []
  },
  {
   "cell_type": "code",
   "execution_count": 412,
   "metadata": {},
   "outputs": [],
   "source": [
    "sort_date['cleaned_name'] = sort_date['representative'].transform(clean_name)"
   ]
  },
  {
   "cell_type": "code",
   "execution_count": 413,
   "metadata": {},
   "outputs": [
    {
     "name": "stderr",
     "output_type": "stream",
     "text": [
      "C:\\Users\\ChristineXu\\AppData\\Local\\Temp\\ipykernel_4524\\4036000746.py:1: SettingWithCopyWarning: \n",
      "A value is trying to be set on a copy of a slice from a DataFrame.\n",
      "Try using .loc[row_indexer,col_indexer] = value instead\n",
      "\n",
      "See the caveats in the documentation: https://pandas.pydata.org/pandas-docs/stable/user_guide/indexing.html#returning-a-view-versus-a-copy\n",
      "  affiliate['name'] = affiliate['name'].replace(replace_values)\n"
     ]
    },
    {
     "data": {
      "text/plain": [
       "False"
      ]
     },
     "execution_count": 413,
     "metadata": {},
     "output_type": "execute_result"
    }
   ],
   "source": [
    "affiliate['name'] = affiliate['name'].replace(replace_values)\n",
    "'w steube' in affiliate['name'].values"
   ]
  },
  {
   "cell_type": "code",
   "execution_count": 414,
   "metadata": {},
   "outputs": [],
   "source": [
    "with_party = sort_date.merge(affiliate, left_on = 'cleaned_name', right_on = 'name', how='left')\n"
   ]
  },
  {
   "cell_type": "code",
   "execution_count": 415,
   "metadata": {},
   "outputs": [
    {
     "data": {
      "text/html": [
       "<div>\n",
       "<style scoped>\n",
       "    .dataframe tbody tr th:only-of-type {\n",
       "        vertical-align: middle;\n",
       "    }\n",
       "\n",
       "    .dataframe tbody tr th {\n",
       "        vertical-align: top;\n",
       "    }\n",
       "\n",
       "    .dataframe thead th {\n",
       "        text-align: right;\n",
       "    }\n",
       "</style>\n",
       "<table border=\"1\" class=\"dataframe\">\n",
       "  <thead>\n",
       "    <tr style=\"text-align: right;\">\n",
       "      <th></th>\n",
       "      <th>disclosure_year</th>\n",
       "      <th>disclosure_date</th>\n",
       "      <th>transaction_date</th>\n",
       "      <th>owner</th>\n",
       "      <th>ticker</th>\n",
       "      <th>asset_description</th>\n",
       "      <th>type</th>\n",
       "      <th>amount</th>\n",
       "      <th>representative</th>\n",
       "      <th>district</th>\n",
       "      <th>ptr_link</th>\n",
       "      <th>cap_gains_over_200_usd</th>\n",
       "      <th>cleaned_name</th>\n",
       "      <th>name</th>\n",
       "      <th>current_party</th>\n",
       "    </tr>\n",
       "  </thead>\n",
       "  <tbody>\n",
       "    <tr>\n",
       "      <th>887</th>\n",
       "      <td>2022</td>\n",
       "      <td>01/14/2022</td>\n",
       "      <td>2021-12-17</td>\n",
       "      <td>None</td>\n",
       "      <td>RNGR</td>\n",
       "      <td>Ranger Energy Services Inc Class A</td>\n",
       "      <td>exchange</td>\n",
       "      <td>$15,001 - $50,000</td>\n",
       "      <td>Hon. Nicholas V. Taylor</td>\n",
       "      <td>TX03</td>\n",
       "      <td>https://disclosures-clerk.house.gov/public_dis...</td>\n",
       "      <td>False</td>\n",
       "      <td>nicholas taylor</td>\n",
       "      <td>NaN</td>\n",
       "      <td>NaN</td>\n",
       "    </tr>\n",
       "  </tbody>\n",
       "</table>\n",
       "</div>"
      ],
      "text/plain": [
       "     disclosure_year disclosure_date transaction_date owner ticker  \\\n",
       "887             2022      01/14/2022       2021-12-17  None   RNGR   \n",
       "\n",
       "                      asset_description      type             amount  \\\n",
       "887  Ranger Energy Services Inc Class A  exchange  $15,001 - $50,000   \n",
       "\n",
       "              representative district  \\\n",
       "887  Hon. Nicholas V. Taylor     TX03   \n",
       "\n",
       "                                              ptr_link  \\\n",
       "887  https://disclosures-clerk.house.gov/public_dis...   \n",
       "\n",
       "     cap_gains_over_200_usd     cleaned_name name current_party  \n",
       "887                   False  nicholas taylor  NaN           NaN  "
      ]
     },
     "execution_count": 415,
     "metadata": {},
     "output_type": "execute_result"
    }
   ],
   "source": [
    "with_party[with_party['representative'].str.contains('V. Taylor')]"
   ]
  },
  {
   "cell_type": "code",
   "execution_count": null,
   "metadata": {},
   "outputs": [],
   "source": []
  },
  {
   "cell_type": "code",
   "execution_count": 416,
   "metadata": {
    "scrolled": true
   },
   "outputs": [
    {
     "data": {
      "text/plain": [
       "array(['kathy manning', 'scott franklin', 'maria salazar',\n",
       "       'christopher jacobs', 'marjorie greene', 'bill pascrell',\n",
       "       'august pfluger', 'patrick fallon', 'pete sessions',\n",
       "       'victoria spartz', 'andrew garbarino', 'nicholas taylor',\n",
       "       'david cawthorn', 'jake auchincloss', 'deborah ross',\n",
       "       'marie newman', 'blake moore', 'michael garcia',\n",
       "       'diana harshbarger', 'sara jacobs', 'peter meijer',\n",
       "       'ashley arenholz', 'felix moore', 'stephanie bice', 'neal facs'],\n",
       "      dtype=object)"
      ]
     },
     "execution_count": 416,
     "metadata": {},
     "output_type": "execute_result"
    }
   ],
   "source": [
    "nans = with_party[with_party['name'].isna()]\n",
    "uni = nans['cleaned_name'].unique()\n",
    "uni"
   ]
  },
  {
   "cell_type": "code",
   "execution_count": 417,
   "metadata": {},
   "outputs": [
    {
     "data": {
      "text/plain": [
       "True"
      ]
     },
     "execution_count": 417,
     "metadata": {},
     "output_type": "execute_result"
    }
   ],
   "source": [
    "'tj cox' in affiliate['name'].values"
   ]
  },
  {
   "cell_type": "code",
   "execution_count": 418,
   "metadata": {},
   "outputs": [],
   "source": [
    "d = 'Democratic'\n",
    "r = 'Republican'\n",
    "mannul_fill_party = {\n",
    "                    'kathy manning': d, 'scott franklin': r,\n",
    "                    'maria salazar': r, 'christopher jacobs': r,\n",
    "                    'marjorie greene': r, 'bill pascrell': d,\n",
    "                     'august pfluger': r, 'patrick fallon': r,\n",
    "                     'pete sessions': r, 'victoria spartz': r,\n",
    "                     'andrew garbarino': r,'david cawthorn': r,\n",
    "                     'jake auchincloss': d, 'deborah ross': d,\n",
    "                     'marie newman': d, 'blake moore': r,\n",
    "                     'michael garcia': r, 'diana harshbarger': r,\n",
    "                     'sara jacobs': d, 'peter meijer': r,\n",
    "                     'ashley arenholz':r,'felix moore': r,\n",
    "                     'stephanie bice': r, 'neal facs': r\n",
    "                    }\n",
    "nicholas_taylors = {\"Hon. Nicholas Van Taylor\": r,\n",
    "                   \"Hon. Nicholas V. Taylor\": d}"
   ]
  },
  {
   "cell_type": "code",
   "execution_count": 419,
   "metadata": {},
   "outputs": [],
   "source": [
    "def mannul_fill(row):\n",
    "    if row['cleaned_name'] in mannul_fill_party.keys():\n",
    "        return mannul_fill_party[row['cleaned_name']]\n",
    "    elif row['representative'] in nicholas_taylors.keys():\n",
    "        return nicholas_taylors[row['representative']]\n",
    "    else:\n",
    "        return row['current_party']"
   ]
  },
  {
   "cell_type": "code",
   "execution_count": 423,
   "metadata": {},
   "outputs": [
    {
     "data": {
      "text/plain": [
       "0        Democratic\n",
       "1        Democratic\n",
       "2        Republican\n",
       "3        Republican\n",
       "4        Republican\n",
       "            ...    \n",
       "15705    Republican\n",
       "15706    Republican\n",
       "15707    Republican\n",
       "15708    Republican\n",
       "15709    Republican\n",
       "Length: 15710, dtype: object"
      ]
     },
     "execution_count": 423,
     "metadata": {},
     "output_type": "execute_result"
    }
   ],
   "source": [
    "full_party = with_party.apply(mannul_fill, axis=1)\n",
    "full_party"
   ]
  },
  {
   "cell_type": "code",
   "execution_count": 424,
   "metadata": {},
   "outputs": [],
   "source": [
    "with_party['current_party'] = full_party"
   ]
  },
  {
   "cell_type": "code",
   "execution_count": 428,
   "metadata": {},
   "outputs": [
    {
     "data": {
      "text/plain": [
       "0"
      ]
     },
     "execution_count": 428,
     "metadata": {},
     "output_type": "execute_result"
    }
   ],
   "source": [
    "with_party['current_party'].isna().sum()"
   ]
  },
  {
   "cell_type": "markdown",
   "metadata": {},
   "source": [
    "\n",
    "### Cleaning and EDA\n",
    "\n",
    "- Clean the data.\n",
    "    - Certain fields have \"missing\" data that isn't labeled as missing. For example, there are fields with the value \"--.\" Do some exploration to find those values and convert them to null values.\n",
    "    - You may also want to clean up the date columns to enable time-series exploration.\n",
    "- Understand the data in ways relevant to your question using univariate and bivariate analysis of the data as well as aggregations.\n",
    "\n",
    "\n",
    "### Assessment of Missingness\n",
    "\n",
    "- Assess the missingness per the requirements in `project03.ipynb`\n",
    "\n",
    "### Hypothesis Test / Permutation Test\n",
    "Find a hypothesis test or permutation test to perform. You can use the questions at the top of the notebook for inspiration."
   ]
  },
  {
   "cell_type": "markdown",
   "metadata": {},
   "source": [
    "# Summary of Findings\n",
    "\n",
    "### Introduction\n",
    "TODO\n",
    "\n",
    "### Cleaning and EDA\n",
    "TODO\n",
    "\n",
    "### Assessment of Missingness\n",
    "TODO\n",
    "\n",
    "### Hypothesis Test\n",
    "TODO"
   ]
  },
  {
   "cell_type": "markdown",
   "metadata": {},
   "source": [
    "# Code"
   ]
  },
  {
   "cell_type": "code",
   "execution_count": null,
   "metadata": {
    "ExecuteTime": {
     "end_time": "2019-10-31T23:36:28.652554Z",
     "start_time": "2019-10-31T23:36:27.180520Z"
    }
   },
   "outputs": [],
   "source": [
    "import matplotlib.pyplot as plt\n",
    "import numpy as np\n",
    "import os\n",
    "import pandas as pd\n",
    "import seaborn as sns\n",
    "%matplotlib inline\n",
    "%config InlineBackend.figure_format = 'retina'  # Higher resolution figures"
   ]
  },
  {
   "cell_type": "markdown",
   "metadata": {},
   "source": [
    "### Cleaning and EDA"
   ]
  },
  {
   "cell_type": "code",
   "execution_count": null,
   "metadata": {
    "ExecuteTime": {
     "end_time": "2019-10-31T23:36:28.657068Z",
     "start_time": "2019-10-31T23:36:28.654650Z"
    }
   },
   "outputs": [],
   "source": [
    "# TODO"
   ]
  },
  {
   "cell_type": "markdown",
   "metadata": {},
   "source": [
    "### Assessment of Missingness"
   ]
  },
  {
   "cell_type": "code",
   "execution_count": null,
   "metadata": {
    "ExecuteTime": {
     "end_time": "2019-10-31T23:36:28.662099Z",
     "start_time": "2019-10-31T23:36:28.660016Z"
    }
   },
   "outputs": [],
   "source": [
    "# TODO"
   ]
  },
  {
   "cell_type": "markdown",
   "metadata": {},
   "source": [
    "### Hypothesis Test / Permutation Test"
   ]
  },
  {
   "cell_type": "code",
   "execution_count": null,
   "metadata": {
    "ExecuteTime": {
     "end_time": "2019-10-31T23:36:28.666489Z",
     "start_time": "2019-10-31T23:36:28.664381Z"
    }
   },
   "outputs": [],
   "source": [
    "# TODO"
   ]
  }
 ],
 "metadata": {
  "kernelspec": {
   "display_name": "Python 3 (ipykernel)",
   "language": "python",
   "name": "python3"
  },
  "language_info": {
   "codemirror_mode": {
    "name": "ipython",
    "version": 3
   },
   "file_extension": ".py",
   "mimetype": "text/x-python",
   "name": "python",
   "nbconvert_exporter": "python",
   "pygments_lexer": "ipython3",
   "version": "3.8.13"
  }
 },
 "nbformat": 4,
 "nbformat_minor": 2
}
