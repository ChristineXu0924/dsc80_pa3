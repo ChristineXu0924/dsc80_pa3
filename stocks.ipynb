{
 "cells": [
  {
   "cell_type": "markdown",
   "metadata": {},
   "source": [
    "# Stock Trades by Members of the US House of Representatives\n",
    "\n",
    "This project uses public data about the stock trades made by members of the US House of Representatives. This data is collected and maintained by Timothy Carambat as part of the [House Stock Watcher](https://housestockwatcher.com/) project. The project describes itself as follows:\n",
    "\n",
    "> With recent and ongoing investigations of incumbent congressional members being investigated for potentially violating the STOCK act. This website compiles this publicly available information in a format that is easier to digest then the original PDF source.\n",
    ">\n",
    "> Members of Congress must report periodic reports of their asset transactions. This website is purely for an informative purpose and aid in transparency.\n",
    ">\n",
    "> This site does not manipluate or censor any of the information from the original source. All data is transcribed by our community of contributors, which you can join for free by going to our transcription tool. Our moderation team takes great care in ensuring the accuracy of the information.\n",
    ">\n",
    "> This site is built and maintained by Timothy Carambat and supported with our contributors."
   ]
  },
  {
   "cell_type": "code",
   "execution_count": 1,
   "metadata": {},
   "outputs": [],
   "source": [
    "# Initialize Otter\n",
    "import otter\n",
    "grader = otter.Notebook(\"lab.ipynb\")"
   ]
  },
  {
   "cell_type": "code",
   "execution_count": 2,
   "metadata": {},
   "outputs": [],
   "source": [
    "import os\n",
    "import pandas as pd\n",
    "import numpy as np\n",
    "import matplotlib.pyplot as plt\n",
    "import glob\n",
    "import time\n",
    "import requests\n",
    "import bs4\n",
    "\\\n",
    "import lxml"
   ]
  },
  {
   "cell_type": "markdown",
   "metadata": {},
   "source": [
    "Some interesting questions to consider for this data set include:\n",
    "\n",
    "- Is there a difference in stock trading behavior between political parties? For example:\n",
    "    - does one party trade more often?\n",
    "    - does one party make larger trades?\n",
    "    - do the two parties invest in different stocks or sectors? For instance, do Democrats invest in Tesla more than Republicans?\n",
    "- What congresspeople have made the most trades?\n",
    "- What companies are most traded by congresspeople?\n",
    "- Is there evidence of insider trading? For example, Boeing stock dropped sharply in February 2020. Were there a suspiciously-high number of sales of Boeing before the drop?\n",
    "- When are stocks bought and sold? Is there a day of the week that is most common? Or a month of the year?"
   ]
  },
  {
   "cell_type": "markdown",
   "metadata": {},
   "source": [
    "### Getting the Data\n",
    "\n",
    "The full data set of stock trade disclosures is available as a CSV or as JSON at https://housestockwatcher.com/api.\n",
    "\n",
    "This data set does not, however, contain the political affiliation of the congresspeople. If you wish to investigate a question that relies on having this information, you'll need to find another dataset that contains it and perform a merge. *Hint*: Kaggle is a useful source of data sets."
   ]
  },
  {
   "cell_type": "code",
   "execution_count": 3,
   "metadata": {
    "scrolled": true
   },
   "outputs": [],
   "source": [
    "r = requests.get('https://house-stock-watcher-data.s3-us-west-2.amazonaws.com/data/all_transactions.json')\n",
    "df = pd.DataFrame(r.json())"
   ]
  },
  {
   "cell_type": "code",
   "execution_count": 4,
   "metadata": {},
   "outputs": [
    {
     "name": "stdout",
     "output_type": "stream",
     "text": [
      "<class 'pandas.core.frame.DataFrame'>\n",
      "Int64Index: 15710 entries, 10717 to 15709\n",
      "Data columns (total 12 columns):\n",
      " #   Column                  Non-Null Count  Dtype \n",
      "---  ------                  --------------  ----- \n",
      " 0   disclosure_year         15710 non-null  int64 \n",
      " 1   disclosure_date         15710 non-null  object\n",
      " 2   transaction_date        15710 non-null  object\n",
      " 3   owner                   9667 non-null   object\n",
      " 4   ticker                  15710 non-null  object\n",
      " 5   asset_description       15706 non-null  object\n",
      " 6   type                    15710 non-null  object\n",
      " 7   amount                  15710 non-null  object\n",
      " 8   representative          15710 non-null  object\n",
      " 9   district                15710 non-null  object\n",
      " 10  ptr_link                15710 non-null  object\n",
      " 11  cap_gains_over_200_usd  15710 non-null  bool  \n",
      "dtypes: bool(1), int64(1), object(10)\n",
      "memory usage: 1.5+ MB\n"
     ]
    }
   ],
   "source": [
    "sort_date = df.sort_values(by='disclosure_year', ascending = False)\n",
    "sort_date.info()"
   ]
  },
  {
   "cell_type": "code",
   "execution_count": 5,
   "metadata": {},
   "outputs": [
    {
     "data": {
      "text/html": [
       "<div>\n",
       "<style scoped>\n",
       "    .dataframe tbody tr th:only-of-type {\n",
       "        vertical-align: middle;\n",
       "    }\n",
       "\n",
       "    .dataframe tbody tr th {\n",
       "        vertical-align: top;\n",
       "    }\n",
       "\n",
       "    .dataframe thead th {\n",
       "        text-align: right;\n",
       "    }\n",
       "</style>\n",
       "<table border=\"1\" class=\"dataframe\">\n",
       "  <thead>\n",
       "    <tr style=\"text-align: right;\">\n",
       "      <th></th>\n",
       "      <th>disclosure_year</th>\n",
       "      <th>disclosure_date</th>\n",
       "      <th>transaction_date</th>\n",
       "      <th>owner</th>\n",
       "      <th>ticker</th>\n",
       "      <th>asset_description</th>\n",
       "      <th>type</th>\n",
       "      <th>amount</th>\n",
       "      <th>representative</th>\n",
       "      <th>district</th>\n",
       "      <th>ptr_link</th>\n",
       "      <th>cap_gains_over_200_usd</th>\n",
       "    </tr>\n",
       "  </thead>\n",
       "  <tbody>\n",
       "    <tr>\n",
       "      <th>10717</th>\n",
       "      <td>2022</td>\n",
       "      <td>10/11/2022</td>\n",
       "      <td>2022-09-12</td>\n",
       "      <td>self</td>\n",
       "      <td>TSLA</td>\n",
       "      <td>Tesla Inc</td>\n",
       "      <td>sale_partial</td>\n",
       "      <td>$1,001 - $15,000</td>\n",
       "      <td>Hon. Kathy Manning</td>\n",
       "      <td>NC06</td>\n",
       "      <td>https://disclosures-clerk.house.gov/public_dis...</td>\n",
       "      <td>False</td>\n",
       "    </tr>\n",
       "    <tr>\n",
       "      <th>7530</th>\n",
       "      <td>2022</td>\n",
       "      <td>06/19/2022</td>\n",
       "      <td>2022-05-18</td>\n",
       "      <td>self</td>\n",
       "      <td>--</td>\n",
       "      <td>Orange CTY CA REV UTX</td>\n",
       "      <td>purchase</td>\n",
       "      <td>$100,001 - $250,000</td>\n",
       "      <td>Hon. Scott H. Peters</td>\n",
       "      <td>CA52</td>\n",
       "      <td>https://disclosures-clerk.house.gov/public_dis...</td>\n",
       "      <td>False</td>\n",
       "    </tr>\n",
       "    <tr>\n",
       "      <th>7576</th>\n",
       "      <td>2022</td>\n",
       "      <td>09/02/2022</td>\n",
       "      <td>2021-03-04</td>\n",
       "      <td>self</td>\n",
       "      <td>WM</td>\n",
       "      <td>Waste Management Inc</td>\n",
       "      <td>purchase</td>\n",
       "      <td>$1,001 - $15,000</td>\n",
       "      <td>Hon. Carol Devine Miller</td>\n",
       "      <td>WV03</td>\n",
       "      <td>https://disclosures-clerk.house.gov/public_dis...</td>\n",
       "      <td>False</td>\n",
       "    </tr>\n",
       "    <tr>\n",
       "      <th>7575</th>\n",
       "      <td>2022</td>\n",
       "      <td>09/02/2022</td>\n",
       "      <td>2021-03-04</td>\n",
       "      <td>self</td>\n",
       "      <td>VTRA</td>\n",
       "      <td>Viatris Inc</td>\n",
       "      <td>sale_full</td>\n",
       "      <td>$1,001 - $15,000</td>\n",
       "      <td>Hon. Carol Devine Miller</td>\n",
       "      <td>WV03</td>\n",
       "      <td>https://disclosures-clerk.house.gov/public_dis...</td>\n",
       "      <td>False</td>\n",
       "    </tr>\n",
       "    <tr>\n",
       "      <th>7574</th>\n",
       "      <td>2022</td>\n",
       "      <td>09/02/2022</td>\n",
       "      <td>2021-07-28</td>\n",
       "      <td>self</td>\n",
       "      <td>VIAC</td>\n",
       "      <td>ViacomCBS Inc - Class B</td>\n",
       "      <td>purchase</td>\n",
       "      <td>$15,001 - $50,000</td>\n",
       "      <td>Hon. Carol Devine Miller</td>\n",
       "      <td>WV03</td>\n",
       "      <td>https://disclosures-clerk.house.gov/public_dis...</td>\n",
       "      <td>False</td>\n",
       "    </tr>\n",
       "    <tr>\n",
       "      <th>...</th>\n",
       "      <td>...</td>\n",
       "      <td>...</td>\n",
       "      <td>...</td>\n",
       "      <td>...</td>\n",
       "      <td>...</td>\n",
       "      <td>...</td>\n",
       "      <td>...</td>\n",
       "      <td>...</td>\n",
       "      <td>...</td>\n",
       "      <td>...</td>\n",
       "      <td>...</td>\n",
       "      <td>...</td>\n",
       "    </tr>\n",
       "    <tr>\n",
       "      <th>7377</th>\n",
       "      <td>2020</td>\n",
       "      <td>08/07/2020</td>\n",
       "      <td>2020-05-28</td>\n",
       "      <td>self</td>\n",
       "      <td>CRM</td>\n",
       "      <td>Salesforce.com Inc</td>\n",
       "      <td>purchase</td>\n",
       "      <td>$1,001 - $15,000</td>\n",
       "      <td>Hon. William R. Timmons</td>\n",
       "      <td>SC04</td>\n",
       "      <td>https://disclosures-clerk.house.gov/public_dis...</td>\n",
       "      <td>False</td>\n",
       "    </tr>\n",
       "    <tr>\n",
       "      <th>7378</th>\n",
       "      <td>2020</td>\n",
       "      <td>08/07/2020</td>\n",
       "      <td>2020-06-29</td>\n",
       "      <td>self</td>\n",
       "      <td>SFST</td>\n",
       "      <td>Southern First Bancshares, Inc.</td>\n",
       "      <td>sale_full</td>\n",
       "      <td>$1,001 - $15,000</td>\n",
       "      <td>Hon. William R. Timmons</td>\n",
       "      <td>SC04</td>\n",
       "      <td>https://disclosures-clerk.house.gov/public_dis...</td>\n",
       "      <td>False</td>\n",
       "    </tr>\n",
       "    <tr>\n",
       "      <th>7379</th>\n",
       "      <td>2020</td>\n",
       "      <td>08/07/2020</td>\n",
       "      <td>2020-05-28</td>\n",
       "      <td>self</td>\n",
       "      <td>SBUX</td>\n",
       "      <td>Starbucks Corporation</td>\n",
       "      <td>sale_full</td>\n",
       "      <td>$1,001 - $15,000</td>\n",
       "      <td>Hon. William R. Timmons</td>\n",
       "      <td>SC04</td>\n",
       "      <td>https://disclosures-clerk.house.gov/public_dis...</td>\n",
       "      <td>True</td>\n",
       "    </tr>\n",
       "    <tr>\n",
       "      <th>7380</th>\n",
       "      <td>2020</td>\n",
       "      <td>08/07/2020</td>\n",
       "      <td>2020-05-28</td>\n",
       "      <td>self</td>\n",
       "      <td>WMT</td>\n",
       "      <td>Walmart Inc.</td>\n",
       "      <td>purchase</td>\n",
       "      <td>$1,001 - $15,000</td>\n",
       "      <td>Hon. William R. Timmons</td>\n",
       "      <td>SC04</td>\n",
       "      <td>https://disclosures-clerk.house.gov/public_dis...</td>\n",
       "      <td>False</td>\n",
       "    </tr>\n",
       "    <tr>\n",
       "      <th>15709</th>\n",
       "      <td>2020</td>\n",
       "      <td>06/10/2020</td>\n",
       "      <td>2020-03-13</td>\n",
       "      <td>None</td>\n",
       "      <td>DIS</td>\n",
       "      <td>Walt Disney Company</td>\n",
       "      <td>sale_full</td>\n",
       "      <td>$250,001 - $500,000</td>\n",
       "      <td>Hon. Nicholas Van Taylor</td>\n",
       "      <td>TX03</td>\n",
       "      <td>https://disclosures-clerk.house.gov/public_dis...</td>\n",
       "      <td>False</td>\n",
       "    </tr>\n",
       "  </tbody>\n",
       "</table>\n",
       "<p>15710 rows × 12 columns</p>\n",
       "</div>"
      ],
      "text/plain": [
       "       disclosure_year disclosure_date transaction_date owner ticker  \\\n",
       "10717             2022      10/11/2022       2022-09-12  self   TSLA   \n",
       "7530              2022      06/19/2022       2022-05-18  self     --   \n",
       "7576              2022      09/02/2022       2021-03-04  self     WM   \n",
       "7575              2022      09/02/2022       2021-03-04  self   VTRA   \n",
       "7574              2022      09/02/2022       2021-07-28  self   VIAC   \n",
       "...                ...             ...              ...   ...    ...   \n",
       "7377              2020      08/07/2020       2020-05-28  self    CRM   \n",
       "7378              2020      08/07/2020       2020-06-29  self   SFST   \n",
       "7379              2020      08/07/2020       2020-05-28  self   SBUX   \n",
       "7380              2020      08/07/2020       2020-05-28  self    WMT   \n",
       "15709             2020      06/10/2020       2020-03-13  None    DIS   \n",
       "\n",
       "                     asset_description          type               amount  \\\n",
       "10717                        Tesla Inc  sale_partial     $1,001 - $15,000   \n",
       "7530             Orange CTY CA REV UTX      purchase  $100,001 - $250,000   \n",
       "7576              Waste Management Inc      purchase     $1,001 - $15,000   \n",
       "7575                       Viatris Inc     sale_full     $1,001 - $15,000   \n",
       "7574           ViacomCBS Inc - Class B      purchase    $15,001 - $50,000   \n",
       "...                                ...           ...                  ...   \n",
       "7377                Salesforce.com Inc      purchase     $1,001 - $15,000   \n",
       "7378   Southern First Bancshares, Inc.     sale_full     $1,001 - $15,000   \n",
       "7379             Starbucks Corporation     sale_full     $1,001 - $15,000   \n",
       "7380                      Walmart Inc.      purchase     $1,001 - $15,000   \n",
       "15709              Walt Disney Company     sale_full  $250,001 - $500,000   \n",
       "\n",
       "                 representative district  \\\n",
       "10717        Hon. Kathy Manning     NC06   \n",
       "7530       Hon. Scott H. Peters     CA52   \n",
       "7576   Hon. Carol Devine Miller     WV03   \n",
       "7575   Hon. Carol Devine Miller     WV03   \n",
       "7574   Hon. Carol Devine Miller     WV03   \n",
       "...                         ...      ...   \n",
       "7377    Hon. William R. Timmons     SC04   \n",
       "7378    Hon. William R. Timmons     SC04   \n",
       "7379    Hon. William R. Timmons     SC04   \n",
       "7380    Hon. William R. Timmons     SC04   \n",
       "15709  Hon. Nicholas Van Taylor     TX03   \n",
       "\n",
       "                                                ptr_link  \\\n",
       "10717  https://disclosures-clerk.house.gov/public_dis...   \n",
       "7530   https://disclosures-clerk.house.gov/public_dis...   \n",
       "7576   https://disclosures-clerk.house.gov/public_dis...   \n",
       "7575   https://disclosures-clerk.house.gov/public_dis...   \n",
       "7574   https://disclosures-clerk.house.gov/public_dis...   \n",
       "...                                                  ...   \n",
       "7377   https://disclosures-clerk.house.gov/public_dis...   \n",
       "7378   https://disclosures-clerk.house.gov/public_dis...   \n",
       "7379   https://disclosures-clerk.house.gov/public_dis...   \n",
       "7380   https://disclosures-clerk.house.gov/public_dis...   \n",
       "15709  https://disclosures-clerk.house.gov/public_dis...   \n",
       "\n",
       "       cap_gains_over_200_usd  \n",
       "10717                   False  \n",
       "7530                    False  \n",
       "7576                    False  \n",
       "7575                    False  \n",
       "7574                    False  \n",
       "...                       ...  \n",
       "7377                    False  \n",
       "7378                    False  \n",
       "7379                     True  \n",
       "7380                    False  \n",
       "15709                   False  \n",
       "\n",
       "[15710 rows x 12 columns]"
      ]
     },
     "execution_count": 5,
     "metadata": {},
     "output_type": "execute_result"
    }
   ],
   "source": [
    "sort_date"
   ]
  },
  {
   "cell_type": "code",
   "execution_count": 6,
   "metadata": {},
   "outputs": [
    {
     "data": {
      "text/plain": [
       "array(['self', None, 'joint', 'dependent', '--'], dtype=object)"
      ]
     },
     "execution_count": 6,
     "metadata": {},
     "output_type": "execute_result"
    }
   ],
   "source": [
    "sort_date['owner'].unique()"
   ]
  },
  {
   "cell_type": "code",
   "execution_count": 7,
   "metadata": {
    "scrolled": true
   },
   "outputs": [
    {
     "data": {
      "text/html": [
       "<div>\n",
       "<style scoped>\n",
       "    .dataframe tbody tr th:only-of-type {\n",
       "        vertical-align: middle;\n",
       "    }\n",
       "\n",
       "    .dataframe tbody tr th {\n",
       "        vertical-align: top;\n",
       "    }\n",
       "\n",
       "    .dataframe thead th {\n",
       "        text-align: right;\n",
       "    }\n",
       "</style>\n",
       "<table border=\"1\" class=\"dataframe\">\n",
       "  <thead>\n",
       "    <tr style=\"text-align: right;\">\n",
       "      <th></th>\n",
       "      <th>name</th>\n",
       "      <th>current_party</th>\n",
       "    </tr>\n",
       "  </thead>\n",
       "  <tbody>\n",
       "    <tr>\n",
       "      <th>0</th>\n",
       "      <td>ralph-abraham</td>\n",
       "      <td>Republican</td>\n",
       "    </tr>\n",
       "    <tr>\n",
       "      <th>1</th>\n",
       "      <td>alma-adams</td>\n",
       "      <td>Democratic</td>\n",
       "    </tr>\n",
       "    <tr>\n",
       "      <th>2</th>\n",
       "      <td>robert-aderholt</td>\n",
       "      <td>Republican</td>\n",
       "    </tr>\n",
       "    <tr>\n",
       "      <th>3</th>\n",
       "      <td>pete-aguilar</td>\n",
       "      <td>Democratic</td>\n",
       "    </tr>\n",
       "    <tr>\n",
       "      <th>4</th>\n",
       "      <td>rick-allen</td>\n",
       "      <td>Republican</td>\n",
       "    </tr>\n",
       "    <tr>\n",
       "      <th>...</th>\n",
       "      <td>...</td>\n",
       "      <td>...</td>\n",
       "    </tr>\n",
       "    <tr>\n",
       "      <th>438</th>\n",
       "      <td>ron-wright</td>\n",
       "      <td>Republican</td>\n",
       "    </tr>\n",
       "    <tr>\n",
       "      <th>439</th>\n",
       "      <td>john-yarmuth</td>\n",
       "      <td>Democratic</td>\n",
       "    </tr>\n",
       "    <tr>\n",
       "      <th>440</th>\n",
       "      <td>ted-yoho</td>\n",
       "      <td>Republican</td>\n",
       "    </tr>\n",
       "    <tr>\n",
       "      <th>441</th>\n",
       "      <td>don-young</td>\n",
       "      <td>Republican</td>\n",
       "    </tr>\n",
       "    <tr>\n",
       "      <th>442</th>\n",
       "      <td>lee-zeldin</td>\n",
       "      <td>Republican</td>\n",
       "    </tr>\n",
       "  </tbody>\n",
       "</table>\n",
       "<p>443 rows × 2 columns</p>\n",
       "</div>"
      ],
      "text/plain": [
       "                name current_party\n",
       "0      ralph-abraham    Republican\n",
       "1         alma-adams    Democratic\n",
       "2    robert-aderholt    Republican\n",
       "3       pete-aguilar    Democratic\n",
       "4         rick-allen    Republican\n",
       "..               ...           ...\n",
       "438       ron-wright    Republican\n",
       "439     john-yarmuth    Democratic\n",
       "440         ted-yoho    Republican\n",
       "441        don-young    Republican\n",
       "442       lee-zeldin    Republican\n",
       "\n",
       "[443 rows x 2 columns]"
      ]
     },
     "execution_count": 7,
     "metadata": {},
     "output_type": "execute_result"
    }
   ],
   "source": [
    "affiliation = pd.read_csv(\"house_members_116.csv\")\n",
    "affiliate = affiliation[['name', 'current_party']]\n",
    "affiliate"
   ]
  },
  {
   "cell_type": "code",
   "execution_count": 8,
   "metadata": {},
   "outputs": [
    {
     "name": "stderr",
     "output_type": "stream",
     "text": [
      "/var/folders/50/sdcn29lj1mxdbpljy43k22y00000gn/T/ipykernel_6717/2281088902.py:1: SettingWithCopyWarning: \n",
      "A value is trying to be set on a copy of a slice from a DataFrame.\n",
      "Try using .loc[row_indexer,col_indexer] = value instead\n",
      "\n",
      "See the caveats in the documentation: https://pandas.pydata.org/pandas-docs/stable/user_guide/indexing.html#returning-a-view-versus-a-copy\n",
      "  affiliate['name'] = affiliate['name'].str.replace('-', ' ')\n"
     ]
    }
   ],
   "source": [
    "affiliate['name'] = affiliate['name'].str.replace('-', ' ')"
   ]
  },
  {
   "cell_type": "markdown",
   "metadata": {},
   "source": []
  },
  {
   "cell_type": "code",
   "execution_count": 9,
   "metadata": {},
   "outputs": [
    {
     "name": "stderr",
     "output_type": "stream",
     "text": [
      "/var/folders/50/sdcn29lj1mxdbpljy43k22y00000gn/T/ipykernel_6717/6193341.py:9: SettingWithCopyWarning: \n",
      "A value is trying to be set on a copy of a slice from a DataFrame.\n",
      "Try using .loc[row_indexer,col_indexer] = value instead\n",
      "\n",
      "See the caveats in the documentation: https://pandas.pydata.org/pandas-docs/stable/user_guide/indexing.html#returning-a-view-versus-a-copy\n",
      "  affiliate['name'] = affiliate['name'].transform(clean_name)\n"
     ]
    },
    {
     "data": {
      "text/html": [
       "<div>\n",
       "<style scoped>\n",
       "    .dataframe tbody tr th:only-of-type {\n",
       "        vertical-align: middle;\n",
       "    }\n",
       "\n",
       "    .dataframe tbody tr th {\n",
       "        vertical-align: top;\n",
       "    }\n",
       "\n",
       "    .dataframe thead th {\n",
       "        text-align: right;\n",
       "    }\n",
       "</style>\n",
       "<table border=\"1\" class=\"dataframe\">\n",
       "  <thead>\n",
       "    <tr style=\"text-align: right;\">\n",
       "      <th></th>\n",
       "      <th>name</th>\n",
       "      <th>current_party</th>\n",
       "    </tr>\n",
       "  </thead>\n",
       "  <tbody>\n",
       "    <tr>\n",
       "      <th>0</th>\n",
       "      <td>ralph abraham</td>\n",
       "      <td>Republican</td>\n",
       "    </tr>\n",
       "    <tr>\n",
       "      <th>1</th>\n",
       "      <td>alma adams</td>\n",
       "      <td>Democratic</td>\n",
       "    </tr>\n",
       "    <tr>\n",
       "      <th>2</th>\n",
       "      <td>robert aderholt</td>\n",
       "      <td>Republican</td>\n",
       "    </tr>\n",
       "    <tr>\n",
       "      <th>3</th>\n",
       "      <td>pete aguilar</td>\n",
       "      <td>Democratic</td>\n",
       "    </tr>\n",
       "    <tr>\n",
       "      <th>4</th>\n",
       "      <td>rick allen</td>\n",
       "      <td>Republican</td>\n",
       "    </tr>\n",
       "    <tr>\n",
       "      <th>...</th>\n",
       "      <td>...</td>\n",
       "      <td>...</td>\n",
       "    </tr>\n",
       "    <tr>\n",
       "      <th>438</th>\n",
       "      <td>ron wright</td>\n",
       "      <td>Republican</td>\n",
       "    </tr>\n",
       "    <tr>\n",
       "      <th>439</th>\n",
       "      <td>john yarmuth</td>\n",
       "      <td>Democratic</td>\n",
       "    </tr>\n",
       "    <tr>\n",
       "      <th>440</th>\n",
       "      <td>ted yoho</td>\n",
       "      <td>Republican</td>\n",
       "    </tr>\n",
       "    <tr>\n",
       "      <th>441</th>\n",
       "      <td>don young</td>\n",
       "      <td>Republican</td>\n",
       "    </tr>\n",
       "    <tr>\n",
       "      <th>442</th>\n",
       "      <td>lee zeldin</td>\n",
       "      <td>Republican</td>\n",
       "    </tr>\n",
       "  </tbody>\n",
       "</table>\n",
       "<p>443 rows × 2 columns</p>\n",
       "</div>"
      ],
      "text/plain": [
       "                name current_party\n",
       "0      ralph abraham    Republican\n",
       "1         alma adams    Democratic\n",
       "2    robert aderholt    Republican\n",
       "3       pete aguilar    Democratic\n",
       "4         rick allen    Republican\n",
       "..               ...           ...\n",
       "438       ron wright    Republican\n",
       "439     john yarmuth    Democratic\n",
       "440         ted yoho    Republican\n",
       "441        don young    Republican\n",
       "442       lee zeldin    Republican\n",
       "\n",
       "[443 rows x 2 columns]"
      ]
     },
     "execution_count": 9,
     "metadata": {},
     "output_type": "execute_result"
    }
   ],
   "source": [
    "def clean_name(name):\n",
    "    name = name.replace('Hon. ', '')\n",
    "    name = name.replace('None ', '')\n",
    "    name = name.replace('Mr. ', '')\n",
    "    name = name.replace('Mrs. ', '')\n",
    "    name = name.replace('W. ', '')\n",
    "    no_middle = name.split(' ')[0] +' ' + name.split(' ')[-1]\n",
    "    return no_middle.lower()\n",
    "affiliate['name'] = affiliate['name'].transform(clean_name)\n",
    "affiliate"
   ]
  },
  {
   "cell_type": "code",
   "execution_count": 10,
   "metadata": {},
   "outputs": [
    {
     "data": {
      "text/plain": [
       "True"
      ]
     },
     "execution_count": 10,
     "metadata": {},
     "output_type": "execute_result"
    }
   ],
   "source": [
    "'nancy pelosi' in affiliate['name'].values"
   ]
  },
  {
   "cell_type": "code",
   "execution_count": 11,
   "metadata": {},
   "outputs": [
    {
     "data": {
      "text/plain": [
       "'nancy pelosi'"
      ]
     },
     "execution_count": 11,
     "metadata": {},
     "output_type": "execute_result"
    }
   ],
   "source": [
    "'nancy pelosi'.replace('Hon. ', '')"
   ]
  },
  {
   "cell_type": "code",
   "execution_count": 12,
   "metadata": {},
   "outputs": [
    {
     "data": {
      "text/plain": [
       "False"
      ]
     },
     "execution_count": 12,
     "metadata": {},
     "output_type": "execute_result"
    }
   ],
   "source": [
    "'daniel crenshaw' in affiliate['name'].values"
   ]
  },
  {
   "cell_type": "code",
   "execution_count": null,
   "metadata": {},
   "outputs": [],
   "source": []
  },
  {
   "cell_type": "code",
   "execution_count": 13,
   "metadata": {},
   "outputs": [],
   "source": [
    "replace_values = {\n",
    "           'rick allen': 'richard allen',\n",
    "           'cynthia axne': 'cindy axne',\n",
    "           'dan crenshaw': 'daniel crenshaw',\n",
    "           'gregory murphy': 'greg murphy',\n",
    "            'w steube': 'greg steube',\n",
    "           'jim costa': 'james costa',\n",
    "           'ro khanna': 'rohit khanna',\n",
    "           'mike gallagher': 'michael gallagher',\n",
    "           'k conaway': 'k. conaway',\n",
    "           'a mceachin': 'aston mceachin',\n",
    "           'ken buck': 'kenneth buck',\n",
    "           'jim banks': 'james banks',\n",
    "           'j hill':'james hill',\n",
    "           'raul grijalva': 'raúl grijalva',\n",
    "           'mario balart': 'mario diaz-balart',\n",
    "           'jim hagedorn':'james hagedorn',\n",
    "           'raja krishnamoorthi': 's. krishnamoorthi',\n",
    "           'wm clay': 'wm. clay',\n",
    "           'tom halleran': \"tom o'halleran\",\n",
    "          }"
   ]
  },
  {
   "cell_type": "code",
   "execution_count": null,
   "metadata": {},
   "outputs": [],
   "source": []
  },
  {
   "cell_type": "code",
   "execution_count": 14,
   "metadata": {},
   "outputs": [],
   "source": [
    "sort_date['cleaned_name'] = sort_date['representative'].transform(clean_name)"
   ]
  },
  {
   "cell_type": "code",
   "execution_count": 15,
   "metadata": {},
   "outputs": [
    {
     "name": "stderr",
     "output_type": "stream",
     "text": [
      "/var/folders/50/sdcn29lj1mxdbpljy43k22y00000gn/T/ipykernel_6717/4036000746.py:1: SettingWithCopyWarning: \n",
      "A value is trying to be set on a copy of a slice from a DataFrame.\n",
      "Try using .loc[row_indexer,col_indexer] = value instead\n",
      "\n",
      "See the caveats in the documentation: https://pandas.pydata.org/pandas-docs/stable/user_guide/indexing.html#returning-a-view-versus-a-copy\n",
      "  affiliate['name'] = affiliate['name'].replace(replace_values)\n"
     ]
    },
    {
     "data": {
      "text/plain": [
       "False"
      ]
     },
     "execution_count": 15,
     "metadata": {},
     "output_type": "execute_result"
    }
   ],
   "source": [
    "affiliate['name'] = affiliate['name'].replace(replace_values)\n",
    "'w steube' in affiliate['name'].values"
   ]
  },
  {
   "cell_type": "code",
   "execution_count": 16,
   "metadata": {},
   "outputs": [],
   "source": [
    "with_party = sort_date.merge(affiliate, left_on = 'cleaned_name', right_on = 'name', how='left')\n"
   ]
  },
  {
   "cell_type": "code",
   "execution_count": 17,
   "metadata": {},
   "outputs": [
    {
     "data": {
      "text/html": [
       "<div>\n",
       "<style scoped>\n",
       "    .dataframe tbody tr th:only-of-type {\n",
       "        vertical-align: middle;\n",
       "    }\n",
       "\n",
       "    .dataframe tbody tr th {\n",
       "        vertical-align: top;\n",
       "    }\n",
       "\n",
       "    .dataframe thead th {\n",
       "        text-align: right;\n",
       "    }\n",
       "</style>\n",
       "<table border=\"1\" class=\"dataframe\">\n",
       "  <thead>\n",
       "    <tr style=\"text-align: right;\">\n",
       "      <th></th>\n",
       "      <th>disclosure_year</th>\n",
       "      <th>disclosure_date</th>\n",
       "      <th>transaction_date</th>\n",
       "      <th>owner</th>\n",
       "      <th>ticker</th>\n",
       "      <th>asset_description</th>\n",
       "      <th>type</th>\n",
       "      <th>amount</th>\n",
       "      <th>representative</th>\n",
       "      <th>district</th>\n",
       "      <th>ptr_link</th>\n",
       "      <th>cap_gains_over_200_usd</th>\n",
       "      <th>cleaned_name</th>\n",
       "      <th>name</th>\n",
       "      <th>current_party</th>\n",
       "    </tr>\n",
       "  </thead>\n",
       "  <tbody>\n",
       "    <tr>\n",
       "      <th>887</th>\n",
       "      <td>2022</td>\n",
       "      <td>01/14/2022</td>\n",
       "      <td>2021-12-17</td>\n",
       "      <td>None</td>\n",
       "      <td>RNGR</td>\n",
       "      <td>Ranger Energy Services Inc Class A</td>\n",
       "      <td>exchange</td>\n",
       "      <td>$15,001 - $50,000</td>\n",
       "      <td>Hon. Nicholas V. Taylor</td>\n",
       "      <td>TX03</td>\n",
       "      <td>https://disclosures-clerk.house.gov/public_dis...</td>\n",
       "      <td>False</td>\n",
       "      <td>nicholas taylor</td>\n",
       "      <td>NaN</td>\n",
       "      <td>NaN</td>\n",
       "    </tr>\n",
       "  </tbody>\n",
       "</table>\n",
       "</div>"
      ],
      "text/plain": [
       "     disclosure_year disclosure_date transaction_date owner ticker  \\\n",
       "887             2022      01/14/2022       2021-12-17  None   RNGR   \n",
       "\n",
       "                      asset_description      type             amount  \\\n",
       "887  Ranger Energy Services Inc Class A  exchange  $15,001 - $50,000   \n",
       "\n",
       "              representative district  \\\n",
       "887  Hon. Nicholas V. Taylor     TX03   \n",
       "\n",
       "                                              ptr_link  \\\n",
       "887  https://disclosures-clerk.house.gov/public_dis...   \n",
       "\n",
       "     cap_gains_over_200_usd     cleaned_name name current_party  \n",
       "887                   False  nicholas taylor  NaN           NaN  "
      ]
     },
     "execution_count": 17,
     "metadata": {},
     "output_type": "execute_result"
    }
   ],
   "source": [
    "with_party[with_party['representative'].str.contains('V. Taylor')]"
   ]
  },
  {
   "cell_type": "code",
   "execution_count": null,
   "metadata": {},
   "outputs": [],
   "source": []
  },
  {
   "cell_type": "code",
   "execution_count": 18,
   "metadata": {
    "scrolled": true
   },
   "outputs": [
    {
     "data": {
      "text/plain": [
       "array(['kathy manning', 'scott franklin', 'maria salazar',\n",
       "       'christopher jacobs', 'marjorie greene', 'bill pascrell',\n",
       "       'august pfluger', 'patrick fallon', 'pete sessions',\n",
       "       'victoria spartz', 'andrew garbarino', 'nicholas taylor',\n",
       "       'david cawthorn', 'jake auchincloss', 'deborah ross',\n",
       "       'marie newman', 'blake moore', 'michael garcia',\n",
       "       'diana harshbarger', 'sara jacobs', 'peter meijer',\n",
       "       'ashley arenholz', 'felix moore', 'stephanie bice', 'neal facs'],\n",
       "      dtype=object)"
      ]
     },
     "execution_count": 18,
     "metadata": {},
     "output_type": "execute_result"
    }
   ],
   "source": [
    "nans = with_party[with_party['name'].isna()]\n",
    "uni = nans['cleaned_name'].unique()\n",
    "uni"
   ]
  },
  {
   "cell_type": "code",
   "execution_count": 19,
   "metadata": {},
   "outputs": [
    {
     "data": {
      "text/plain": [
       "True"
      ]
     },
     "execution_count": 19,
     "metadata": {},
     "output_type": "execute_result"
    }
   ],
   "source": [
    "'tj cox' in affiliate['name'].values"
   ]
  },
  {
   "cell_type": "code",
   "execution_count": 20,
   "metadata": {},
   "outputs": [],
   "source": [
    "d = 'Democratic'\n",
    "r = 'Republican'\n",
    "mannul_fill_party = {\n",
    "                    'kathy manning': d, 'scott franklin': r,\n",
    "                    'maria salazar': r, 'christopher jacobs': r,\n",
    "                    'marjorie greene': r, 'bill pascrell': d,\n",
    "                     'august pfluger': r, 'patrick fallon': r,\n",
    "                     'pete sessions': r, 'victoria spartz': r,\n",
    "                     'andrew garbarino': r,'david cawthorn': r,\n",
    "                     'jake auchincloss': d, 'deborah ross': d,\n",
    "                     'marie newman': d, 'blake moore': r,\n",
    "                     'michael garcia': r, 'diana harshbarger': r,\n",
    "                     'sara jacobs': d, 'peter meijer': r,\n",
    "                     'ashley arenholz':r,'felix moore': r,\n",
    "                     'stephanie bice': r, 'neal facs': r\n",
    "                    }\n",
    "nicholas_taylors = {\"Hon. Nicholas Van Taylor\": r,\n",
    "                   \"Hon. Nicholas V. Taylor\": d}"
   ]
  },
  {
   "cell_type": "code",
   "execution_count": 21,
   "metadata": {},
   "outputs": [],
   "source": [
    "def mannul_fill(row):\n",
    "    if row['cleaned_name'] in mannul_fill_party.keys():\n",
    "        return mannul_fill_party[row['cleaned_name']]\n",
    "    elif row['representative'] in nicholas_taylors.keys():\n",
    "        return nicholas_taylors[row['representative']]\n",
    "    else:\n",
    "        return row['current_party']"
   ]
  },
  {
   "cell_type": "code",
   "execution_count": 108,
   "metadata": {},
   "outputs": [
    {
     "data": {
      "text/plain": [
       "3376211.0"
      ]
     },
     "execution_count": 108,
     "metadata": {},
     "output_type": "execute_result"
    }
   ],
   "source": [
    "scott_peters = with_party[with_party['representative'] == 'Hon. Lois Frankel']\n",
    "\n",
    "def to_float(amount):\n",
    "    if len(amount) == 1:\n",
    "        return float(amount[0])\n",
    "    else:\n",
    "        return (float(amount[0])+ float(amount[1]))/2\n",
    "#scott_peters['amount'].apply(to_float).sum()\n",
    "amount = scott_peters['amount'].str.replace('[^0-9 ]', '', regex=True)\n",
    "amount = amount.str.split('  ')\n",
    "amount.apply(to_float).sum()\n",
    "amount.apply(to_float).sum()"
   ]
  },
  {
   "cell_type": "code",
   "execution_count": 22,
   "metadata": {},
   "outputs": [
    {
     "data": {
      "text/plain": [
       "0        Democratic\n",
       "1        Democratic\n",
       "2        Republican\n",
       "3        Republican\n",
       "4        Republican\n",
       "            ...    \n",
       "15705    Republican\n",
       "15706    Republican\n",
       "15707    Republican\n",
       "15708    Republican\n",
       "15709    Republican\n",
       "Length: 15710, dtype: object"
      ]
     },
     "execution_count": 22,
     "metadata": {},
     "output_type": "execute_result"
    }
   ],
   "source": [
    "full_party = with_party.apply(mannul_fill, axis=1)\n",
    "full_party"
   ]
  },
  {
   "cell_type": "code",
   "execution_count": 23,
   "metadata": {},
   "outputs": [],
   "source": [
    "with_party['current_party'] = full_party"
   ]
  },
  {
   "cell_type": "code",
   "execution_count": 24,
   "metadata": {},
   "outputs": [
    {
     "data": {
      "text/plain": [
       "0"
      ]
     },
     "execution_count": 24,
     "metadata": {},
     "output_type": "execute_result"
    }
   ],
   "source": [
    "with_party['current_party'].isna().sum()"
   ]
  },
  {
   "cell_type": "code",
   "execution_count": 27,
   "metadata": {},
   "outputs": [
    {
     "data": {
      "text/html": [
       "<div>\n",
       "<style scoped>\n",
       "    .dataframe tbody tr th:only-of-type {\n",
       "        vertical-align: middle;\n",
       "    }\n",
       "\n",
       "    .dataframe tbody tr th {\n",
       "        vertical-align: top;\n",
       "    }\n",
       "\n",
       "    .dataframe thead th {\n",
       "        text-align: right;\n",
       "    }\n",
       "</style>\n",
       "<table border=\"1\" class=\"dataframe\">\n",
       "  <thead>\n",
       "    <tr style=\"text-align: right;\">\n",
       "      <th></th>\n",
       "      <th>disclosure_year</th>\n",
       "      <th>disclosure_date</th>\n",
       "      <th>transaction_date</th>\n",
       "      <th>owner</th>\n",
       "      <th>ticker</th>\n",
       "      <th>asset_description</th>\n",
       "      <th>type</th>\n",
       "      <th>amount</th>\n",
       "      <th>representative</th>\n",
       "      <th>district</th>\n",
       "      <th>ptr_link</th>\n",
       "      <th>cap_gains_over_200_usd</th>\n",
       "      <th>cleaned_name</th>\n",
       "      <th>name</th>\n",
       "      <th>current_party</th>\n",
       "    </tr>\n",
       "  </thead>\n",
       "  <tbody>\n",
       "    <tr>\n",
       "      <th>0</th>\n",
       "      <td>2022</td>\n",
       "      <td>10/11/2022</td>\n",
       "      <td>2022-09-12</td>\n",
       "      <td>self</td>\n",
       "      <td>TSLA</td>\n",
       "      <td>Tesla Inc</td>\n",
       "      <td>sale_partial</td>\n",
       "      <td>$1,001 - $15,000</td>\n",
       "      <td>Hon. Kathy Manning</td>\n",
       "      <td>NC06</td>\n",
       "      <td>https://disclosures-clerk.house.gov/public_dis...</td>\n",
       "      <td>False</td>\n",
       "      <td>kathy manning</td>\n",
       "      <td>NaN</td>\n",
       "      <td>Democratic</td>\n",
       "    </tr>\n",
       "    <tr>\n",
       "      <th>1</th>\n",
       "      <td>2022</td>\n",
       "      <td>06/19/2022</td>\n",
       "      <td>2022-05-18</td>\n",
       "      <td>self</td>\n",
       "      <td>--</td>\n",
       "      <td>Orange CTY CA REV UTX</td>\n",
       "      <td>purchase</td>\n",
       "      <td>$100,001 - $250,000</td>\n",
       "      <td>Hon. Scott H. Peters</td>\n",
       "      <td>CA52</td>\n",
       "      <td>https://disclosures-clerk.house.gov/public_dis...</td>\n",
       "      <td>False</td>\n",
       "      <td>scott peters</td>\n",
       "      <td>scott peters</td>\n",
       "      <td>Democratic</td>\n",
       "    </tr>\n",
       "    <tr>\n",
       "      <th>2</th>\n",
       "      <td>2022</td>\n",
       "      <td>09/02/2022</td>\n",
       "      <td>2021-03-04</td>\n",
       "      <td>self</td>\n",
       "      <td>WM</td>\n",
       "      <td>Waste Management Inc</td>\n",
       "      <td>purchase</td>\n",
       "      <td>$1,001 - $15,000</td>\n",
       "      <td>Hon. Carol Devine Miller</td>\n",
       "      <td>WV03</td>\n",
       "      <td>https://disclosures-clerk.house.gov/public_dis...</td>\n",
       "      <td>False</td>\n",
       "      <td>carol miller</td>\n",
       "      <td>carol miller</td>\n",
       "      <td>Republican</td>\n",
       "    </tr>\n",
       "    <tr>\n",
       "      <th>3</th>\n",
       "      <td>2022</td>\n",
       "      <td>09/02/2022</td>\n",
       "      <td>2021-03-04</td>\n",
       "      <td>self</td>\n",
       "      <td>VTRA</td>\n",
       "      <td>Viatris Inc</td>\n",
       "      <td>sale_full</td>\n",
       "      <td>$1,001 - $15,000</td>\n",
       "      <td>Hon. Carol Devine Miller</td>\n",
       "      <td>WV03</td>\n",
       "      <td>https://disclosures-clerk.house.gov/public_dis...</td>\n",
       "      <td>False</td>\n",
       "      <td>carol miller</td>\n",
       "      <td>carol miller</td>\n",
       "      <td>Republican</td>\n",
       "    </tr>\n",
       "    <tr>\n",
       "      <th>4</th>\n",
       "      <td>2022</td>\n",
       "      <td>09/02/2022</td>\n",
       "      <td>2021-07-28</td>\n",
       "      <td>self</td>\n",
       "      <td>VIAC</td>\n",
       "      <td>ViacomCBS Inc - Class B</td>\n",
       "      <td>purchase</td>\n",
       "      <td>$15,001 - $50,000</td>\n",
       "      <td>Hon. Carol Devine Miller</td>\n",
       "      <td>WV03</td>\n",
       "      <td>https://disclosures-clerk.house.gov/public_dis...</td>\n",
       "      <td>False</td>\n",
       "      <td>carol miller</td>\n",
       "      <td>carol miller</td>\n",
       "      <td>Republican</td>\n",
       "    </tr>\n",
       "    <tr>\n",
       "      <th>...</th>\n",
       "      <td>...</td>\n",
       "      <td>...</td>\n",
       "      <td>...</td>\n",
       "      <td>...</td>\n",
       "      <td>...</td>\n",
       "      <td>...</td>\n",
       "      <td>...</td>\n",
       "      <td>...</td>\n",
       "      <td>...</td>\n",
       "      <td>...</td>\n",
       "      <td>...</td>\n",
       "      <td>...</td>\n",
       "      <td>...</td>\n",
       "      <td>...</td>\n",
       "      <td>...</td>\n",
       "    </tr>\n",
       "    <tr>\n",
       "      <th>15705</th>\n",
       "      <td>2020</td>\n",
       "      <td>08/07/2020</td>\n",
       "      <td>2020-05-28</td>\n",
       "      <td>self</td>\n",
       "      <td>CRM</td>\n",
       "      <td>Salesforce.com Inc</td>\n",
       "      <td>purchase</td>\n",
       "      <td>$1,001 - $15,000</td>\n",
       "      <td>Hon. William R. Timmons</td>\n",
       "      <td>SC04</td>\n",
       "      <td>https://disclosures-clerk.house.gov/public_dis...</td>\n",
       "      <td>False</td>\n",
       "      <td>william timmons</td>\n",
       "      <td>william timmons</td>\n",
       "      <td>Republican</td>\n",
       "    </tr>\n",
       "    <tr>\n",
       "      <th>15706</th>\n",
       "      <td>2020</td>\n",
       "      <td>08/07/2020</td>\n",
       "      <td>2020-06-29</td>\n",
       "      <td>self</td>\n",
       "      <td>SFST</td>\n",
       "      <td>Southern First Bancshares, Inc.</td>\n",
       "      <td>sale_full</td>\n",
       "      <td>$1,001 - $15,000</td>\n",
       "      <td>Hon. William R. Timmons</td>\n",
       "      <td>SC04</td>\n",
       "      <td>https://disclosures-clerk.house.gov/public_dis...</td>\n",
       "      <td>False</td>\n",
       "      <td>william timmons</td>\n",
       "      <td>william timmons</td>\n",
       "      <td>Republican</td>\n",
       "    </tr>\n",
       "    <tr>\n",
       "      <th>15707</th>\n",
       "      <td>2020</td>\n",
       "      <td>08/07/2020</td>\n",
       "      <td>2020-05-28</td>\n",
       "      <td>self</td>\n",
       "      <td>SBUX</td>\n",
       "      <td>Starbucks Corporation</td>\n",
       "      <td>sale_full</td>\n",
       "      <td>$1,001 - $15,000</td>\n",
       "      <td>Hon. William R. Timmons</td>\n",
       "      <td>SC04</td>\n",
       "      <td>https://disclosures-clerk.house.gov/public_dis...</td>\n",
       "      <td>True</td>\n",
       "      <td>william timmons</td>\n",
       "      <td>william timmons</td>\n",
       "      <td>Republican</td>\n",
       "    </tr>\n",
       "    <tr>\n",
       "      <th>15708</th>\n",
       "      <td>2020</td>\n",
       "      <td>08/07/2020</td>\n",
       "      <td>2020-05-28</td>\n",
       "      <td>self</td>\n",
       "      <td>WMT</td>\n",
       "      <td>Walmart Inc.</td>\n",
       "      <td>purchase</td>\n",
       "      <td>$1,001 - $15,000</td>\n",
       "      <td>Hon. William R. Timmons</td>\n",
       "      <td>SC04</td>\n",
       "      <td>https://disclosures-clerk.house.gov/public_dis...</td>\n",
       "      <td>False</td>\n",
       "      <td>william timmons</td>\n",
       "      <td>william timmons</td>\n",
       "      <td>Republican</td>\n",
       "    </tr>\n",
       "    <tr>\n",
       "      <th>15709</th>\n",
       "      <td>2020</td>\n",
       "      <td>06/10/2020</td>\n",
       "      <td>2020-03-13</td>\n",
       "      <td>NaN</td>\n",
       "      <td>DIS</td>\n",
       "      <td>Walt Disney Company</td>\n",
       "      <td>sale_full</td>\n",
       "      <td>$250,001 - $500,000</td>\n",
       "      <td>Hon. Nicholas Van Taylor</td>\n",
       "      <td>TX03</td>\n",
       "      <td>https://disclosures-clerk.house.gov/public_dis...</td>\n",
       "      <td>False</td>\n",
       "      <td>nicholas taylor</td>\n",
       "      <td>NaN</td>\n",
       "      <td>Republican</td>\n",
       "    </tr>\n",
       "  </tbody>\n",
       "</table>\n",
       "<p>15710 rows × 15 columns</p>\n",
       "</div>"
      ],
      "text/plain": [
       "       disclosure_year disclosure_date transaction_date owner ticker  \\\n",
       "0                 2022      10/11/2022       2022-09-12  self   TSLA   \n",
       "1                 2022      06/19/2022       2022-05-18  self     --   \n",
       "2                 2022      09/02/2022       2021-03-04  self     WM   \n",
       "3                 2022      09/02/2022       2021-03-04  self   VTRA   \n",
       "4                 2022      09/02/2022       2021-07-28  self   VIAC   \n",
       "...                ...             ...              ...   ...    ...   \n",
       "15705             2020      08/07/2020       2020-05-28  self    CRM   \n",
       "15706             2020      08/07/2020       2020-06-29  self   SFST   \n",
       "15707             2020      08/07/2020       2020-05-28  self   SBUX   \n",
       "15708             2020      08/07/2020       2020-05-28  self    WMT   \n",
       "15709             2020      06/10/2020       2020-03-13   NaN    DIS   \n",
       "\n",
       "                     asset_description          type               amount  \\\n",
       "0                            Tesla Inc  sale_partial     $1,001 - $15,000   \n",
       "1                Orange CTY CA REV UTX      purchase  $100,001 - $250,000   \n",
       "2                 Waste Management Inc      purchase     $1,001 - $15,000   \n",
       "3                          Viatris Inc     sale_full     $1,001 - $15,000   \n",
       "4              ViacomCBS Inc - Class B      purchase    $15,001 - $50,000   \n",
       "...                                ...           ...                  ...   \n",
       "15705               Salesforce.com Inc      purchase     $1,001 - $15,000   \n",
       "15706  Southern First Bancshares, Inc.     sale_full     $1,001 - $15,000   \n",
       "15707            Starbucks Corporation     sale_full     $1,001 - $15,000   \n",
       "15708                     Walmart Inc.      purchase     $1,001 - $15,000   \n",
       "15709              Walt Disney Company     sale_full  $250,001 - $500,000   \n",
       "\n",
       "                 representative district  \\\n",
       "0            Hon. Kathy Manning     NC06   \n",
       "1          Hon. Scott H. Peters     CA52   \n",
       "2      Hon. Carol Devine Miller     WV03   \n",
       "3      Hon. Carol Devine Miller     WV03   \n",
       "4      Hon. Carol Devine Miller     WV03   \n",
       "...                         ...      ...   \n",
       "15705   Hon. William R. Timmons     SC04   \n",
       "15706   Hon. William R. Timmons     SC04   \n",
       "15707   Hon. William R. Timmons     SC04   \n",
       "15708   Hon. William R. Timmons     SC04   \n",
       "15709  Hon. Nicholas Van Taylor     TX03   \n",
       "\n",
       "                                                ptr_link  \\\n",
       "0      https://disclosures-clerk.house.gov/public_dis...   \n",
       "1      https://disclosures-clerk.house.gov/public_dis...   \n",
       "2      https://disclosures-clerk.house.gov/public_dis...   \n",
       "3      https://disclosures-clerk.house.gov/public_dis...   \n",
       "4      https://disclosures-clerk.house.gov/public_dis...   \n",
       "...                                                  ...   \n",
       "15705  https://disclosures-clerk.house.gov/public_dis...   \n",
       "15706  https://disclosures-clerk.house.gov/public_dis...   \n",
       "15707  https://disclosures-clerk.house.gov/public_dis...   \n",
       "15708  https://disclosures-clerk.house.gov/public_dis...   \n",
       "15709  https://disclosures-clerk.house.gov/public_dis...   \n",
       "\n",
       "       cap_gains_over_200_usd     cleaned_name             name current_party  \n",
       "0                       False    kathy manning              NaN    Democratic  \n",
       "1                       False     scott peters     scott peters    Democratic  \n",
       "2                       False     carol miller     carol miller    Republican  \n",
       "3                       False     carol miller     carol miller    Republican  \n",
       "4                       False     carol miller     carol miller    Republican  \n",
       "...                       ...              ...              ...           ...  \n",
       "15705                   False  william timmons  william timmons    Republican  \n",
       "15706                   False  william timmons  william timmons    Republican  \n",
       "15707                    True  william timmons  william timmons    Republican  \n",
       "15708                   False  william timmons  william timmons    Republican  \n",
       "15709                   False  nicholas taylor              NaN    Republican  \n",
       "\n",
       "[15710 rows x 15 columns]"
      ]
     },
     "execution_count": 27,
     "metadata": {},
     "output_type": "execute_result"
    }
   ],
   "source": [
    "#replace the None party with  NaN\n",
    "with_party[\"owner\"] = with_party[\"owner\"].fillna(value=np.nan)\n",
    "with_party"
   ]
  },
  {
   "cell_type": "code",
   "execution_count": 28,
   "metadata": {},
   "outputs": [],
   "source": [
    "#replace the asset_description None\n",
    "with_party[\"asset_description\"] =with_party[\"asset_description\"].fillna(value=np.nan)"
   ]
  },
  {
   "cell_type": "code",
   "execution_count": 34,
   "metadata": {},
   "outputs": [],
   "source": [
    "#check missing value of dataframe and determine which columns contain \"--\"\n",
    "for i in with_party.columns:\n",
    "    if \"--\" in with_party[i].value_counts().index:\n",
    "        print(i) "
   ]
  },
  {
   "cell_type": "code",
   "execution_count": 33,
   "metadata": {},
   "outputs": [],
   "source": [
    "#replace all of -- value in the owner and ticker\n",
    "with_party[\"owner\"] = with_party[\"owner\"].replace(\"--\",np.nan)\n",
    "with_party[\"ticker\"] = with_party[\"ticker\"].replace(\"--\",np.nan)\n"
   ]
  },
  {
   "cell_type": "code",
   "execution_count": 35,
   "metadata": {},
   "outputs": [],
   "source": [
    "#calculate the average amount of trade \n",
    "def avg_amount(x):\n",
    "    result = float(x[0][1:].replace(\",\",\"\"))+float(x[-1][1:].replace(\",\",\"\"))\n",
    "    return result/2"
   ]
  },
  {
   "cell_type": "markdown",
   "metadata": {},
   "source": [
    "\n",
    "### Cleaning and EDA\n",
    "\n",
    "- Clean the data.\n",
    "    - Certain fields have \"missing\" data that isn't labeled as missing. For example, there are fields with the value \"--.\" Do some exploration to find those values and convert them to null values.\n",
    "    - You may also want to clean up the date columns to enable time-series exploration.\n",
    "- Understand the data in ways relevant to your question using univariate and bivariate analysis of the data as well as aggregations.\n",
    "\n",
    "\n",
    "### Assessment of Missingness\n",
    "\n",
    "- Assess the missingness per the requirements in `project03.ipynb`\n",
    "\n",
    "### Hypothesis Test / Permutation Test\n",
    "Find a hypothesis test or permutation test to perform. You can use the questions at the top of the notebook for inspiration."
   ]
  },
  {
   "cell_type": "markdown",
   "metadata": {},
   "source": [
    "# Summary of Findings\n",
    "\n",
    "### Introduction\n",
    "TODO\n",
    "\n",
    "### Cleaning and EDA\n",
    "TODO\n",
    "\n",
    "### Assessment of Missingness\n",
    "TODO\n",
    "\n",
    "### Hypothesis Test\n",
    "TODO"
   ]
  },
  {
   "cell_type": "markdown",
   "metadata": {},
   "source": [
    "# Code"
   ]
  },
  {
   "cell_type": "code",
   "execution_count": 1,
   "metadata": {
    "ExecuteTime": {
     "end_time": "2019-10-31T23:36:28.652554Z",
     "start_time": "2019-10-31T23:36:27.180520Z"
    }
   },
   "outputs": [],
   "source": [
    "import matplotlib.pyplot as plt\n",
    "import numpy as np\n",
    "import os\n",
    "import pandas as pd\n",
    "import seaborn as sns\n",
    "%matplotlib inline\n",
    "%config InlineBackend.figure_format = 'retina'  # Higher resolution figures"
   ]
  },
  {
   "cell_type": "code",
   "execution_count": 2,
   "metadata": {},
   "outputs": [],
   "source": [
    "import glob\n",
    "import time\n",
    "import requests\n",
    "import bs4\n",
    "\\\n",
    "import lxml"
   ]
  },
  {
   "cell_type": "markdown",
   "metadata": {},
   "source": [
    "### Cleaning and EDA"
   ]
  },
  {
   "cell_type": "code",
   "execution_count": 3,
   "metadata": {
    "ExecuteTime": {
     "end_time": "2019-10-31T23:36:28.657068Z",
     "start_time": "2019-10-31T23:36:28.654650Z"
    }
   },
   "outputs": [
    {
     "data": {
      "text/html": [
       "<div>\n",
       "<style scoped>\n",
       "    .dataframe tbody tr th:only-of-type {\n",
       "        vertical-align: middle;\n",
       "    }\n",
       "\n",
       "    .dataframe tbody tr th {\n",
       "        vertical-align: top;\n",
       "    }\n",
       "\n",
       "    .dataframe thead th {\n",
       "        text-align: right;\n",
       "    }\n",
       "</style>\n",
       "<table border=\"1\" class=\"dataframe\">\n",
       "  <thead>\n",
       "    <tr style=\"text-align: right;\">\n",
       "      <th></th>\n",
       "      <th>disclosure_year</th>\n",
       "      <th>disclosure_date</th>\n",
       "      <th>transaction_date</th>\n",
       "      <th>owner</th>\n",
       "      <th>ticker</th>\n",
       "      <th>asset_description</th>\n",
       "      <th>type</th>\n",
       "      <th>amount</th>\n",
       "      <th>representative</th>\n",
       "      <th>district</th>\n",
       "      <th>ptr_link</th>\n",
       "      <th>cap_gains_over_200_usd</th>\n",
       "    </tr>\n",
       "  </thead>\n",
       "  <tbody>\n",
       "    <tr>\n",
       "      <th>0</th>\n",
       "      <td>2021</td>\n",
       "      <td>10/04/2021</td>\n",
       "      <td>2021-09-27</td>\n",
       "      <td>joint</td>\n",
       "      <td>BP</td>\n",
       "      <td>BP plc</td>\n",
       "      <td>purchase</td>\n",
       "      <td>$1,001 - $15,000</td>\n",
       "      <td>Hon. Virginia Foxx</td>\n",
       "      <td>NC05</td>\n",
       "      <td>https://disclosures-clerk.house.gov/public_dis...</td>\n",
       "      <td>False</td>\n",
       "    </tr>\n",
       "    <tr>\n",
       "      <th>1</th>\n",
       "      <td>2021</td>\n",
       "      <td>10/04/2021</td>\n",
       "      <td>2021-09-13</td>\n",
       "      <td>joint</td>\n",
       "      <td>XOM</td>\n",
       "      <td>Exxon Mobil Corporation</td>\n",
       "      <td>purchase</td>\n",
       "      <td>$1,001 - $15,000</td>\n",
       "      <td>Hon. Virginia Foxx</td>\n",
       "      <td>NC05</td>\n",
       "      <td>https://disclosures-clerk.house.gov/public_dis...</td>\n",
       "      <td>False</td>\n",
       "    </tr>\n",
       "    <tr>\n",
       "      <th>2</th>\n",
       "      <td>2021</td>\n",
       "      <td>10/04/2021</td>\n",
       "      <td>2021-09-10</td>\n",
       "      <td>joint</td>\n",
       "      <td>ILPT</td>\n",
       "      <td>Industrial Logistics Properties Trust - Common...</td>\n",
       "      <td>purchase</td>\n",
       "      <td>$15,001 - $50,000</td>\n",
       "      <td>Hon. Virginia Foxx</td>\n",
       "      <td>NC05</td>\n",
       "      <td>https://disclosures-clerk.house.gov/public_dis...</td>\n",
       "      <td>False</td>\n",
       "    </tr>\n",
       "    <tr>\n",
       "      <th>3</th>\n",
       "      <td>2021</td>\n",
       "      <td>10/04/2021</td>\n",
       "      <td>2021-09-28</td>\n",
       "      <td>joint</td>\n",
       "      <td>PM</td>\n",
       "      <td>Phillip Morris International Inc</td>\n",
       "      <td>purchase</td>\n",
       "      <td>$15,001 - $50,000</td>\n",
       "      <td>Hon. Virginia Foxx</td>\n",
       "      <td>NC05</td>\n",
       "      <td>https://disclosures-clerk.house.gov/public_dis...</td>\n",
       "      <td>False</td>\n",
       "    </tr>\n",
       "    <tr>\n",
       "      <th>4</th>\n",
       "      <td>2021</td>\n",
       "      <td>10/04/2021</td>\n",
       "      <td>2021-09-17</td>\n",
       "      <td>self</td>\n",
       "      <td>BLK</td>\n",
       "      <td>BlackRock Inc</td>\n",
       "      <td>sale_partial</td>\n",
       "      <td>$1,001 - $15,000</td>\n",
       "      <td>Hon. Alan S. Lowenthal</td>\n",
       "      <td>CA47</td>\n",
       "      <td>https://disclosures-clerk.house.gov/public_dis...</td>\n",
       "      <td>False</td>\n",
       "    </tr>\n",
       "  </tbody>\n",
       "</table>\n",
       "</div>"
      ],
      "text/plain": [
       "   disclosure_year disclosure_date transaction_date  owner ticker  \\\n",
       "0             2021      10/04/2021       2021-09-27  joint     BP   \n",
       "1             2021      10/04/2021       2021-09-13  joint    XOM   \n",
       "2             2021      10/04/2021       2021-09-10  joint   ILPT   \n",
       "3             2021      10/04/2021       2021-09-28  joint     PM   \n",
       "4             2021      10/04/2021       2021-09-17   self    BLK   \n",
       "\n",
       "                                   asset_description          type  \\\n",
       "0                                             BP plc      purchase   \n",
       "1                            Exxon Mobil Corporation      purchase   \n",
       "2  Industrial Logistics Properties Trust - Common...      purchase   \n",
       "3                   Phillip Morris International Inc      purchase   \n",
       "4                                      BlackRock Inc  sale_partial   \n",
       "\n",
       "              amount          representative district  \\\n",
       "0   $1,001 - $15,000      Hon. Virginia Foxx     NC05   \n",
       "1   $1,001 - $15,000      Hon. Virginia Foxx     NC05   \n",
       "2  $15,001 - $50,000      Hon. Virginia Foxx     NC05   \n",
       "3  $15,001 - $50,000      Hon. Virginia Foxx     NC05   \n",
       "4   $1,001 - $15,000  Hon. Alan S. Lowenthal     CA47   \n",
       "\n",
       "                                            ptr_link  cap_gains_over_200_usd  \n",
       "0  https://disclosures-clerk.house.gov/public_dis...                   False  \n",
       "1  https://disclosures-clerk.house.gov/public_dis...                   False  \n",
       "2  https://disclosures-clerk.house.gov/public_dis...                   False  \n",
       "3  https://disclosures-clerk.house.gov/public_dis...                   False  \n",
       "4  https://disclosures-clerk.house.gov/public_dis...                   False  "
      ]
     },
     "execution_count": 3,
     "metadata": {},
     "output_type": "execute_result"
    }
   ],
   "source": [
    "# We obtain the data from the website and use requests to get the API. use json to read in the data and convert it into the dataframe\n",
    "r = requests.get('https://house-stock-watcher-data.s3-us-west-2.amazonaws.com/data/all_transactions.json')\n",
    "stock = pd.DataFrame(r.json())\n",
    "stock.head()"
   ]
  },
  {
   "cell_type": "markdown",
   "metadata": {},
   "source": [
    "- Because we want to investigate stock trading behavior between political parties, we try to find another dataframe that contains the political affiliation data for the house of representatives. The dataframe we used is from: \n",
    "https://www.kaggle.com/datasets/aavigan/house-of-representatives-congress-116/versions/4/code"
   ]
  },
  {
   "cell_type": "code",
   "execution_count": 4,
   "metadata": {},
   "outputs": [
    {
     "data": {
      "text/html": [
       "<div>\n",
       "<style scoped>\n",
       "    .dataframe tbody tr th:only-of-type {\n",
       "        vertical-align: middle;\n",
       "    }\n",
       "\n",
       "    .dataframe tbody tr th {\n",
       "        vertical-align: top;\n",
       "    }\n",
       "\n",
       "    .dataframe thead th {\n",
       "        text-align: right;\n",
       "    }\n",
       "</style>\n",
       "<table border=\"1\" class=\"dataframe\">\n",
       "  <thead>\n",
       "    <tr style=\"text-align: right;\">\n",
       "      <th></th>\n",
       "      <th>name</th>\n",
       "      <th>current_party</th>\n",
       "    </tr>\n",
       "  </thead>\n",
       "  <tbody>\n",
       "    <tr>\n",
       "      <th>0</th>\n",
       "      <td>ralph-abraham</td>\n",
       "      <td>Republican</td>\n",
       "    </tr>\n",
       "    <tr>\n",
       "      <th>1</th>\n",
       "      <td>alma-adams</td>\n",
       "      <td>Democratic</td>\n",
       "    </tr>\n",
       "    <tr>\n",
       "      <th>2</th>\n",
       "      <td>robert-aderholt</td>\n",
       "      <td>Republican</td>\n",
       "    </tr>\n",
       "    <tr>\n",
       "      <th>3</th>\n",
       "      <td>pete-aguilar</td>\n",
       "      <td>Democratic</td>\n",
       "    </tr>\n",
       "    <tr>\n",
       "      <th>4</th>\n",
       "      <td>rick-allen</td>\n",
       "      <td>Republican</td>\n",
       "    </tr>\n",
       "    <tr>\n",
       "      <th>...</th>\n",
       "      <td>...</td>\n",
       "      <td>...</td>\n",
       "    </tr>\n",
       "    <tr>\n",
       "      <th>438</th>\n",
       "      <td>ron-wright</td>\n",
       "      <td>Republican</td>\n",
       "    </tr>\n",
       "    <tr>\n",
       "      <th>439</th>\n",
       "      <td>john-yarmuth</td>\n",
       "      <td>Democratic</td>\n",
       "    </tr>\n",
       "    <tr>\n",
       "      <th>440</th>\n",
       "      <td>ted-yoho</td>\n",
       "      <td>Republican</td>\n",
       "    </tr>\n",
       "    <tr>\n",
       "      <th>441</th>\n",
       "      <td>don-young</td>\n",
       "      <td>Republican</td>\n",
       "    </tr>\n",
       "    <tr>\n",
       "      <th>442</th>\n",
       "      <td>lee-zeldin</td>\n",
       "      <td>Republican</td>\n",
       "    </tr>\n",
       "  </tbody>\n",
       "</table>\n",
       "<p>443 rows × 2 columns</p>\n",
       "</div>"
      ],
      "text/plain": [
       "                name current_party\n",
       "0      ralph-abraham    Republican\n",
       "1         alma-adams    Democratic\n",
       "2    robert-aderholt    Republican\n",
       "3       pete-aguilar    Democratic\n",
       "4         rick-allen    Republican\n",
       "..               ...           ...\n",
       "438       ron-wright    Republican\n",
       "439     john-yarmuth    Democratic\n",
       "440         ted-yoho    Republican\n",
       "441        don-young    Republican\n",
       "442       lee-zeldin    Republican\n",
       "\n",
       "[443 rows x 2 columns]"
      ]
     },
     "execution_count": 4,
     "metadata": {},
     "output_type": "execute_result"
    }
   ],
   "source": [
    "# import the data, and takes in the two columns that we need (the name of the representatives and their current party)\n",
    "affiliation = pd.read_csv(\"house_members_116.csv\")\n",
    "affiliate = affiliation[['name', 'current_party']]\n",
    "affiliate"
   ]
  },
  {
   "cell_type": "markdown",
   "metadata": {},
   "source": [
    "The names column in the affiliate dataframe has different format to the representatives column in the stock-watcher dataframe. Therefore we start the cleaning process. "
   ]
  },
  {
   "cell_type": "code",
   "execution_count": 5,
   "metadata": {},
   "outputs": [],
   "source": [
    "# Start by replacing the hyphen in name column into space\n",
    "affiliate = affiliate.assign(name = affiliate['name'].str.replace('-', ' '))"
   ]
  },
  {
   "cell_type": "code",
   "execution_count": 6,
   "metadata": {},
   "outputs": [
    {
     "data": {
      "text/html": [
       "<div>\n",
       "<style scoped>\n",
       "    .dataframe tbody tr th:only-of-type {\n",
       "        vertical-align: middle;\n",
       "    }\n",
       "\n",
       "    .dataframe tbody tr th {\n",
       "        vertical-align: top;\n",
       "    }\n",
       "\n",
       "    .dataframe thead th {\n",
       "        text-align: right;\n",
       "    }\n",
       "</style>\n",
       "<table border=\"1\" class=\"dataframe\">\n",
       "  <thead>\n",
       "    <tr style=\"text-align: right;\">\n",
       "      <th></th>\n",
       "      <th>name</th>\n",
       "      <th>current_party</th>\n",
       "    </tr>\n",
       "  </thead>\n",
       "  <tbody>\n",
       "    <tr>\n",
       "      <th>0</th>\n",
       "      <td>ralph abraham</td>\n",
       "      <td>Republican</td>\n",
       "    </tr>\n",
       "    <tr>\n",
       "      <th>1</th>\n",
       "      <td>alma adams</td>\n",
       "      <td>Democratic</td>\n",
       "    </tr>\n",
       "    <tr>\n",
       "      <th>2</th>\n",
       "      <td>robert aderholt</td>\n",
       "      <td>Republican</td>\n",
       "    </tr>\n",
       "    <tr>\n",
       "      <th>3</th>\n",
       "      <td>pete aguilar</td>\n",
       "      <td>Democratic</td>\n",
       "    </tr>\n",
       "    <tr>\n",
       "      <th>4</th>\n",
       "      <td>rick allen</td>\n",
       "      <td>Republican</td>\n",
       "    </tr>\n",
       "    <tr>\n",
       "      <th>...</th>\n",
       "      <td>...</td>\n",
       "      <td>...</td>\n",
       "    </tr>\n",
       "    <tr>\n",
       "      <th>438</th>\n",
       "      <td>ron wright</td>\n",
       "      <td>Republican</td>\n",
       "    </tr>\n",
       "    <tr>\n",
       "      <th>439</th>\n",
       "      <td>john yarmuth</td>\n",
       "      <td>Democratic</td>\n",
       "    </tr>\n",
       "    <tr>\n",
       "      <th>440</th>\n",
       "      <td>ted yoho</td>\n",
       "      <td>Republican</td>\n",
       "    </tr>\n",
       "    <tr>\n",
       "      <th>441</th>\n",
       "      <td>don young</td>\n",
       "      <td>Republican</td>\n",
       "    </tr>\n",
       "    <tr>\n",
       "      <th>442</th>\n",
       "      <td>lee zeldin</td>\n",
       "      <td>Republican</td>\n",
       "    </tr>\n",
       "  </tbody>\n",
       "</table>\n",
       "<p>443 rows × 2 columns</p>\n",
       "</div>"
      ],
      "text/plain": [
       "                name current_party\n",
       "0      ralph abraham    Republican\n",
       "1         alma adams    Democratic\n",
       "2    robert aderholt    Republican\n",
       "3       pete aguilar    Democratic\n",
       "4         rick allen    Republican\n",
       "..               ...           ...\n",
       "438       ron wright    Republican\n",
       "439     john yarmuth    Democratic\n",
       "440         ted yoho    Republican\n",
       "441        don young    Republican\n",
       "442       lee zeldin    Republican\n",
       "\n",
       "[443 rows x 2 columns]"
      ]
     },
     "execution_count": 6,
     "metadata": {},
     "output_type": "execute_result"
    }
   ],
   "source": [
    "affiliate"
   ]
  },
  {
   "cell_type": "code",
   "execution_count": 7,
   "metadata": {},
   "outputs": [],
   "source": [
    "# The representatives column in stock dataframe contains different titles before the name, and include middle names; where as\n",
    "# the name in the affiliate dataframe mostly have only first and last name in all lower cases. Therefore we create a function to \n",
    "# convert them both to same format: lower case with only first and last name.\n",
    "def clean_name(name):\n",
    "    name = name.replace('Hon. ', '')\n",
    "    name = name.replace('None ', '')\n",
    "    name = name.replace('Mr. ', '')\n",
    "    name = name.replace('Mrs. ', '')\n",
    "    name = name.replace('W. ', '')\n",
    "    no_middle = name.split(' ')[0] +' ' + name.split(' ')[-1]\n",
    "    return no_middle.lower()\n"
   ]
  },
  {
   "cell_type": "code",
   "execution_count": 8,
   "metadata": {},
   "outputs": [],
   "source": [
    "# apply the clean_name method on both columns\n",
    "affiliate['name'] = affiliate['name'].transform(clean_name)\n",
    "stock['cleaned_name'] = stock['representative'].transform(clean_name)"
   ]
  },
  {
   "cell_type": "code",
   "execution_count": 9,
   "metadata": {},
   "outputs": [],
   "source": [
    "# Also, by examine the data, we found names written in different formats in the two dataframes. Convert the name column in affiliate\n",
    "# dataframe to match the representatives. \n",
    "replace_values = {\n",
    "           'rick allen': 'richard allen',\n",
    "           'cynthia axne': 'cindy axne',\n",
    "           'dan crenshaw': 'daniel crenshaw',\n",
    "           'gregory murphy': 'greg murphy',\n",
    "            'w steube': 'greg steube',\n",
    "           'jim costa': 'james costa',\n",
    "           'ro khanna': 'rohit khanna',\n",
    "           'mike gallagher': 'michael gallagher',\n",
    "           'k conaway': 'k. conaway',\n",
    "           'a mceachin': 'aston mceachin',\n",
    "           'ken buck': 'kenneth buck',\n",
    "           'jim banks': 'james banks',\n",
    "           'j hill':'james hill',\n",
    "           'raul grijalva': 'raúl grijalva',\n",
    "           'mario balart': 'mario diaz-balart',\n",
    "           'jim hagedorn':'james hagedorn',\n",
    "           'raja krishnamoorthi': 's. krishnamoorthi',\n",
    "           'wm clay': 'wm. clay',\n",
    "           'tom halleran': \"tom o'halleran\",\n",
    "          }\n",
    "\n",
    "affiliate['name'].replace(replace_values, inplace=True)"
   ]
  },
  {
   "cell_type": "markdown",
   "metadata": {},
   "source": [
    "**We are now done with the first step of cleaning the names. Now try to merge the two dataframes on representatives and name. Since we want to keep all the rows on the stock data, we choose left join.**"
   ]
  },
  {
   "cell_type": "code",
   "execution_count": 10,
   "metadata": {},
   "outputs": [
    {
     "data": {
      "text/html": [
       "<div>\n",
       "<style scoped>\n",
       "    .dataframe tbody tr th:only-of-type {\n",
       "        vertical-align: middle;\n",
       "    }\n",
       "\n",
       "    .dataframe tbody tr th {\n",
       "        vertical-align: top;\n",
       "    }\n",
       "\n",
       "    .dataframe thead th {\n",
       "        text-align: right;\n",
       "    }\n",
       "</style>\n",
       "<table border=\"1\" class=\"dataframe\">\n",
       "  <thead>\n",
       "    <tr style=\"text-align: right;\">\n",
       "      <th></th>\n",
       "      <th>disclosure_year</th>\n",
       "      <th>disclosure_date</th>\n",
       "      <th>transaction_date</th>\n",
       "      <th>owner</th>\n",
       "      <th>ticker</th>\n",
       "      <th>asset_description</th>\n",
       "      <th>type</th>\n",
       "      <th>amount</th>\n",
       "      <th>representative</th>\n",
       "      <th>district</th>\n",
       "      <th>ptr_link</th>\n",
       "      <th>cap_gains_over_200_usd</th>\n",
       "      <th>cleaned_name</th>\n",
       "      <th>name</th>\n",
       "      <th>current_party</th>\n",
       "    </tr>\n",
       "  </thead>\n",
       "  <tbody>\n",
       "    <tr>\n",
       "      <th>0</th>\n",
       "      <td>2021</td>\n",
       "      <td>10/04/2021</td>\n",
       "      <td>2021-09-27</td>\n",
       "      <td>joint</td>\n",
       "      <td>BP</td>\n",
       "      <td>BP plc</td>\n",
       "      <td>purchase</td>\n",
       "      <td>$1,001 - $15,000</td>\n",
       "      <td>Hon. Virginia Foxx</td>\n",
       "      <td>NC05</td>\n",
       "      <td>https://disclosures-clerk.house.gov/public_dis...</td>\n",
       "      <td>False</td>\n",
       "      <td>virginia foxx</td>\n",
       "      <td>virginia foxx</td>\n",
       "      <td>Republican</td>\n",
       "    </tr>\n",
       "    <tr>\n",
       "      <th>1</th>\n",
       "      <td>2021</td>\n",
       "      <td>10/04/2021</td>\n",
       "      <td>2021-09-13</td>\n",
       "      <td>joint</td>\n",
       "      <td>XOM</td>\n",
       "      <td>Exxon Mobil Corporation</td>\n",
       "      <td>purchase</td>\n",
       "      <td>$1,001 - $15,000</td>\n",
       "      <td>Hon. Virginia Foxx</td>\n",
       "      <td>NC05</td>\n",
       "      <td>https://disclosures-clerk.house.gov/public_dis...</td>\n",
       "      <td>False</td>\n",
       "      <td>virginia foxx</td>\n",
       "      <td>virginia foxx</td>\n",
       "      <td>Republican</td>\n",
       "    </tr>\n",
       "    <tr>\n",
       "      <th>2</th>\n",
       "      <td>2021</td>\n",
       "      <td>10/04/2021</td>\n",
       "      <td>2021-09-10</td>\n",
       "      <td>joint</td>\n",
       "      <td>ILPT</td>\n",
       "      <td>Industrial Logistics Properties Trust - Common...</td>\n",
       "      <td>purchase</td>\n",
       "      <td>$15,001 - $50,000</td>\n",
       "      <td>Hon. Virginia Foxx</td>\n",
       "      <td>NC05</td>\n",
       "      <td>https://disclosures-clerk.house.gov/public_dis...</td>\n",
       "      <td>False</td>\n",
       "      <td>virginia foxx</td>\n",
       "      <td>virginia foxx</td>\n",
       "      <td>Republican</td>\n",
       "    </tr>\n",
       "    <tr>\n",
       "      <th>3</th>\n",
       "      <td>2021</td>\n",
       "      <td>10/04/2021</td>\n",
       "      <td>2021-09-28</td>\n",
       "      <td>joint</td>\n",
       "      <td>PM</td>\n",
       "      <td>Phillip Morris International Inc</td>\n",
       "      <td>purchase</td>\n",
       "      <td>$15,001 - $50,000</td>\n",
       "      <td>Hon. Virginia Foxx</td>\n",
       "      <td>NC05</td>\n",
       "      <td>https://disclosures-clerk.house.gov/public_dis...</td>\n",
       "      <td>False</td>\n",
       "      <td>virginia foxx</td>\n",
       "      <td>virginia foxx</td>\n",
       "      <td>Republican</td>\n",
       "    </tr>\n",
       "    <tr>\n",
       "      <th>4</th>\n",
       "      <td>2021</td>\n",
       "      <td>10/04/2021</td>\n",
       "      <td>2021-09-17</td>\n",
       "      <td>self</td>\n",
       "      <td>BLK</td>\n",
       "      <td>BlackRock Inc</td>\n",
       "      <td>sale_partial</td>\n",
       "      <td>$1,001 - $15,000</td>\n",
       "      <td>Hon. Alan S. Lowenthal</td>\n",
       "      <td>CA47</td>\n",
       "      <td>https://disclosures-clerk.house.gov/public_dis...</td>\n",
       "      <td>False</td>\n",
       "      <td>alan lowenthal</td>\n",
       "      <td>alan lowenthal</td>\n",
       "      <td>Democratic</td>\n",
       "    </tr>\n",
       "  </tbody>\n",
       "</table>\n",
       "</div>"
      ],
      "text/plain": [
       "   disclosure_year disclosure_date transaction_date  owner ticker  \\\n",
       "0             2021      10/04/2021       2021-09-27  joint     BP   \n",
       "1             2021      10/04/2021       2021-09-13  joint    XOM   \n",
       "2             2021      10/04/2021       2021-09-10  joint   ILPT   \n",
       "3             2021      10/04/2021       2021-09-28  joint     PM   \n",
       "4             2021      10/04/2021       2021-09-17   self    BLK   \n",
       "\n",
       "                                   asset_description          type  \\\n",
       "0                                             BP plc      purchase   \n",
       "1                            Exxon Mobil Corporation      purchase   \n",
       "2  Industrial Logistics Properties Trust - Common...      purchase   \n",
       "3                   Phillip Morris International Inc      purchase   \n",
       "4                                      BlackRock Inc  sale_partial   \n",
       "\n",
       "              amount          representative district  \\\n",
       "0   $1,001 - $15,000      Hon. Virginia Foxx     NC05   \n",
       "1   $1,001 - $15,000      Hon. Virginia Foxx     NC05   \n",
       "2  $15,001 - $50,000      Hon. Virginia Foxx     NC05   \n",
       "3  $15,001 - $50,000      Hon. Virginia Foxx     NC05   \n",
       "4   $1,001 - $15,000  Hon. Alan S. Lowenthal     CA47   \n",
       "\n",
       "                                            ptr_link  cap_gains_over_200_usd  \\\n",
       "0  https://disclosures-clerk.house.gov/public_dis...                   False   \n",
       "1  https://disclosures-clerk.house.gov/public_dis...                   False   \n",
       "2  https://disclosures-clerk.house.gov/public_dis...                   False   \n",
       "3  https://disclosures-clerk.house.gov/public_dis...                   False   \n",
       "4  https://disclosures-clerk.house.gov/public_dis...                   False   \n",
       "\n",
       "     cleaned_name            name current_party  \n",
       "0   virginia foxx   virginia foxx    Republican  \n",
       "1   virginia foxx   virginia foxx    Republican  \n",
       "2   virginia foxx   virginia foxx    Republican  \n",
       "3   virginia foxx   virginia foxx    Republican  \n",
       "4  alan lowenthal  alan lowenthal    Democratic  "
      ]
     },
     "execution_count": 10,
     "metadata": {},
     "output_type": "execute_result"
    }
   ],
   "source": [
    "with_party = stock.merge(affiliate, left_on = 'cleaned_name', right_on = 'name', how='left')\n",
    "with_party.head()"
   ]
  },
  {
   "cell_type": "code",
   "execution_count": 11,
   "metadata": {},
   "outputs": [],
   "source": [
    "# There are 26 names that do not appear in the data we found online. We use the \"summary by rep\" page on the stock-watcher website\n",
    "# to mannually fill out these names. Also, there is one case that two people with same first and last name belongs to different\n",
    "# parties, create a special case for that.\n",
    "d = 'Democratic'\n",
    "r = 'Republican'\n",
    "mannul_fill_party = {\n",
    "                    'kathy manning': d, 'scott franklin': r,\n",
    "                    'maria salazar': r, 'christopher jacobs': r,\n",
    "                    'marjorie greene': r, 'bill pascrell': d,\n",
    "                     'august pfluger': r, 'patrick fallon': r,\n",
    "                     'pete sessions': r, 'victoria spartz': r,\n",
    "                     'andrew garbarino': r,'david cawthorn': r,\n",
    "                     'jake auchincloss': d, 'deborah ross': d,\n",
    "                     'marie newman': d, 'blake moore': r,\n",
    "                     'michael garcia': r, 'diana harshbarger': r,\n",
    "                     'sara jacobs': d, 'peter meijer': r,\n",
    "                     'ashley arenholz':r,'felix moore': r,\n",
    "                     'stephanie bice': r, 'neal facs': r\n",
    "                    }\n",
    "nicholas_taylors = {\"Hon. Nicholas Van Taylor\": r,\n",
    "                   \"Hon. Nicholas V. Taylor\": d}\n"
   ]
  },
  {
   "cell_type": "code",
   "execution_count": 12,
   "metadata": {},
   "outputs": [],
   "source": [
    "# This function loops through the rows of the with_party df to check if the 'cleaned_name' or 'representative' is what we want\n",
    "# to mannully fill. When found, fill in the current_party with corresponding data. \n",
    "def mannul_fill(row):\n",
    "    if row['cleaned_name'] in mannul_fill_party.keys():\n",
    "        return mannul_fill_party[row['cleaned_name']]\n",
    "    elif row['representative'] in nicholas_taylors.keys():\n",
    "        return nicholas_taylors[row['representative']]\n",
    "    else:\n",
    "        return row['current_party']"
   ]
  },
  {
   "cell_type": "code",
   "execution_count": 13,
   "metadata": {},
   "outputs": [
    {
     "data": {
      "text/plain": [
       "0    Republican\n",
       "1    Republican\n",
       "2    Republican\n",
       "3    Republican\n",
       "4    Democratic\n",
       "dtype: object"
      ]
     },
     "execution_count": 13,
     "metadata": {},
     "output_type": "execute_result"
    }
   ],
   "source": [
    "full_party = with_party.apply(mannul_fill, axis=1)\n",
    "full_party.head()"
   ]
  },
  {
   "cell_type": "code",
   "execution_count": 14,
   "metadata": {},
   "outputs": [
    {
     "data": {
      "text/plain": [
       "0"
      ]
     },
     "execution_count": 14,
     "metadata": {},
     "output_type": "execute_result"
    }
   ],
   "source": [
    "# now the current_party column has no missing values.\n",
    "full_party.isna().sum()"
   ]
  },
  {
   "cell_type": "code",
   "execution_count": 15,
   "metadata": {},
   "outputs": [],
   "source": [
    "with_party['current_party'] = full_party"
   ]
  },
  {
   "cell_type": "code",
   "execution_count": 16,
   "metadata": {},
   "outputs": [],
   "source": [
    "with_party = with_party.drop(columns = ['cleaned_name','name'])"
   ]
  },
  {
   "cell_type": "code",
   "execution_count": 17,
   "metadata": {},
   "outputs": [
    {
     "data": {
      "text/html": [
       "<div>\n",
       "<style scoped>\n",
       "    .dataframe tbody tr th:only-of-type {\n",
       "        vertical-align: middle;\n",
       "    }\n",
       "\n",
       "    .dataframe tbody tr th {\n",
       "        vertical-align: top;\n",
       "    }\n",
       "\n",
       "    .dataframe thead th {\n",
       "        text-align: right;\n",
       "    }\n",
       "</style>\n",
       "<table border=\"1\" class=\"dataframe\">\n",
       "  <thead>\n",
       "    <tr style=\"text-align: right;\">\n",
       "      <th></th>\n",
       "      <th>disclosure_year</th>\n",
       "      <th>disclosure_date</th>\n",
       "      <th>transaction_date</th>\n",
       "      <th>owner</th>\n",
       "      <th>ticker</th>\n",
       "      <th>asset_description</th>\n",
       "      <th>type</th>\n",
       "      <th>amount</th>\n",
       "      <th>representative</th>\n",
       "      <th>district</th>\n",
       "      <th>ptr_link</th>\n",
       "      <th>cap_gains_over_200_usd</th>\n",
       "      <th>current_party</th>\n",
       "    </tr>\n",
       "  </thead>\n",
       "  <tbody>\n",
       "    <tr>\n",
       "      <th>0</th>\n",
       "      <td>2021</td>\n",
       "      <td>10/04/2021</td>\n",
       "      <td>2021-09-27</td>\n",
       "      <td>joint</td>\n",
       "      <td>BP</td>\n",
       "      <td>BP plc</td>\n",
       "      <td>purchase</td>\n",
       "      <td>$1,001 - $15,000</td>\n",
       "      <td>Hon. Virginia Foxx</td>\n",
       "      <td>NC05</td>\n",
       "      <td>https://disclosures-clerk.house.gov/public_dis...</td>\n",
       "      <td>False</td>\n",
       "      <td>Republican</td>\n",
       "    </tr>\n",
       "    <tr>\n",
       "      <th>1</th>\n",
       "      <td>2021</td>\n",
       "      <td>10/04/2021</td>\n",
       "      <td>2021-09-13</td>\n",
       "      <td>joint</td>\n",
       "      <td>XOM</td>\n",
       "      <td>Exxon Mobil Corporation</td>\n",
       "      <td>purchase</td>\n",
       "      <td>$1,001 - $15,000</td>\n",
       "      <td>Hon. Virginia Foxx</td>\n",
       "      <td>NC05</td>\n",
       "      <td>https://disclosures-clerk.house.gov/public_dis...</td>\n",
       "      <td>False</td>\n",
       "      <td>Republican</td>\n",
       "    </tr>\n",
       "    <tr>\n",
       "      <th>2</th>\n",
       "      <td>2021</td>\n",
       "      <td>10/04/2021</td>\n",
       "      <td>2021-09-10</td>\n",
       "      <td>joint</td>\n",
       "      <td>ILPT</td>\n",
       "      <td>Industrial Logistics Properties Trust - Common...</td>\n",
       "      <td>purchase</td>\n",
       "      <td>$15,001 - $50,000</td>\n",
       "      <td>Hon. Virginia Foxx</td>\n",
       "      <td>NC05</td>\n",
       "      <td>https://disclosures-clerk.house.gov/public_dis...</td>\n",
       "      <td>False</td>\n",
       "      <td>Republican</td>\n",
       "    </tr>\n",
       "    <tr>\n",
       "      <th>3</th>\n",
       "      <td>2021</td>\n",
       "      <td>10/04/2021</td>\n",
       "      <td>2021-09-28</td>\n",
       "      <td>joint</td>\n",
       "      <td>PM</td>\n",
       "      <td>Phillip Morris International Inc</td>\n",
       "      <td>purchase</td>\n",
       "      <td>$15,001 - $50,000</td>\n",
       "      <td>Hon. Virginia Foxx</td>\n",
       "      <td>NC05</td>\n",
       "      <td>https://disclosures-clerk.house.gov/public_dis...</td>\n",
       "      <td>False</td>\n",
       "      <td>Republican</td>\n",
       "    </tr>\n",
       "    <tr>\n",
       "      <th>4</th>\n",
       "      <td>2021</td>\n",
       "      <td>10/04/2021</td>\n",
       "      <td>2021-09-17</td>\n",
       "      <td>self</td>\n",
       "      <td>BLK</td>\n",
       "      <td>BlackRock Inc</td>\n",
       "      <td>sale_partial</td>\n",
       "      <td>$1,001 - $15,000</td>\n",
       "      <td>Hon. Alan S. Lowenthal</td>\n",
       "      <td>CA47</td>\n",
       "      <td>https://disclosures-clerk.house.gov/public_dis...</td>\n",
       "      <td>False</td>\n",
       "      <td>Democratic</td>\n",
       "    </tr>\n",
       "  </tbody>\n",
       "</table>\n",
       "</div>"
      ],
      "text/plain": [
       "   disclosure_year disclosure_date transaction_date  owner ticker  \\\n",
       "0             2021      10/04/2021       2021-09-27  joint     BP   \n",
       "1             2021      10/04/2021       2021-09-13  joint    XOM   \n",
       "2             2021      10/04/2021       2021-09-10  joint   ILPT   \n",
       "3             2021      10/04/2021       2021-09-28  joint     PM   \n",
       "4             2021      10/04/2021       2021-09-17   self    BLK   \n",
       "\n",
       "                                   asset_description          type  \\\n",
       "0                                             BP plc      purchase   \n",
       "1                            Exxon Mobil Corporation      purchase   \n",
       "2  Industrial Logistics Properties Trust - Common...      purchase   \n",
       "3                   Phillip Morris International Inc      purchase   \n",
       "4                                      BlackRock Inc  sale_partial   \n",
       "\n",
       "              amount          representative district  \\\n",
       "0   $1,001 - $15,000      Hon. Virginia Foxx     NC05   \n",
       "1   $1,001 - $15,000      Hon. Virginia Foxx     NC05   \n",
       "2  $15,001 - $50,000      Hon. Virginia Foxx     NC05   \n",
       "3  $15,001 - $50,000      Hon. Virginia Foxx     NC05   \n",
       "4   $1,001 - $15,000  Hon. Alan S. Lowenthal     CA47   \n",
       "\n",
       "                                            ptr_link  cap_gains_over_200_usd  \\\n",
       "0  https://disclosures-clerk.house.gov/public_dis...                   False   \n",
       "1  https://disclosures-clerk.house.gov/public_dis...                   False   \n",
       "2  https://disclosures-clerk.house.gov/public_dis...                   False   \n",
       "3  https://disclosures-clerk.house.gov/public_dis...                   False   \n",
       "4  https://disclosures-clerk.house.gov/public_dis...                   False   \n",
       "\n",
       "  current_party  \n",
       "0    Republican  \n",
       "1    Republican  \n",
       "2    Republican  \n",
       "3    Republican  \n",
       "4    Democratic  "
      ]
     },
     "execution_count": 17,
     "metadata": {},
     "output_type": "execute_result"
    }
   ],
   "source": [
    "with_party.head()"
   ]
  },
  {
   "cell_type": "markdown",
   "metadata": {},
   "source": [
    "### We are done with the process of entering the political affiliation for each representatives. Now lets clean the missing values in the data."
   ]
  },
  {
   "cell_type": "code",
   "execution_count": 18,
   "metadata": {},
   "outputs": [
    {
     "name": "stdout",
     "output_type": "stream",
     "text": [
      "<class 'pandas.core.frame.DataFrame'>\n",
      "Int64Index: 15710 entries, 0 to 15709\n",
      "Data columns (total 13 columns):\n",
      " #   Column                  Non-Null Count  Dtype \n",
      "---  ------                  --------------  ----- \n",
      " 0   disclosure_year         15710 non-null  int64 \n",
      " 1   disclosure_date         15710 non-null  object\n",
      " 2   transaction_date        15710 non-null  object\n",
      " 3   owner                   9667 non-null   object\n",
      " 4   ticker                  15710 non-null  object\n",
      " 5   asset_description       15706 non-null  object\n",
      " 6   type                    15710 non-null  object\n",
      " 7   amount                  15710 non-null  object\n",
      " 8   representative          15710 non-null  object\n",
      " 9   district                15710 non-null  object\n",
      " 10  ptr_link                15710 non-null  object\n",
      " 11  cap_gains_over_200_usd  15710 non-null  bool  \n",
      " 12  current_party           15710 non-null  object\n",
      "dtypes: bool(1), int64(1), object(11)\n",
      "memory usage: 1.6+ MB\n"
     ]
    }
   ],
   "source": [
    "with_party.info()"
   ]
  },
  {
   "cell_type": "code",
   "execution_count": 19,
   "metadata": {},
   "outputs": [],
   "source": [
    "#replace the None owner with NaN\n",
    "with_party[\"owner\"] = with_party[\"owner\"].fillna(value=np.nan)"
   ]
  },
  {
   "cell_type": "code",
   "execution_count": 20,
   "metadata": {},
   "outputs": [
    {
     "name": "stdout",
     "output_type": "stream",
     "text": [
      "owner\n",
      "ticker\n"
     ]
    }
   ],
   "source": [
    "#check missing value of dataframe and determine which columns contain \"--\"\n",
    "for i in with_party.columns:\n",
    "    if \"--\" in with_party[i].value_counts().index:\n",
    "        print(i) "
   ]
  },
  {
   "cell_type": "code",
   "execution_count": 21,
   "metadata": {},
   "outputs": [],
   "source": [
    "#replace all of -- value in the owner and ticker\n",
    "with_party[\"owner\"] = with_party[\"owner\"].replace(\"--\",np.nan)\n",
    "with_party[\"ticker\"] = with_party[\"ticker\"].replace(\"--\",np.nan)"
   ]
  },
  {
   "cell_type": "markdown",
   "metadata": {},
   "source": [
    "#### We want to convert the data type of certain columns to format that is easy to calculate.\n",
    "- amount to float, date to datetime"
   ]
  },
  {
   "cell_type": "markdown",
   "metadata": {},
   "source": [
    "- For the amount column, we decided to take the midpoint of the amount if there is an interval(ie. for \"1,001 - 15,000\" we take (1001+15000)/2)=8000.5). \n",
    "- If there is only single value such as \"1,001+\", we take the value itself. "
   ]
  },
  {
   "cell_type": "code",
   "execution_count": 22,
   "metadata": {},
   "outputs": [],
   "source": [
    "amount = with_party['amount'].str.replace('[^0-9 ]', '', regex=True)\n",
    "amount = amount.str.split('  ')\n",
    "\n",
    "def to_float(amount):\n",
    "    if len(amount) == 1:\n",
    "        return float(amount[0])\n",
    "    else:\n",
    "        return (float(amount[0])+ float(amount[1]))/2\n",
    "\n",
    "with_party['amount'] = amount.transform(to_float)"
   ]
  },
  {
   "cell_type": "code",
   "execution_count": 23,
   "metadata": {},
   "outputs": [
    {
     "data": {
      "text/html": [
       "<div>\n",
       "<style scoped>\n",
       "    .dataframe tbody tr th:only-of-type {\n",
       "        vertical-align: middle;\n",
       "    }\n",
       "\n",
       "    .dataframe tbody tr th {\n",
       "        vertical-align: top;\n",
       "    }\n",
       "\n",
       "    .dataframe thead th {\n",
       "        text-align: right;\n",
       "    }\n",
       "</style>\n",
       "<table border=\"1\" class=\"dataframe\">\n",
       "  <thead>\n",
       "    <tr style=\"text-align: right;\">\n",
       "      <th></th>\n",
       "      <th>disclosure_year</th>\n",
       "      <th>disclosure_date</th>\n",
       "      <th>transaction_date</th>\n",
       "      <th>owner</th>\n",
       "      <th>ticker</th>\n",
       "      <th>asset_description</th>\n",
       "      <th>type</th>\n",
       "      <th>amount</th>\n",
       "      <th>representative</th>\n",
       "      <th>district</th>\n",
       "      <th>ptr_link</th>\n",
       "      <th>cap_gains_over_200_usd</th>\n",
       "      <th>current_party</th>\n",
       "    </tr>\n",
       "  </thead>\n",
       "  <tbody>\n",
       "    <tr>\n",
       "      <th>0</th>\n",
       "      <td>2021</td>\n",
       "      <td>10/04/2021</td>\n",
       "      <td>2021-09-27</td>\n",
       "      <td>joint</td>\n",
       "      <td>BP</td>\n",
       "      <td>BP plc</td>\n",
       "      <td>purchase</td>\n",
       "      <td>8000.5</td>\n",
       "      <td>Hon. Virginia Foxx</td>\n",
       "      <td>NC05</td>\n",
       "      <td>https://disclosures-clerk.house.gov/public_dis...</td>\n",
       "      <td>False</td>\n",
       "      <td>Republican</td>\n",
       "    </tr>\n",
       "    <tr>\n",
       "      <th>1</th>\n",
       "      <td>2021</td>\n",
       "      <td>10/04/2021</td>\n",
       "      <td>2021-09-13</td>\n",
       "      <td>joint</td>\n",
       "      <td>XOM</td>\n",
       "      <td>Exxon Mobil Corporation</td>\n",
       "      <td>purchase</td>\n",
       "      <td>8000.5</td>\n",
       "      <td>Hon. Virginia Foxx</td>\n",
       "      <td>NC05</td>\n",
       "      <td>https://disclosures-clerk.house.gov/public_dis...</td>\n",
       "      <td>False</td>\n",
       "      <td>Republican</td>\n",
       "    </tr>\n",
       "    <tr>\n",
       "      <th>2</th>\n",
       "      <td>2021</td>\n",
       "      <td>10/04/2021</td>\n",
       "      <td>2021-09-10</td>\n",
       "      <td>joint</td>\n",
       "      <td>ILPT</td>\n",
       "      <td>Industrial Logistics Properties Trust - Common...</td>\n",
       "      <td>purchase</td>\n",
       "      <td>32500.5</td>\n",
       "      <td>Hon. Virginia Foxx</td>\n",
       "      <td>NC05</td>\n",
       "      <td>https://disclosures-clerk.house.gov/public_dis...</td>\n",
       "      <td>False</td>\n",
       "      <td>Republican</td>\n",
       "    </tr>\n",
       "    <tr>\n",
       "      <th>3</th>\n",
       "      <td>2021</td>\n",
       "      <td>10/04/2021</td>\n",
       "      <td>2021-09-28</td>\n",
       "      <td>joint</td>\n",
       "      <td>PM</td>\n",
       "      <td>Phillip Morris International Inc</td>\n",
       "      <td>purchase</td>\n",
       "      <td>32500.5</td>\n",
       "      <td>Hon. Virginia Foxx</td>\n",
       "      <td>NC05</td>\n",
       "      <td>https://disclosures-clerk.house.gov/public_dis...</td>\n",
       "      <td>False</td>\n",
       "      <td>Republican</td>\n",
       "    </tr>\n",
       "    <tr>\n",
       "      <th>4</th>\n",
       "      <td>2021</td>\n",
       "      <td>10/04/2021</td>\n",
       "      <td>2021-09-17</td>\n",
       "      <td>self</td>\n",
       "      <td>BLK</td>\n",
       "      <td>BlackRock Inc</td>\n",
       "      <td>sale_partial</td>\n",
       "      <td>8000.5</td>\n",
       "      <td>Hon. Alan S. Lowenthal</td>\n",
       "      <td>CA47</td>\n",
       "      <td>https://disclosures-clerk.house.gov/public_dis...</td>\n",
       "      <td>False</td>\n",
       "      <td>Democratic</td>\n",
       "    </tr>\n",
       "    <tr>\n",
       "      <th>...</th>\n",
       "      <td>...</td>\n",
       "      <td>...</td>\n",
       "      <td>...</td>\n",
       "      <td>...</td>\n",
       "      <td>...</td>\n",
       "      <td>...</td>\n",
       "      <td>...</td>\n",
       "      <td>...</td>\n",
       "      <td>...</td>\n",
       "      <td>...</td>\n",
       "      <td>...</td>\n",
       "      <td>...</td>\n",
       "      <td>...</td>\n",
       "    </tr>\n",
       "    <tr>\n",
       "      <th>15705</th>\n",
       "      <td>2020</td>\n",
       "      <td>06/10/2020</td>\n",
       "      <td>2020-04-09</td>\n",
       "      <td>NaN</td>\n",
       "      <td>SWK</td>\n",
       "      <td>Stanley Black &amp; Decker, Inc.</td>\n",
       "      <td>sale_partial</td>\n",
       "      <td>8000.5</td>\n",
       "      <td>Hon. Ed Perlmutter</td>\n",
       "      <td>CO07</td>\n",
       "      <td>https://disclosures-clerk.house.gov/public_dis...</td>\n",
       "      <td>False</td>\n",
       "      <td>Democratic</td>\n",
       "    </tr>\n",
       "    <tr>\n",
       "      <th>15706</th>\n",
       "      <td>2020</td>\n",
       "      <td>06/10/2020</td>\n",
       "      <td>2020-04-09</td>\n",
       "      <td>NaN</td>\n",
       "      <td>USB</td>\n",
       "      <td>U.S. Bancorp</td>\n",
       "      <td>sale_partial</td>\n",
       "      <td>8000.5</td>\n",
       "      <td>Hon. Ed Perlmutter</td>\n",
       "      <td>CO07</td>\n",
       "      <td>https://disclosures-clerk.house.gov/public_dis...</td>\n",
       "      <td>False</td>\n",
       "      <td>Democratic</td>\n",
       "    </tr>\n",
       "    <tr>\n",
       "      <th>15707</th>\n",
       "      <td>2020</td>\n",
       "      <td>06/10/2020</td>\n",
       "      <td>2020-03-13</td>\n",
       "      <td>NaN</td>\n",
       "      <td>BMY</td>\n",
       "      <td>Bristol-Myers Squibb Company</td>\n",
       "      <td>sale_full</td>\n",
       "      <td>175000.5</td>\n",
       "      <td>Hon. Nicholas Van Taylor</td>\n",
       "      <td>TX03</td>\n",
       "      <td>https://disclosures-clerk.house.gov/public_dis...</td>\n",
       "      <td>False</td>\n",
       "      <td>Republican</td>\n",
       "    </tr>\n",
       "    <tr>\n",
       "      <th>15708</th>\n",
       "      <td>2020</td>\n",
       "      <td>06/10/2020</td>\n",
       "      <td>2020-03-13</td>\n",
       "      <td>NaN</td>\n",
       "      <td>LLY</td>\n",
       "      <td>Eli Lilly and Company</td>\n",
       "      <td>sale_full</td>\n",
       "      <td>750000.5</td>\n",
       "      <td>Hon. Nicholas Van Taylor</td>\n",
       "      <td>TX03</td>\n",
       "      <td>https://disclosures-clerk.house.gov/public_dis...</td>\n",
       "      <td>False</td>\n",
       "      <td>Republican</td>\n",
       "    </tr>\n",
       "    <tr>\n",
       "      <th>15709</th>\n",
       "      <td>2020</td>\n",
       "      <td>06/10/2020</td>\n",
       "      <td>2020-03-13</td>\n",
       "      <td>NaN</td>\n",
       "      <td>DIS</td>\n",
       "      <td>Walt Disney Company</td>\n",
       "      <td>sale_full</td>\n",
       "      <td>375000.5</td>\n",
       "      <td>Hon. Nicholas Van Taylor</td>\n",
       "      <td>TX03</td>\n",
       "      <td>https://disclosures-clerk.house.gov/public_dis...</td>\n",
       "      <td>False</td>\n",
       "      <td>Republican</td>\n",
       "    </tr>\n",
       "  </tbody>\n",
       "</table>\n",
       "<p>15710 rows × 13 columns</p>\n",
       "</div>"
      ],
      "text/plain": [
       "       disclosure_year disclosure_date transaction_date  owner ticker  \\\n",
       "0                 2021      10/04/2021       2021-09-27  joint     BP   \n",
       "1                 2021      10/04/2021       2021-09-13  joint    XOM   \n",
       "2                 2021      10/04/2021       2021-09-10  joint   ILPT   \n",
       "3                 2021      10/04/2021       2021-09-28  joint     PM   \n",
       "4                 2021      10/04/2021       2021-09-17   self    BLK   \n",
       "...                ...             ...              ...    ...    ...   \n",
       "15705             2020      06/10/2020       2020-04-09    NaN    SWK   \n",
       "15706             2020      06/10/2020       2020-04-09    NaN    USB   \n",
       "15707             2020      06/10/2020       2020-03-13    NaN    BMY   \n",
       "15708             2020      06/10/2020       2020-03-13    NaN    LLY   \n",
       "15709             2020      06/10/2020       2020-03-13    NaN    DIS   \n",
       "\n",
       "                                       asset_description          type  \\\n",
       "0                                                 BP plc      purchase   \n",
       "1                                Exxon Mobil Corporation      purchase   \n",
       "2      Industrial Logistics Properties Trust - Common...      purchase   \n",
       "3                       Phillip Morris International Inc      purchase   \n",
       "4                                          BlackRock Inc  sale_partial   \n",
       "...                                                  ...           ...   \n",
       "15705                       Stanley Black & Decker, Inc.  sale_partial   \n",
       "15706                                       U.S. Bancorp  sale_partial   \n",
       "15707                       Bristol-Myers Squibb Company     sale_full   \n",
       "15708                              Eli Lilly and Company     sale_full   \n",
       "15709                                Walt Disney Company     sale_full   \n",
       "\n",
       "         amount            representative district  \\\n",
       "0        8000.5        Hon. Virginia Foxx     NC05   \n",
       "1        8000.5        Hon. Virginia Foxx     NC05   \n",
       "2       32500.5        Hon. Virginia Foxx     NC05   \n",
       "3       32500.5        Hon. Virginia Foxx     NC05   \n",
       "4        8000.5    Hon. Alan S. Lowenthal     CA47   \n",
       "...         ...                       ...      ...   \n",
       "15705    8000.5        Hon. Ed Perlmutter     CO07   \n",
       "15706    8000.5        Hon. Ed Perlmutter     CO07   \n",
       "15707  175000.5  Hon. Nicholas Van Taylor     TX03   \n",
       "15708  750000.5  Hon. Nicholas Van Taylor     TX03   \n",
       "15709  375000.5  Hon. Nicholas Van Taylor     TX03   \n",
       "\n",
       "                                                ptr_link  \\\n",
       "0      https://disclosures-clerk.house.gov/public_dis...   \n",
       "1      https://disclosures-clerk.house.gov/public_dis...   \n",
       "2      https://disclosures-clerk.house.gov/public_dis...   \n",
       "3      https://disclosures-clerk.house.gov/public_dis...   \n",
       "4      https://disclosures-clerk.house.gov/public_dis...   \n",
       "...                                                  ...   \n",
       "15705  https://disclosures-clerk.house.gov/public_dis...   \n",
       "15706  https://disclosures-clerk.house.gov/public_dis...   \n",
       "15707  https://disclosures-clerk.house.gov/public_dis...   \n",
       "15708  https://disclosures-clerk.house.gov/public_dis...   \n",
       "15709  https://disclosures-clerk.house.gov/public_dis...   \n",
       "\n",
       "       cap_gains_over_200_usd current_party  \n",
       "0                       False    Republican  \n",
       "1                       False    Republican  \n",
       "2                       False    Republican  \n",
       "3                       False    Republican  \n",
       "4                       False    Democratic  \n",
       "...                       ...           ...  \n",
       "15705                   False    Democratic  \n",
       "15706                   False    Democratic  \n",
       "15707                   False    Republican  \n",
       "15708                   False    Republican  \n",
       "15709                   False    Republican  \n",
       "\n",
       "[15710 rows x 13 columns]"
      ]
     },
     "execution_count": 23,
     "metadata": {},
     "output_type": "execute_result"
    }
   ],
   "source": [
    "with_party"
   ]
  },
  {
   "cell_type": "code",
   "execution_count": 24,
   "metadata": {},
   "outputs": [],
   "source": [
    "# convert the type of disclosure_date and transaction_date to datetime.\n",
    "with_party['disclosure_date'] = pd.to_datetime(with_party['disclosure_date'])"
   ]
  },
  {
   "cell_type": "code",
   "execution_count": 25,
   "metadata": {},
   "outputs": [],
   "source": [
    "# There are some mistyped date in the transaction_date data. Replace them with the true values and then convert to datetime.\n",
    "replace_false_dates = {'0009-06-09': '2020-06-09',\n",
    "                     '20222-08-09': '2022-08-09',\n",
    "                      '0021-08-02': '2021-08-02',\n",
    "                      '20222-07-18': '2022-07-18',\n",
    "                      '20221-11-18': '2021-11-18',\n",
    "                      '0021-06-22': '2021-06-22',\n",
    "                      '0201-06-22': '2021-06-22'\n",
    "                     }\n",
    "with_party['transaction_date'].replace(replace_false_dates, inplace=True)\n",
    "with_party['transaction_date'] = pd.to_datetime(with_party['transaction_date'])"
   ]
  },
  {
   "cell_type": "code",
   "execution_count": 26,
   "metadata": {
    "scrolled": true
   },
   "outputs": [
    {
     "name": "stdout",
     "output_type": "stream",
     "text": [
      "<class 'pandas.core.frame.DataFrame'>\n",
      "Int64Index: 15710 entries, 0 to 15709\n",
      "Data columns (total 13 columns):\n",
      " #   Column                  Non-Null Count  Dtype         \n",
      "---  ------                  --------------  -----         \n",
      " 0   disclosure_year         15710 non-null  int64         \n",
      " 1   disclosure_date         15710 non-null  datetime64[ns]\n",
      " 2   transaction_date        15710 non-null  datetime64[ns]\n",
      " 3   owner                   8352 non-null   object        \n",
      " 4   ticker                  14414 non-null  object        \n",
      " 5   asset_description       15706 non-null  object        \n",
      " 6   type                    15710 non-null  object        \n",
      " 7   amount                  15710 non-null  float64       \n",
      " 8   representative          15710 non-null  object        \n",
      " 9   district                15710 non-null  object        \n",
      " 10  ptr_link                15710 non-null  object        \n",
      " 11  cap_gains_over_200_usd  15710 non-null  bool          \n",
      " 12  current_party           15710 non-null  object        \n",
      "dtypes: bool(1), datetime64[ns](2), float64(1), int64(1), object(8)\n",
      "memory usage: 1.6+ MB\n"
     ]
    }
   ],
   "source": [
    "with_party.info()"
   ]
  },
  {
   "cell_type": "markdown",
   "metadata": {},
   "source": [
    "The data is now ready for invesitage."
   ]
  },
  {
   "cell_type": "markdown",
   "metadata": {},
   "source": [
    "### EDA (Exploratory Data Analysis)"
   ]
  },
  {
   "cell_type": "code",
   "execution_count": 29,
   "metadata": {},
   "outputs": [
    {
     "data": {
      "text/html": [
       "<div>\n",
       "<style scoped>\n",
       "    .dataframe tbody tr th:only-of-type {\n",
       "        vertical-align: middle;\n",
       "    }\n",
       "\n",
       "    .dataframe tbody tr th {\n",
       "        vertical-align: top;\n",
       "    }\n",
       "\n",
       "    .dataframe thead th {\n",
       "        text-align: right;\n",
       "    }\n",
       "</style>\n",
       "<table border=\"1\" class=\"dataframe\">\n",
       "  <thead>\n",
       "    <tr style=\"text-align: right;\">\n",
       "      <th>current_party</th>\n",
       "      <th>Democratic</th>\n",
       "      <th>Independent</th>\n",
       "      <th>Republican</th>\n",
       "    </tr>\n",
       "    <tr>\n",
       "      <th>disclosure_year</th>\n",
       "      <th></th>\n",
       "      <th></th>\n",
       "      <th></th>\n",
       "    </tr>\n",
       "  </thead>\n",
       "  <tbody>\n",
       "    <tr>\n",
       "      <th>2020</th>\n",
       "      <td>0.505034</td>\n",
       "      <td>1.0</td>\n",
       "      <td>0.410283</td>\n",
       "    </tr>\n",
       "    <tr>\n",
       "      <th>2021</th>\n",
       "      <td>0.337333</td>\n",
       "      <td>NaN</td>\n",
       "      <td>0.375043</td>\n",
       "    </tr>\n",
       "    <tr>\n",
       "      <th>2022</th>\n",
       "      <td>0.157632</td>\n",
       "      <td>NaN</td>\n",
       "      <td>0.214675</td>\n",
       "    </tr>\n",
       "  </tbody>\n",
       "</table>\n",
       "</div>"
      ],
      "text/plain": [
       "current_party    Democratic  Independent  Republican\n",
       "disclosure_year                                     \n",
       "2020               0.505034          1.0    0.410283\n",
       "2021               0.337333          NaN    0.375043\n",
       "2022               0.157632          NaN    0.214675"
      ]
     },
     "execution_count": 29,
     "metadata": {},
     "output_type": "execute_result"
    }
   ],
   "source": [
    "year_vs_party = with_party.pivot_table(index = 'disclosure_year', columns = ['current_party'],values = 'type', aggfunc='size')\n",
    "year_vs_party/ year_vs_party.sum()"
   ]
  },
  {
   "cell_type": "code",
   "execution_count": null,
   "metadata": {},
   "outputs": [],
   "source": []
  },
  {
   "cell_type": "markdown",
   "metadata": {},
   "source": [
    "### Assessment of Missingness"
   ]
  },
  {
   "cell_type": "markdown",
   "metadata": {},
   "source": [
    "- ### We investigate the missingness of ticker.\n",
    "Firstly, we assume the missingness of ticker is NMAR, becuase it may related to its actual value. Since a lot of  Stock delisting in recent years, their ticker will be delete from the stock database. AS a result, it will causing the missingness of the stock ticker. We can collect the data of recent year. Stocks that have been delisted in recent years\n"
   ]
  },
  {
   "cell_type": "markdown",
   "metadata": {},
   "source": [
    "### Now we need to test if the the missingness of ticker is MCAR"
   ]
  },
  {
   "cell_type": "code",
   "execution_count": null,
   "metadata": {
    "ExecuteTime": {
     "end_time": "2019-10-31T23:36:28.662099Z",
     "start_time": "2019-10-31T23:36:28.660016Z"
    }
   },
   "outputs": [],
   "source": [
    "with_party = with_party.assign(ticker_missing = with_party[\"ticker\"].isna())"
   ]
  },
  {
   "cell_type": "code",
   "execution_count": null,
   "metadata": {},
   "outputs": [],
   "source": [
    "# p-value for amount\n",
    "n_repetitions = 500\n",
    "mean_diff = []\n",
    "for _ in range(n_repetitions):\n",
    "    \n",
    "    # Shuffling genders and assigning back to the DataFrame\n",
    "    with_party['ticker_missing'] = np.random.permutation(with_party['ticker_missing'])\n",
    "    \n",
    "    # Computing and storing TVD\n",
    "    stat = abs(with_party.groupby(\"ticker_missing\")[\"avg_amount\"].mean().diff().loc[True])\n",
    "    \n",
    "    \n",
    "    mean_diff.append(stat)"
   ]
  },
  {
   "cell_type": "code",
   "execution_count": null,
   "metadata": {},
   "outputs": [],
   "source": [
    "#p-value to test if the amount and ticker related \n",
    "pval = np.mean(np.array(mean_diff) >= obs_avg_amount)\n",
    "pval"
   ]
  },
  {
   "cell_type": "code",
   "execution_count": 46,
   "metadata": {},
   "outputs": [
    {
     "ename": "AttributeError",
     "evalue": "'DataFrame' object has no attribute 'heand'",
     "output_type": "error",
     "traceback": [
      "\u001b[1;31m---------------------------------------------------------------------------\u001b[0m",
      "\u001b[1;31mAttributeError\u001b[0m                            Traceback (most recent call last)",
      "Cell \u001b[1;32mIn [46], line 1\u001b[0m\n\u001b[1;32m----> 1\u001b[0m \u001b[43mwith_party\u001b[49m\u001b[38;5;241;43m.\u001b[39;49m\u001b[43mheand\u001b[49m()\n",
      "File \u001b[1;32m~\\anaconda3\\envs\\dsc80\\lib\\site-packages\\pandas\\core\\generic.py:5487\u001b[0m, in \u001b[0;36mNDFrame.__getattr__\u001b[1;34m(self, name)\u001b[0m\n\u001b[0;32m   5480\u001b[0m \u001b[38;5;28;01mif\u001b[39;00m (\n\u001b[0;32m   5481\u001b[0m     name \u001b[38;5;129;01mnot\u001b[39;00m \u001b[38;5;129;01min\u001b[39;00m \u001b[38;5;28mself\u001b[39m\u001b[38;5;241m.\u001b[39m_internal_names_set\n\u001b[0;32m   5482\u001b[0m     \u001b[38;5;129;01mand\u001b[39;00m name \u001b[38;5;129;01mnot\u001b[39;00m \u001b[38;5;129;01min\u001b[39;00m \u001b[38;5;28mself\u001b[39m\u001b[38;5;241m.\u001b[39m_metadata\n\u001b[0;32m   5483\u001b[0m     \u001b[38;5;129;01mand\u001b[39;00m name \u001b[38;5;129;01mnot\u001b[39;00m \u001b[38;5;129;01min\u001b[39;00m \u001b[38;5;28mself\u001b[39m\u001b[38;5;241m.\u001b[39m_accessors\n\u001b[0;32m   5484\u001b[0m     \u001b[38;5;129;01mand\u001b[39;00m \u001b[38;5;28mself\u001b[39m\u001b[38;5;241m.\u001b[39m_info_axis\u001b[38;5;241m.\u001b[39m_can_hold_identifiers_and_holds_name(name)\n\u001b[0;32m   5485\u001b[0m ):\n\u001b[0;32m   5486\u001b[0m     \u001b[38;5;28;01mreturn\u001b[39;00m \u001b[38;5;28mself\u001b[39m[name]\n\u001b[1;32m-> 5487\u001b[0m \u001b[38;5;28;01mreturn\u001b[39;00m \u001b[38;5;28;43mobject\u001b[39;49m\u001b[38;5;241;43m.\u001b[39;49m\u001b[38;5;21;43m__getattribute__\u001b[39;49m\u001b[43m(\u001b[49m\u001b[38;5;28;43mself\u001b[39;49m\u001b[43m,\u001b[49m\u001b[43m \u001b[49m\u001b[43mname\u001b[49m\u001b[43m)\u001b[49m\n",
      "\u001b[1;31mAttributeError\u001b[0m: 'DataFrame' object has no attribute 'heand'"
     ]
    }
   ],
   "source": [
    "with_party.heand()"
   ]
  },
  {
   "cell_type": "code",
   "execution_count": 87,
   "metadata": {},
   "outputs": [],
   "source": [
    "dic={}"
   ]
  },
  {
   "cell_type": "code",
   "execution_count": 91,
   "metadata": {},
   "outputs": [
    {
     "data": {
      "text/plain": [
       "['disclosure_year',\n",
       " 'disclosure_date',\n",
       " 'transaction_date',\n",
       " 'owner',\n",
       " 'ticker',\n",
       " 'asset_description',\n",
       " 'type',\n",
       " 'representative',\n",
       " 'district',\n",
       " 'ptr_link',\n",
       " 'cap_gains_over_200_usd']"
      ]
     },
     "execution_count": 91,
     "metadata": {},
     "output_type": "execute_result"
    }
   ],
   "source": [
    "#filter the columns we need to do the tvd permutaiton test \n",
    "tvd_tester =with_party.columns.to_list()[0:-5]\n",
    "tvd_tester.pop(7)\n",
    "tvd_tester"
   ]
  },
  {
   "cell_type": "code",
   "execution_count": 92,
   "metadata": {},
   "outputs": [],
   "source": [
    "#test the p-value\n",
    "for i in tvd_tester:\n",
    "    tvd_permutation_test(with_party,i)"
   ]
  },
  {
   "cell_type": "markdown",
   "metadata": {},
   "source": [
    "The reuslt shows that all of the category columns are independent with the ticker ,because all of the p-value are more than 0.05"
   ]
  },
  {
   "cell_type": "code",
   "execution_count": 89,
   "metadata": {},
   "outputs": [
    {
     "data": {
      "text/plain": [
       "{'disclosure_year': 1.0,\n",
       " 'disclosure_date': 1.0,\n",
       " 'transaction_date': 1.0,\n",
       " 'owner': 1.0,\n",
       " 'ticker': 1.0,\n",
       " 'asset_description': 1.0,\n",
       " 'type': 1.0,\n",
       " 'representative': 1.0,\n",
       " 'district': 1.0,\n",
       " 'ptr_link': 1.0,\n",
       " 'cap_gains_over_200_usd': 1.0}"
      ]
     },
     "execution_count": 89,
     "metadata": {},
     "output_type": "execute_result"
    }
   ],
   "source": [
    "dic"
   ]
  },
  {
   "cell_type": "code",
   "execution_count": 93,
   "metadata": {},
   "outputs": [],
   "source": [
    "# the function which used to calculate the TVD of ticker missing and other columns and calculate the p-value\n",
    "def tvd_permutation_test(df,x):\n",
    "    with_party = df.copy()\n",
    "    presentative_dis =with_party.pivot_table(index=x, columns='ticker_missing', aggfunc='size').fillna(0)\n",
    "    presentative_dis = presentative_dis / presentative_dis.sum()\n",
    "    obs_pre = presentative_dis.diff(axis=1).iloc[:, -1].abs().sum()/2\n",
    "    \n",
    "    \n",
    "    n_repetitions = 500\n",
    "    tvds = []\n",
    "    for _ in range(n_repetitions):\n",
    "        # Shuffling ticker missing and assigning back to the DataFrame\n",
    "        with_party['ticker_missing'] = np.random.permutation(with_party['ticker_missing'])\n",
    "\n",
    "        # Computing and storing TVD\n",
    "        presentative_dis =with_party.pivot_table(index=x, columns='ticker_missing', aggfunc='size').fillna(0)\n",
    "\n",
    "        tvd = presentative_dis.diff(axis=1).iloc[:, -1].abs().sum()/2\n",
    "        tvds.append(tvd)\n",
    "    pval_r = np.mean(np.array(tvds) >= obs_pre)\n",
    "    dic[x]=pval_r"
   ]
  },
  {
   "cell_type": "code",
   "execution_count": null,
   "metadata": {},
   "outputs": [],
   "source": [
    "#clean the amount column to the conform same format \n",
    "with_party[\"amount\"] = with_party[\"amount\"].replace({\"$1,001 -\":\"$0 - $1,001\",\n",
    "                             \"$1,000,000 +\":\"$1,000,000 - $5,000,000\",\n",
    "                             \"$50,000,000 +\":\"$50,000,000 - $50,000,000\"})"
   ]
  },
  {
   "cell_type": "code",
   "execution_count": null,
   "metadata": {},
   "outputs": [],
   "source": [
    "#calculate the average of the amount of trade\n",
    "with_party[\"avg_amount\"] = with_party[\"amount\"].str.split().apply(avg_amount)"
   ]
  },
  {
   "cell_type": "code",
   "execution_count": 100,
   "metadata": {},
   "outputs": [
    {
     "data": {
      "text/plain": [
       "44392.378332611734"
      ]
     },
     "execution_count": 100,
     "metadata": {},
     "output_type": "execute_result"
    }
   ],
   "source": [
    "#calculate the amount difference of missingness \n",
    "obs_avg_amount = abs(with_party.groupby(\"ticker_missing\")[\"avg_amount\"].mean().diff().loc[True])\n",
    "obs_avg_amount"
   ]
  },
  {
   "cell_type": "code",
   "execution_count": 101,
   "metadata": {},
   "outputs": [],
   "source": [
    "# p-value for amount \n",
    "n_repetitions = 500\n",
    "mean_diff = []\n",
    "for _ in range(n_repetitions):\n",
    "    \n",
    "    # Shuffling genders and assigning back to the DataFrame\n",
    "    with_party['ticker_missing'] = np.random.permutation(with_party['ticker_missing'])\n",
    "    \n",
    "    # Computing and storing TVD\n",
    "    stat = abs(with_party.groupby(\"ticker_missing\")[\"avg_amount\"].mean().diff().loc[True])\n",
    "    \n",
    "    \n",
    "    mean_diff.append(stat)"
   ]
  },
  {
   "cell_type": "markdown",
   "metadata": {},
   "source": [
    "Since the p-value of the amount is less than 0.05 we reject the null hypothesis, we find that the ticker related to the amount"
   ]
  },
  {
   "cell_type": "code",
   "execution_count": 102,
   "metadata": {},
   "outputs": [
    {
     "data": {
      "text/plain": [
       "0.03"
      ]
     },
     "execution_count": 102,
     "metadata": {},
     "output_type": "execute_result"
    }
   ],
   "source": [
    "#p-value to test if the amount and ticker related \n",
    "pval = np.mean(np.array(mean_diff) >= obs_avg_amount)\n",
    "pval"
   ]
  },
  {
   "cell_type": "markdown",
   "metadata": {},
   "source": [
    "### Hypothesis Test / Permutation Test"
   ]
  },
  {
   "cell_type": "markdown",
   "metadata": {},
   "source": [
    "## Null hypothesis: \n",
    "party and trade amount are not related – the high average trade amount of democratic party is due to chance alone.\n",
    "\n",
    "## Alternative hypothesis: \n",
    "party and trade amount are related  – the high average trade amount of democratic party is due to chance alone.\n",
    "\n",
    "## test statistic:\n",
    "the mean of democratic amount \n",
    "## Significance level:\n",
    "we choose the siginificance level of 5% because this is the strict level of siginicicance level and we want to avoid false positive rate.\n",
    "## Result: \n",
    "Since the p-value is 0 which smaller than 0.05, we reject the null hypothesis"
   ]
  },
  {
   "cell_type": "code",
   "execution_count": null,
   "metadata": {
    "ExecuteTime": {
     "end_time": "2019-10-31T23:36:28.666489Z",
     "start_time": "2019-10-31T23:36:28.664381Z"
    }
   },
   "outputs": [],
   "source": [
    "#calculate the count and average trade amount of different party group \n",
    "party_table = with_party.groupby(\"current_party\")[\"avg_amount\"].agg(['mean', 'count'])"
   ]
  },
  {
   "cell_type": "code",
   "execution_count": null,
   "metadata": {},
   "outputs": [],
   "source": [
    "#get the total number of the democratic people \n",
    "democra_count =party_table.loc[\"Democratic\"][\"count\"]"
   ]
  },
  {
   "cell_type": "markdown",
   "metadata": {},
   "source": [
    "The table of the party for understanding the count and average trade amount of different party group "
   ]
  },
  {
   "cell_type": "code",
   "execution_count": null,
   "metadata": {},
   "outputs": [],
   "source": [
    "party_table"
   ]
  },
  {
   "cell_type": "code",
   "execution_count": 56,
   "metadata": {},
   "outputs": [
    {
     "data": {
      "text/plain": [
       "62229.16729380657"
      ]
     },
     "execution_count": 56,
     "metadata": {},
     "output_type": "execute_result"
    }
   ],
   "source": [
    "#observe value of mean of the trader amount of the democratic party\n",
    "obs_de_amount = party_table.loc[\"Democratic\"][\"mean\"]\n",
    "obs_de_amount"
   ]
  },
  {
   "cell_type": "code",
   "execution_count": 55,
   "metadata": {},
   "outputs": [],
   "source": [
    "# doing the hypothesis test to get the test statistic\n",
    "num_reps = 10000\n",
    "averages = []\n",
    "for i in np.arange(num_reps):\n",
    "    random_sample = with_party.sample(int(democra_count))\n",
    "    new_average = random_sample['avg_amount'].mean()\n",
    "    averages.append(new_average)"
   ]
  },
  {
   "cell_type": "code",
   "execution_count": null,
   "metadata": {},
   "outputs": [],
   "source": [
    "#calculate the p-value \n",
    "np.mean(np.array(averages)>=obs_avg_amount)"
   ]
  },
  {
   "cell_type": "markdown",
   "metadata": {},
   "source": [
    "The histogram graph which shows how far the obeserve value and hypothesis test distribution "
   ]
  },
  {
   "cell_type": "code",
   "execution_count": null,
   "metadata": {},
   "outputs": [],
   "source": [
    "pd.Series(averages).plot(kind='hist', \n",
    "                         density=True,\n",
    "                         bins=30,\n",
    "                         ec='w',\n",
    "                         title='Average Bill Lengths in Samples of Size 47');\n",
    "plt.axvline(x=obs_avg_amount, color='red', linewidth=2);"
   ]
  }
 ],
 "metadata": {
  "kernelspec": {
   "display_name": "Python 3 (ipykernel)",
   "language": "python",
   "name": "python3"
  },
  "language_info": {
   "codemirror_mode": {
    "name": "ipython",
    "version": 3
   },
   "file_extension": ".py",
   "mimetype": "text/x-python",
   "name": "python",
   "nbconvert_exporter": "python",
   "pygments_lexer": "ipython3",
   "version": "3.8.13"
  }
 },
 "nbformat": 4,
 "nbformat_minor": 2
}
